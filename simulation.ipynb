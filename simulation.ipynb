{
 "cells": [
  {
   "cell_type": "code",
   "execution_count": 1,
   "id": "5413b4dd-3b26-4291-ada4-a42f5ea0778e",
   "metadata": {
    "tags": []
   },
   "outputs": [],
   "source": [
    "import numpy as np"
   ]
  },
  {
   "cell_type": "markdown",
   "id": "8de04d1a-adc2-4e99-917a-3e0c4ba83025",
   "metadata": {},
   "source": [
    "## 1. How likely is it that you roll doubles when rolling two dice?"
   ]
  },
  {
   "cell_type": "code",
   "execution_count": 2,
   "id": "2eac61ba-13b2-4e82-a87b-ebff878da04b",
   "metadata": {
    "tags": []
   },
   "outputs": [],
   "source": [
    "dice_roll = ([1,2,3,4,5,6])\n",
    "dice_trials = 2\n",
    "dice_simulation = 1_000_000\n",
    "two_dice = np.random.choice(dice_roll,(dice_simulation, dice_trials))"
   ]
  },
  {
   "cell_type": "code",
   "execution_count": 3,
   "id": "a0e30539-7011-4e24-902e-156612fd7a11",
   "metadata": {
    "tags": []
   },
   "outputs": [
    {
     "data": {
      "text/plain": [
       "16.69"
      ]
     },
     "execution_count": 3,
     "metadata": {},
     "output_type": "execute_result"
    }
   ],
   "source": [
    "dub_chance = ((((two_dice == 1).sum(axis=1)) == 2)|(\n",
    "    ((two_dice == 2).sum(axis=1)) == 2)|(\n",
    "    ((two_dice == 3).sum(axis=1)) == 2)|(\n",
    "    ((two_dice == 4).sum(axis=1) == 2)|(\n",
    "    ((two_dice == 5).sum(axis=1) == 2)|(\n",
    "    ((two_dice == 6).sum(axis=1) == 2))))).sum() / len(two_dice)\n",
    "round(dub_chance*100,2)"
   ]
  },
  {
   "cell_type": "markdown",
   "id": "207f3e13-4eda-4294-8f32-3d955ac9a650",
   "metadata": {},
   "source": [
    "## 2. If you flip 8 coins, what is the probability of getting exactly 3 heads? "
   ]
  },
  {
   "cell_type": "code",
   "execution_count": 4,
   "id": "ec59d51f-7614-4b24-affd-fa4cc923ae8e",
   "metadata": {
    "tags": []
   },
   "outputs": [],
   "source": [
    "coin_flip = ['H','T']\n",
    "coin_trials = 8\n",
    "coin_simulation = 1_000_000\n",
    "eight_flips = np.random.choice(coin_flip,(coin_simulation, coin_trials))"
   ]
  },
  {
   "cell_type": "code",
   "execution_count": 5,
   "id": "37318d6b-567f-40fd-be16-86bf18285062",
   "metadata": {
    "tags": []
   },
   "outputs": [
    {
     "data": {
      "text/plain": [
       "array([5, 3, 6, ..., 6, 6, 4])"
      ]
     },
     "execution_count": 5,
     "metadata": {},
     "output_type": "execute_result"
    }
   ],
   "source": [
    "(eight_flips == 'H').sum(axis=1)"
   ]
  },
  {
   "cell_type": "code",
   "execution_count": 6,
   "id": "b694785e-1f4e-4795-8506-8f18eab189f7",
   "metadata": {
    "tags": []
   },
   "outputs": [
    {
     "data": {
      "text/plain": [
       "21.9"
      ]
     },
     "execution_count": 6,
     "metadata": {},
     "output_type": "execute_result"
    }
   ],
   "source": [
    "round(((eight_flips == 'H').sum(axis=1) ==3).sum() / len(eight_flips)*100,2)"
   ]
  },
  {
   "cell_type": "markdown",
   "id": "9ac1799d-46ab-43a8-9a25-7ca979123684",
   "metadata": {},
   "source": [
    "### a. What is the probability of getting more than 3 heads?"
   ]
  },
  {
   "cell_type": "code",
   "execution_count": 7,
   "id": "d0c156e4-2319-4dc1-9021-15d948dd0ce3",
   "metadata": {
    "tags": []
   },
   "outputs": [
    {
     "data": {
      "text/plain": [
       "63.65"
      ]
     },
     "execution_count": 7,
     "metadata": {},
     "output_type": "execute_result"
    }
   ],
   "source": [
    "round(((eight_flips == 'H').sum(axis=1) > 3).sum() / len(eight_flips)*100,2)"
   ]
  },
  {
   "cell_type": "markdown",
   "id": "f8dfe479-cb5b-4f13-9ada-e404c31b8cf8",
   "metadata": {},
   "source": [
    "## 3. There are approximitely 3 web development cohorts for every 1 data science cohort at Codeup. Assuming that Codeup randomly selects an alumni to put on a billboard, what are the odds that the two billboards I drive past both have data science students on them?"
   ]
  },
  {
   "cell_type": "code",
   "execution_count": 8,
   "id": "ca701aa8-373d-4e3d-8b21-14b7e1ec290f",
   "metadata": {
    "tags": []
   },
   "outputs": [],
   "source": [
    "cohort_type = ['WD','WD','WD','DS']\n",
    "bill_trials = 2\n",
    "bill_sim = 1_000_000\n",
    "chance_of_bill = np.random.choice(cohort_type,(bill_sim, bill_trials))"
   ]
  },
  {
   "cell_type": "code",
   "execution_count": 9,
   "id": "62110370-030d-4a53-a599-d37f4e91ede3",
   "metadata": {
    "tags": []
   },
   "outputs": [
    {
     "data": {
      "text/plain": [
       "array([0, 1, 0, ..., 0, 0, 1])"
      ]
     },
     "execution_count": 9,
     "metadata": {},
     "output_type": "execute_result"
    }
   ],
   "source": [
    "(chance_of_bill == 'DS').sum(axis=1)"
   ]
  },
  {
   "cell_type": "code",
   "execution_count": 10,
   "id": "5d6c00cf-3a33-4497-909a-dfd41994ee62",
   "metadata": {
    "tags": []
   },
   "outputs": [
    {
     "data": {
      "text/plain": [
       "6.27"
      ]
     },
     "execution_count": 10,
     "metadata": {},
     "output_type": "execute_result"
    }
   ],
   "source": [
    "round(((chance_of_bill == 'DS').sum(axis=1) == 2).sum() / len(chance_of_bill)*100,2)"
   ]
  },
  {
   "cell_type": "markdown",
   "id": "23f606af-fccb-40b7-b822-1c62dcf6301a",
   "metadata": {},
   "source": [
    "## 4. Codeup students buy, on average, 3 poptart packages with a standard deviation of 1.5 a day from the snack vending machine. If on monday the machine is restocked with 17 poptart packages, how likely is it that I will be able to buy some poptarts on Friday afternoon? (Remember, if you have mean and standard deviation, use the np.random.normal) You'll need to make a judgement call on how to handle some of your values"
   ]
  },
  {
   "cell_type": "code",
   "execution_count": 11,
   "id": "571e7404-65f3-4769-85ab-bd38251a2270",
   "metadata": {
    "tags": []
   },
   "outputs": [],
   "source": [
    "mean_pop = 3\n",
    "std_pop = 1.5\n",
    "simulated_pop = 1_000_000\n",
    "pop_trial = 5\n",
    "can_i_buy = np.random.normal(mean_pop, std_pop, size=(simulated_pop, pop_trial))"
   ]
  },
  {
   "cell_type": "code",
   "execution_count": 12,
   "id": "41c4793e-ba2a-4aa7-a3db-0fe4f9a5e1cf",
   "metadata": {
    "tags": []
   },
   "outputs": [
    {
     "data": {
      "text/plain": [
       "61.69"
      ]
     },
     "execution_count": 12,
     "metadata": {},
     "output_type": "execute_result"
    }
   ],
   "source": [
    "round(((can_i_buy.sum(axis=1) <= 16).mean())*100,2)"
   ]
  },
  {
   "cell_type": "markdown",
   "id": "366e15ae-769e-4dad-83ea-9ddbc2902cb0",
   "metadata": {},
   "source": [
    "## 5. Compare Heights\n",
    "- Men have an average height of 178 cm and standard deviation of 8cm.\n",
    "- Women have a mean of 170, sd = 6cm.\n",
    "- Since you have means and standard deviations, you can use np.random.normal to generate observations.\n",
    "- If a man and woman are chosen at random, what is the likelihood the woman is taller than the man?"
   ]
  },
  {
   "cell_type": "code",
   "execution_count": 13,
   "id": "10a1f5e6-2c73-4ca5-90c4-d43bfa345489",
   "metadata": {
    "tags": []
   },
   "outputs": [
    {
     "data": {
      "text/plain": [
       "\u001b[0;31mDocstring:\u001b[0m\n",
       "normal(loc=0.0, scale=1.0, size=None)\n",
       "\n",
       "Draw random samples from a normal (Gaussian) distribution.\n",
       "\n",
       "The probability density function of the normal distribution, first\n",
       "derived by De Moivre and 200 years later by both Gauss and Laplace\n",
       "independently [2]_, is often called the bell curve because of\n",
       "its characteristic shape (see the example below).\n",
       "\n",
       "The normal distributions occurs often in nature.  For example, it\n",
       "describes the commonly occurring distribution of samples influenced\n",
       "by a large number of tiny, random disturbances, each with its own\n",
       "unique distribution [2]_.\n",
       "\n",
       ".. note::\n",
       "    New code should use the `~numpy.random.Generator.normal`\n",
       "    method of a `~numpy.random.Generator` instance instead;\n",
       "    please see the :ref:`random-quick-start`.\n",
       "\n",
       "Parameters\n",
       "----------\n",
       "loc : float or array_like of floats\n",
       "    Mean (\"centre\") of the distribution.\n",
       "scale : float or array_like of floats\n",
       "    Standard deviation (spread or \"width\") of the distribution. Must be\n",
       "    non-negative.\n",
       "size : int or tuple of ints, optional\n",
       "    Output shape.  If the given shape is, e.g., ``(m, n, k)``, then\n",
       "    ``m * n * k`` samples are drawn.  If size is ``None`` (default),\n",
       "    a single value is returned if ``loc`` and ``scale`` are both scalars.\n",
       "    Otherwise, ``np.broadcast(loc, scale).size`` samples are drawn.\n",
       "\n",
       "Returns\n",
       "-------\n",
       "out : ndarray or scalar\n",
       "    Drawn samples from the parameterized normal distribution.\n",
       "\n",
       "See Also\n",
       "--------\n",
       "scipy.stats.norm : probability density function, distribution or\n",
       "    cumulative density function, etc.\n",
       "random.Generator.normal: which should be used for new code.\n",
       "\n",
       "Notes\n",
       "-----\n",
       "The probability density for the Gaussian distribution is\n",
       "\n",
       ".. math:: p(x) = \\frac{1}{\\sqrt{ 2 \\pi \\sigma^2 }}\n",
       "                 e^{ - \\frac{ (x - \\mu)^2 } {2 \\sigma^2} },\n",
       "\n",
       "where :math:`\\mu` is the mean and :math:`\\sigma` the standard\n",
       "deviation. The square of the standard deviation, :math:`\\sigma^2`,\n",
       "is called the variance.\n",
       "\n",
       "The function has its peak at the mean, and its \"spread\" increases with\n",
       "the standard deviation (the function reaches 0.607 times its maximum at\n",
       ":math:`x + \\sigma` and :math:`x - \\sigma` [2]_).  This implies that\n",
       "normal is more likely to return samples lying close to the mean, rather\n",
       "than those far away.\n",
       "\n",
       "References\n",
       "----------\n",
       ".. [1] Wikipedia, \"Normal distribution\",\n",
       "       https://en.wikipedia.org/wiki/Normal_distribution\n",
       ".. [2] P. R. Peebles Jr., \"Central Limit Theorem\" in \"Probability,\n",
       "       Random Variables and Random Signal Principles\", 4th ed., 2001,\n",
       "       pp. 51, 51, 125.\n",
       "\n",
       "Examples\n",
       "--------\n",
       "Draw samples from the distribution:\n",
       "\n",
       ">>> mu, sigma = 0, 0.1 # mean and standard deviation\n",
       ">>> s = np.random.normal(mu, sigma, 1000)\n",
       "\n",
       "Verify the mean and the variance:\n",
       "\n",
       ">>> abs(mu - np.mean(s))\n",
       "0.0  # may vary\n",
       "\n",
       ">>> abs(sigma - np.std(s, ddof=1))\n",
       "0.1  # may vary\n",
       "\n",
       "Display the histogram of the samples, along with\n",
       "the probability density function:\n",
       "\n",
       ">>> import matplotlib.pyplot as plt\n",
       ">>> count, bins, ignored = plt.hist(s, 30, density=True)\n",
       ">>> plt.plot(bins, 1/(sigma * np.sqrt(2 * np.pi)) *\n",
       "...                np.exp( - (bins - mu)**2 / (2 * sigma**2) ),\n",
       "...          linewidth=2, color='r')\n",
       ">>> plt.show()\n",
       "\n",
       "Two-by-four array of samples from the normal distribution with\n",
       "mean 3 and standard deviation 2.5:\n",
       "\n",
       ">>> np.random.normal(3, 2.5, size=(2, 4))\n",
       "array([[-4.49401501,  4.00950034, -1.81814867,  7.29718677],   # random\n",
       "       [ 0.39924804,  4.68456316,  4.99394529,  4.84057254]])  # random\n",
       "\u001b[0;31mType:\u001b[0m      builtin_function_or_method"
      ]
     },
     "metadata": {},
     "output_type": "display_data"
    }
   ],
   "source": [
    "np.random.normal?\n"
   ]
  },
  {
   "cell_type": "code",
   "execution_count": 14,
   "id": "1be52044-feda-4cbf-91c4-84f00ba48ca5",
   "metadata": {
    "tags": []
   },
   "outputs": [],
   "source": [
    "men_height = np.random.normal(178,8,1_000_000)\n",
    "women_height = np.random.normal(170,6,1_000_000)"
   ]
  },
  {
   "cell_type": "code",
   "execution_count": 15,
   "id": "a3f61919-6b7e-4e5a-ac75-d087eedca578",
   "metadata": {
    "tags": []
   },
   "outputs": [
    {
     "data": {
      "text/plain": [
       "21.22"
      ]
     },
     "execution_count": 15,
     "metadata": {},
     "output_type": "execute_result"
    }
   ],
   "source": [
    "round((women_height > men_height).sum()/len(women_height + men_height)*100,2)"
   ]
  },
  {
   "cell_type": "markdown",
   "id": "5f17cb8b-363d-41ac-ad7a-84151f8d202d",
   "metadata": {},
   "source": [
    "## 6. When installing anaconda on a student's computer, there's a 1 in 250 chance that the download is corrupted and the installation fails. \n",
    "### a. What are the odds that after having 50 students download anaconda, no one has an installation issue? "
   ]
  },
  {
   "cell_type": "code",
   "execution_count": 17,
   "id": "1c9623f2-b8da-403e-a63f-9606b52940d1",
   "metadata": {
    "tags": []
   },
   "outputs": [
    {
     "data": {
      "text/plain": [
       "array([[0.41343974, 0.42822056, 0.40272625, ..., 0.81423207, 0.81791679,\n",
       "        0.01976793],\n",
       "       [0.17106155, 0.98763406, 0.59295242, ..., 0.86248698, 0.63357056,\n",
       "        0.53941967],\n",
       "       [0.84672967, 0.15561818, 0.96312584, ..., 0.5483576 , 0.0637806 ,\n",
       "        0.24198328],\n",
       "       ...,\n",
       "       [0.08618638, 0.7263591 , 0.79340954, ..., 0.773583  , 0.82203078,\n",
       "        0.08718022],\n",
       "       [0.56156597, 0.4852024 , 0.9172024 , ..., 0.73218216, 0.03597268,\n",
       "        0.38883523],\n",
       "       [0.69309653, 0.05616455, 0.22688031, ..., 0.11828617, 0.70319152,\n",
       "        0.84523822]])"
      ]
     },
     "execution_count": 17,
     "metadata": {},
     "output_type": "execute_result"
    }
   ],
   "source": [
    "p_corrupt = .004\n",
    "student_trials = 50\n",
    "student_sims = 1_000_000\n",
    "corrupt_chance = np.random.random((student_sims,student_trials))\n",
    "corrupt_chance"
   ]
  },
  {
   "cell_type": "code",
   "execution_count": 19,
   "id": "7a0f4666-0d73-4013-8b31-cafad1b68e45",
   "metadata": {
    "tags": []
   },
   "outputs": [
    {
     "data": {
      "text/plain": [
       "81.85"
      ]
     },
     "execution_count": 19,
     "metadata": {},
     "output_type": "execute_result"
    }
   ],
   "source": [
    "corruption = corrupt_chance < p_corrupt \n",
    "round(((corruption.sum(axis=1) == 0).mean())*100,2)"
   ]
  },
  {
   "cell_type": "markdown",
   "id": "aa24aafb-0375-42c7-b001-b9df0f37457a",
   "metadata": {},
   "source": [
    "#### a. a. 100 students?"
   ]
  },
  {
   "cell_type": "code",
   "execution_count": 20,
   "id": "b6c0ea17-c1c5-4c5d-acdf-0e2ffe92c44f",
   "metadata": {
    "tags": []
   },
   "outputs": [
    {
     "data": {
      "text/plain": [
       "66.96"
      ]
     },
     "execution_count": 20,
     "metadata": {},
     "output_type": "execute_result"
    }
   ],
   "source": [
    "corrupt_chance_100 = np.random.random((student_sims,student_trials*2))\n",
    "corruption_100 = corrupt_chance_100 < p_corrupt \n",
    "round(((corruption_100.sum(axis=1) == 0).mean())*100,2)"
   ]
  },
  {
   "cell_type": "markdown",
   "id": "6a35a159-b7e6-45f6-9a54-b5cf35584d7b",
   "metadata": {},
   "source": [
    "### b. What is the probability that we observe an installation issue within the first 150 students that download anaconda?"
   ]
  },
  {
   "cell_type": "code",
   "execution_count": 21,
   "id": "5d1b8214-a62f-4479-9950-ee1bcabd34da",
   "metadata": {
    "tags": []
   },
   "outputs": [
    {
     "data": {
      "text/plain": [
       "45.24"
      ]
     },
     "execution_count": 21,
     "metadata": {},
     "output_type": "execute_result"
    }
   ],
   "source": [
    "corrupt_chance_150 = np.random.random((student_sims,student_trials*3))\n",
    "corruption_150 = corrupt_chance_150 < p_corrupt \n",
    "round(((corruption_150.sum(axis=1) >= 1).mean())*100,2)"
   ]
  },
  {
   "cell_type": "markdown",
   "id": "c3c1fece-aa9a-491d-b8c3-b431d1285ab3",
   "metadata": {},
   "source": [
    "### c. How likely is it that 450 students all download anaconda without an issue?"
   ]
  },
  {
   "cell_type": "code",
   "execution_count": 22,
   "id": "3225d51e-22d5-4c6f-b320-31884f5b9d63",
   "metadata": {
    "tags": []
   },
   "outputs": [
    {
     "data": {
      "text/plain": [
       "16.46"
      ]
     },
     "execution_count": 22,
     "metadata": {},
     "output_type": "execute_result"
    }
   ],
   "source": [
    "corrupt_chance_all = np.random.random((student_sims,student_trials*9))\n",
    "corruption_all = corrupt_chance_all < p_corrupt \n",
    "round(((corruption_all.sum(axis=1) == 0).mean())*100,2)"
   ]
  },
  {
   "cell_type": "markdown",
   "id": "41785fea-c7ae-4515-a8bc-5c02b0725e14",
   "metadata": {},
   "source": [
    "## 7. There's a 70% chance on any given day that there will be at least one food truck at Travis Park. However, you haven't seen a food truck there in 3 days. How unlikely is this?"
   ]
  },
  {
   "cell_type": "code",
   "execution_count": 23,
   "id": "c9897802-779c-48d4-bc97-89b431d2a73b",
   "metadata": {
    "tags": []
   },
   "outputs": [
    {
     "data": {
      "text/plain": [
       "array([[0.8980204 , 0.83524161, 0.69167606],\n",
       "       [0.16445452, 0.672135  , 0.6001105 ],\n",
       "       [0.5463607 , 0.24126881, 0.1970015 ],\n",
       "       ...,\n",
       "       [0.11136254, 0.98009667, 0.29982801],\n",
       "       [0.82594202, 0.63996481, 0.08180354],\n",
       "       [0.88669388, 0.06315229, 0.36810408]])"
      ]
     },
     "execution_count": 23,
     "metadata": {},
     "output_type": "execute_result"
    }
   ],
   "source": [
    "#question rephrase\n",
    "#how likely is it to see a food truck every day\n",
    "p_food_truck = .7\n",
    "days_without_food = 1\n",
    "food_sims = 1_000_000\n",
    "chance_of_food = np.random.random((food_sims,days_without_food*3))\n",
    "chance_of_food"
   ]
  },
  {
   "cell_type": "code",
   "execution_count": 24,
   "id": "b63d2644-2ea7-43a9-83c9-5c62f43b1810",
   "metadata": {
    "tags": []
   },
   "outputs": [
    {
     "data": {
      "text/plain": [
       "2.69"
      ]
     },
     "execution_count": 24,
     "metadata": {},
     "output_type": "execute_result"
    }
   ],
   "source": [
    "food = chance_of_food < p_food_truck \n",
    "round(((food.sum(axis=1) == 0).mean())*100,2)"
   ]
  },
  {
   "cell_type": "markdown",
   "id": "549109bc-def6-4bf2-805b-063963448775",
   "metadata": {},
   "source": [
    "### a. How likely is it that a food truck will show up sometime this week?"
   ]
  },
  {
   "cell_type": "code",
   "execution_count": 25,
   "id": "f3251528-5079-4999-af96-04f224f81e56",
   "metadata": {
    "tags": []
   },
   "outputs": [
    {
     "data": {
      "text/plain": [
       "97.31"
      ]
     },
     "execution_count": 25,
     "metadata": {},
     "output_type": "execute_result"
    }
   ],
   "source": [
    "chance_of_food_this_week = np.random.random((food_sims,days_without_food*7))\n",
    "food_this_week = chance_of_food < p_food_truck \n",
    "round(((food.sum(axis=1) > 0).mean())*100,2)"
   ]
  },
  {
   "cell_type": "markdown",
   "id": "41c8bc71-3bab-4a67-b603-91ad56069567",
   "metadata": {},
   "source": [
    "## 8. If 23 people are in the same room, what are the odds that two of them share a birthday? "
   ]
  },
  {
   "cell_type": "code",
   "execution_count": 26,
   "id": "0901a0d1-eded-4b8f-a7b3-e4b01f1bcee0",
   "metadata": {
    "tags": []
   },
   "outputs": [
    {
     "data": {
      "text/plain": [
       "array([[245, 196, 331, ..., 256,  20, 218],\n",
       "       [ 27,  97, 151, ..., 162, 284, 276],\n",
       "       [ 26, 172,   5, ...,  93, 213, 127],\n",
       "       ...,\n",
       "       [124, 191, 331, ..., 349, 359, 165],\n",
       "       [231, 207,  40, ...,  46, 140,  53],\n",
       "       [ 39, 317, 239, ..., 117, 304, 317]])"
      ]
     },
     "execution_count": 26,
     "metadata": {},
     "output_type": "execute_result"
    }
   ],
   "source": [
    "possible_birth_dates = range(365)\n",
    "people = 23\n",
    "people_sims = 1_000_000\n",
    "twinsies = np.random.choice(possible_birth_dates,(people_sims, people))\n",
    "twinsies"
   ]
  },
  {
   "cell_type": "code",
   "execution_count": 27,
   "id": "a30e8ec5-437e-4bb7-a783-be66c5665770",
   "metadata": {
    "tags": []
   },
   "outputs": [
    {
     "data": {
      "text/html": [
       "<div>\n",
       "<style scoped>\n",
       "    .dataframe tbody tr th:only-of-type {\n",
       "        vertical-align: middle;\n",
       "    }\n",
       "\n",
       "    .dataframe tbody tr th {\n",
       "        vertical-align: top;\n",
       "    }\n",
       "\n",
       "    .dataframe thead th {\n",
       "        text-align: right;\n",
       "    }\n",
       "</style>\n",
       "<table border=\"1\" class=\"dataframe\">\n",
       "  <thead>\n",
       "    <tr style=\"text-align: right;\">\n",
       "      <th></th>\n",
       "      <th>0</th>\n",
       "      <th>1</th>\n",
       "      <th>2</th>\n",
       "      <th>3</th>\n",
       "      <th>4</th>\n",
       "      <th>5</th>\n",
       "      <th>6</th>\n",
       "      <th>7</th>\n",
       "      <th>8</th>\n",
       "      <th>9</th>\n",
       "      <th>...</th>\n",
       "      <th>13</th>\n",
       "      <th>14</th>\n",
       "      <th>15</th>\n",
       "      <th>16</th>\n",
       "      <th>17</th>\n",
       "      <th>18</th>\n",
       "      <th>19</th>\n",
       "      <th>20</th>\n",
       "      <th>21</th>\n",
       "      <th>22</th>\n",
       "    </tr>\n",
       "  </thead>\n",
       "  <tbody>\n",
       "    <tr>\n",
       "      <th>0</th>\n",
       "      <td>245</td>\n",
       "      <td>196</td>\n",
       "      <td>331</td>\n",
       "      <td>31</td>\n",
       "      <td>333</td>\n",
       "      <td>168</td>\n",
       "      <td>252</td>\n",
       "      <td>150</td>\n",
       "      <td>177</td>\n",
       "      <td>27</td>\n",
       "      <td>...</td>\n",
       "      <td>312</td>\n",
       "      <td>78</td>\n",
       "      <td>321</td>\n",
       "      <td>56</td>\n",
       "      <td>54</td>\n",
       "      <td>104</td>\n",
       "      <td>186</td>\n",
       "      <td>256</td>\n",
       "      <td>20</td>\n",
       "      <td>218</td>\n",
       "    </tr>\n",
       "  </tbody>\n",
       "</table>\n",
       "<p>1 rows × 23 columns</p>\n",
       "</div>"
      ],
      "text/plain": [
       "    0    1    2   3    4    5    6    7    8   9   ...   13  14   15  16  17  \\\n",
       "0  245  196  331  31  333  168  252  150  177  27  ...  312  78  321  56  54   \n",
       "\n",
       "    18   19   20  21   22  \n",
       "0  104  186  256  20  218  \n",
       "\n",
       "[1 rows x 23 columns]"
      ]
     },
     "execution_count": 27,
     "metadata": {},
     "output_type": "execute_result"
    }
   ],
   "source": [
    "import pandas as pd\n",
    "twinsies = pd.DataFrame(twinsies)\n",
    "twinsies.head(1)"
   ]
  },
  {
   "cell_type": "code",
   "execution_count": 28,
   "id": "b1d3c30a-9098-4634-bbd4-2bee30697ac1",
   "metadata": {
    "tags": []
   },
   "outputs": [
    {
     "data": {
      "text/plain": [
       "50.78"
      ]
     },
     "execution_count": 28,
     "metadata": {},
     "output_type": "execute_result"
    }
   ],
   "source": [
    "round(((twinsies.nunique(axis=1) < 23).mean())*100,2)"
   ]
  },
  {
   "cell_type": "markdown",
   "id": "d1401882-5917-4c0e-a088-3b138cbb7614",
   "metadata": {},
   "source": [
    "### a. What if it's 20 people?"
   ]
  },
  {
   "cell_type": "code",
   "execution_count": 29,
   "id": "bea2813c-2bac-4f68-a507-e40e70f274f4",
   "metadata": {
    "tags": []
   },
   "outputs": [
    {
     "data": {
      "text/plain": [
       "41.12"
      ]
     },
     "execution_count": 29,
     "metadata": {},
     "output_type": "execute_result"
    }
   ],
   "source": [
    "possible_birth_dates = range(365)\n",
    "people = 20\n",
    "people_sims = 1_000_000\n",
    "twinsies = np.random.choice(possible_birth_dates,(people_sims, people))\n",
    "twinsies = pd.DataFrame(twinsies)\n",
    "twinsies.head(1)\n",
    "round(((twinsies.nunique(axis=1) < people).mean())*100,2)"
   ]
  },
  {
   "cell_type": "markdown",
   "id": "0738a55a-97af-4d2e-92c4-9ed9de1a6737",
   "metadata": {},
   "source": [
    "### b. 40?"
   ]
  },
  {
   "cell_type": "code",
   "execution_count": 30,
   "id": "2238523a-27da-4db7-8fa7-c08a9ddd6866",
   "metadata": {
    "tags": []
   },
   "outputs": [
    {
     "data": {
      "text/plain": [
       "89.16"
      ]
     },
     "execution_count": 30,
     "metadata": {},
     "output_type": "execute_result"
    }
   ],
   "source": [
    "possible_birth_dates = range(365)\n",
    "people = 40\n",
    "people_sims = 1_000_000\n",
    "twinsies = np.random.choice(possible_birth_dates,(people_sims, people))\n",
    "twinsies = pd.DataFrame(twinsies)\n",
    "twinsies.head(1)\n",
    "round(((twinsies.nunique(axis=1) < people).mean())*100,2)"
   ]
  }
 ],
 "metadata": {
  "kernelspec": {
   "display_name": "Python 3 (ipykernel)",
   "language": "python",
   "name": "python3"
  },
  "language_info": {
   "codemirror_mode": {
    "name": "ipython",
    "version": 3
   },
   "file_extension": ".py",
   "mimetype": "text/x-python",
   "name": "python",
   "nbconvert_exporter": "python",
   "pygments_lexer": "ipython3",
   "version": "3.11.3"
  }
 },
 "nbformat": 4,
 "nbformat_minor": 5
}
