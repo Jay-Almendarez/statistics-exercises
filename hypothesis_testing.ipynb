{
 "cells": [
  {
   "cell_type": "code",
   "execution_count": 1,
   "id": "30d77f98-e8f3-48ed-8dde-32d28ef1756e",
   "metadata": {
    "tags": []
   },
   "outputs": [],
   "source": [
    "import pandas as pd\n",
    "import numpy as np\n",
    "import matplotlib.pyplot as plt\n",
    "from pydataset import data\n",
    "from scipy import stats\n",
    "import env"
   ]
  },
  {
   "cell_type": "markdown",
   "id": "c194da8e-cccc-4539-b02c-094baaf9c4f4",
   "metadata": {},
   "source": [
    "# Exercise I - Hypothesis Testing Overview"
   ]
  },
  {
   "cell_type": "markdown",
   "id": "dd3f1a98-0e21-4a2c-a2b3-e277de86f553",
   "metadata": {},
   "source": [
    "### For each of the following questions, formulate a null and alternative hypothesis (be as specific as you can be), then give an example of what a true positive, true negative, type I and type II errors would look like. Note that some of the questions are intentionally phrased in a vague way. It is your job to reword these as more precise questions that could be tested."
   ]
  },
  {
   "cell_type": "markdown",
   "id": "2b9fc79d-441a-4234-ac6c-886917510990",
   "metadata": {},
   "source": [
    "1. Has the network latency gone up since we switched internet service providers?\n",
    "2. Is the website redesign any good?\n",
    "3. Is our television ad driving more sales?"
   ]
  },
  {
   "cell_type": "markdown",
   "id": "24f2fd10-5fd7-454e-95a6-2c0312b01dc2",
   "metadata": {},
   "source": [
    "### 1. Is there an increase in network latency as a result of changing internet service providers?\n",
    "    - H0(null hypothesis) = changing internet service providers has resulted in no change in network latency.\n",
    "    - Hα(alternative hypothesis) = changing internet service providers has resulted in a change.\n",
    "    - True Positive = There is a visible relationship shown from changing internet service providers to network latency and the null hypothesis is rejected.\n",
    "    - True Negative = There is no relationship shown from changing internet service providers to network latency and the null hypothesis is accepted(failed to be rejected).\n",
    "    - Type I Error(False Positive) = There is no relationship shown from changing internet service providers to network latency yet null hypothesis is still rejected.\n",
    "    - Type II Error(False Negative) = There is a visible relationship shown from changing internet service providers to network latency yet null hypothesis is still accepted.\n",
    "\n",
    "\n",
    "### 2. Has redisigning the website increased traffic or improved opinion of aesthetic?\n",
    "    - - H0(null hypothesis) = redisigning the website has resulted in no change in increased traffic or improved opinion of aesthetic.\n",
    "    - Hα(alternative hypothesis) = redisigning the website has resulted in increased traffic or improved opinion of aesthetic.\n",
    "    - True Positive = There is a visible relationship shown from redisigning the website to increased traffic or improved opinion of aesthetic and the null hypothesis is rejected.\n",
    "    - True Negative = There is no visible relationship shown from redisigning the website to increased traffic or improved opinion of aesthetic and the null hypothesis is accepted(failed to be rejected).\n",
    "    - Type I Error(False Positive) = There is no relationship shown from redisigning the website to increased traffic or improved opinion of aesthetic yet null hypothesis is still rejected.\n",
    "    - Type II Error(False Negative) = There is a visible relationship shown from redisigning the website to increased traffic or improved opinion of aesthetic yet null hypothesis is still accepted(failed to be rejected).\n",
    "\n",
    "\n",
    "### 3. Has there been an increase in sales since airing the television ad?\n",
    "    - - H0(null hypothesis) = airing the television ad has resulted in no change in sales.\n",
    "    - Hα(alternative hypothesis) = airing the television ad has resulted in a change in sales(preferable positive).\n",
    "    - True Positive = There is a visible relationship shown from airing the television ad to a change in sales and the null hypothesis is rejected.\n",
    "    - True Negative = There is no relationship shown from airing the television ad to a change in sales and the null hypothesis is accepted(failed to be rejected).\n",
    "    - Type I Error(False Positive) = There is no relationship shown from airing the television ad to a change in sales yet null hypothesis is still rejected.\n",
    "    - Type II Error(False Negative) = There is a visible relationship shown from airing the television ad to a change in sales yet null hypothesis is still accepted(failed to be rejected)."
   ]
  },
  {
   "cell_type": "markdown",
   "id": "7798748d-4a23-4886-a366-8e1327102977",
   "metadata": {},
   "source": [
    "# Exercise II - Comparison of Groups"
   ]
  },
  {
   "cell_type": "code",
   "execution_count": 2,
   "id": "16d4ff95-9932-44c5-ae53-4e742981e106",
   "metadata": {
    "tags": []
   },
   "outputs": [],
   "source": [
    "α = 0.05"
   ]
  },
  {
   "cell_type": "markdown",
   "id": "e2714803-4394-46d5-b44b-602c3a1b96b2",
   "metadata": {
    "tags": []
   },
   "source": [
    "### 1. Use the following contingency table to help answer the question of whether using a Macbook and being a Codeup student are independent of each other."
   ]
  },
  {
   "cell_type": "code",
   "execution_count": 3,
   "id": "b9ed9aeb-01cc-4db7-80fc-b668ac4b143c",
   "metadata": {
    "tags": []
   },
   "outputs": [
    {
     "name": "stdout",
     "output_type": "stream",
     "text": [
      "                       Codeup Student  Not Codeup Student\n",
      "Uses a Macbook                     49                  20\n",
      "Doesn't Use a Macbook               1                  30\n"
     ]
    }
   ],
   "source": [
    "index = ['Uses a Macbook', \"Doesn't Use a Macbook\"]\n",
    "columns = ['Codeup Student', 'Not Codeup Student']\n",
    "observed = pd.DataFrame([[49, 20], [1, 30]], index=index, columns=columns)\n",
    "print(observed)"
   ]
  },
  {
   "cell_type": "code",
   "execution_count": 4,
   "id": "04ccedb8-1051-47ca-b3d1-cad1b1e23ebe",
   "metadata": {
    "tags": []
   },
   "outputs": [],
   "source": [
    "#H0 = Using a macbook is independent of being a Codeup student.\n",
    "#Hα = Using a macbook is dependent of being a Codeup student."
   ]
  },
  {
   "cell_type": "code",
   "execution_count": 5,
   "id": "00f144ed-df7f-44bb-bb5b-cbf8a4baf490",
   "metadata": {
    "tags": []
   },
   "outputs": [
    {
     "data": {
      "text/plain": [
       "1.0"
      ]
     },
     "execution_count": 5,
     "metadata": {},
     "output_type": "execute_result"
    }
   ],
   "source": [
    "student = 50/100\n",
    "not_student = 50/100\n",
    "mac = 69/100\n",
    "not_mac = 31/100\n",
    "x1 = student * mac\n",
    "x2 = not_student * mac\n",
    "y1 = student * not_mac\n",
    "y2 = not_student * not_mac \n",
    "#testing the proportions to make sure they equal 1\n",
    "x1+x2+y1+y2"
   ]
  },
  {
   "cell_type": "code",
   "execution_count": 6,
   "id": "0749f229-e4f3-480b-8928-9e931ec3b9e6",
   "metadata": {
    "tags": []
   },
   "outputs": [
    {
     "data": {
      "text/plain": [
       "0.345"
      ]
     },
     "execution_count": 6,
     "metadata": {},
     "output_type": "execute_result"
    }
   ],
   "source": [
    "x1"
   ]
  },
  {
   "cell_type": "code",
   "execution_count": 7,
   "id": "fa5bc76d-7510-4567-84b7-b91d9e2ea0ac",
   "metadata": {
    "tags": []
   },
   "outputs": [
    {
     "data": {
      "text/plain": [
       "0.345"
      ]
     },
     "execution_count": 7,
     "metadata": {},
     "output_type": "execute_result"
    }
   ],
   "source": [
    "x2"
   ]
  },
  {
   "cell_type": "code",
   "execution_count": 8,
   "id": "70d0856c-7ff5-4862-876a-875ba87b9588",
   "metadata": {
    "tags": []
   },
   "outputs": [
    {
     "data": {
      "text/plain": [
       "0.155"
      ]
     },
     "execution_count": 8,
     "metadata": {},
     "output_type": "execute_result"
    }
   ],
   "source": [
    "y1"
   ]
  },
  {
   "cell_type": "code",
   "execution_count": 9,
   "id": "7ead5f9e-3b0b-4ee1-b4bd-caab47b6a464",
   "metadata": {
    "tags": []
   },
   "outputs": [
    {
     "data": {
      "text/plain": [
       "0.155"
      ]
     },
     "execution_count": 9,
     "metadata": {},
     "output_type": "execute_result"
    }
   ],
   "source": [
    "y2"
   ]
  },
  {
   "cell_type": "code",
   "execution_count": 10,
   "id": "658f564b-f2ed-4fa2-887c-285d3cea63f9",
   "metadata": {
    "tags": []
   },
   "outputs": [
    {
     "name": "stdout",
     "output_type": "stream",
     "text": [
      "Observed\n",
      "                       Codeup Student  Not Codeup Student\n",
      "Uses a Macbook                     49                  20\n",
      "Doesn't Use a Macbook               1                  30\n",
      "---\n",
      "Expected\n",
      "                       Codeup Student  Not Codeup Student\n",
      "Uses a Macbook                   34.5                34.5\n",
      "Doesn't Use a Macbook            15.5                15.5\n",
      "---\n",
      "\n",
      "χ^2 = 39.3174\n",
      "p     = 0.0000\n",
      "\n",
      "We reject the null hypothesis, therefore, in this instance, using a macbook is dependent of being a Codeup student\n"
     ]
    }
   ],
   "source": [
    "index = ['Uses a Macbook', \"Doesn't Use a Macbook\"]\n",
    "columns = ['Codeup Student', 'Not Codeup Student']\n",
    "\n",
    "observed = pd.DataFrame([[49, 20], [1, 30]], index=index, columns=columns)\n",
    "n = observed.values.sum()\n",
    "\n",
    "expected = pd.DataFrame([[.345, .345], [.155, .155]], index=index, columns=columns) * n\n",
    "\n",
    "chi2 = ((observed - expected)**2 / expected).values.sum()\n",
    "\n",
    "nrows, ncols = observed.shape\n",
    "\n",
    "degrees_of_freedom = (nrows - 1) * (ncols - 1)\n",
    "\n",
    "p = stats.chi2(degrees_of_freedom).sf(chi2)\n",
    "\n",
    "print('Observed')\n",
    "print(observed)\n",
    "print('---\\nExpected')\n",
    "print(expected)\n",
    "print('---\\n')\n",
    "print(f'χ^2 = {chi2:.4f}')\n",
    "print(f'p     = {p:.4f}')\n",
    "\n",
    "if p < α:\n",
    "    print('\\nWe reject the null hypothesis, therefore, in this instance, using a macbook is dependent of being a Codeup student')\n",
    "else:\n",
    "    print('\\nWe fail to reject the null hypothesis, therefore, in this instance, using a macbook is independent of being a Codeup student.')"
   ]
  },
  {
   "cell_type": "markdown",
   "id": "bfb4ee76-bfdc-45b6-8fcc-9bb3571b3eaf",
   "metadata": {},
   "source": [
    "### 2. Choose another 2 categorical variables from the mpg dataset.\n",
    "\n",
    "- State your null and alternative hypotheses.\n",
    "- State your alpha.\n",
    "- Perform a χ^2 test of independence.\n",
    "- State your conclusion"
   ]
  },
  {
   "cell_type": "code",
   "execution_count": 308,
   "id": "e0e0947e-1ba3-4fab-b75b-ff5a013262b6",
   "metadata": {
    "tags": []
   },
   "outputs": [
    {
     "data": {
      "text/html": [
       "<div>\n",
       "<style scoped>\n",
       "    .dataframe tbody tr th:only-of-type {\n",
       "        vertical-align: middle;\n",
       "    }\n",
       "\n",
       "    .dataframe tbody tr th {\n",
       "        vertical-align: top;\n",
       "    }\n",
       "\n",
       "    .dataframe thead th {\n",
       "        text-align: right;\n",
       "    }\n",
       "</style>\n",
       "<table border=\"1\" class=\"dataframe\">\n",
       "  <thead>\n",
       "    <tr style=\"text-align: right;\">\n",
       "      <th></th>\n",
       "      <th>manufacturer</th>\n",
       "      <th>model</th>\n",
       "      <th>displ</th>\n",
       "      <th>year</th>\n",
       "      <th>cyl</th>\n",
       "      <th>trans</th>\n",
       "      <th>drv</th>\n",
       "      <th>cty</th>\n",
       "      <th>hwy</th>\n",
       "      <th>fl</th>\n",
       "      <th>class</th>\n",
       "      <th>average_mileage</th>\n",
       "    </tr>\n",
       "  </thead>\n",
       "  <tbody>\n",
       "    <tr>\n",
       "      <th>1</th>\n",
       "      <td>audi</td>\n",
       "      <td>a4</td>\n",
       "      <td>1.8</td>\n",
       "      <td>1999</td>\n",
       "      <td>4</td>\n",
       "      <td>auto(l5)</td>\n",
       "      <td>f</td>\n",
       "      <td>18</td>\n",
       "      <td>29</td>\n",
       "      <td>p</td>\n",
       "      <td>compact</td>\n",
       "      <td>23.5</td>\n",
       "    </tr>\n",
       "    <tr>\n",
       "      <th>2</th>\n",
       "      <td>audi</td>\n",
       "      <td>a4</td>\n",
       "      <td>1.8</td>\n",
       "      <td>1999</td>\n",
       "      <td>4</td>\n",
       "      <td>manual(m5)</td>\n",
       "      <td>f</td>\n",
       "      <td>21</td>\n",
       "      <td>29</td>\n",
       "      <td>p</td>\n",
       "      <td>compact</td>\n",
       "      <td>25.0</td>\n",
       "    </tr>\n",
       "    <tr>\n",
       "      <th>3</th>\n",
       "      <td>audi</td>\n",
       "      <td>a4</td>\n",
       "      <td>2.0</td>\n",
       "      <td>2008</td>\n",
       "      <td>4</td>\n",
       "      <td>manual(m6)</td>\n",
       "      <td>f</td>\n",
       "      <td>20</td>\n",
       "      <td>31</td>\n",
       "      <td>p</td>\n",
       "      <td>compact</td>\n",
       "      <td>25.5</td>\n",
       "    </tr>\n",
       "    <tr>\n",
       "      <th>4</th>\n",
       "      <td>audi</td>\n",
       "      <td>a4</td>\n",
       "      <td>2.0</td>\n",
       "      <td>2008</td>\n",
       "      <td>4</td>\n",
       "      <td>auto(av)</td>\n",
       "      <td>f</td>\n",
       "      <td>21</td>\n",
       "      <td>30</td>\n",
       "      <td>p</td>\n",
       "      <td>compact</td>\n",
       "      <td>25.5</td>\n",
       "    </tr>\n",
       "    <tr>\n",
       "      <th>5</th>\n",
       "      <td>audi</td>\n",
       "      <td>a4</td>\n",
       "      <td>2.8</td>\n",
       "      <td>1999</td>\n",
       "      <td>6</td>\n",
       "      <td>auto(l5)</td>\n",
       "      <td>f</td>\n",
       "      <td>16</td>\n",
       "      <td>26</td>\n",
       "      <td>p</td>\n",
       "      <td>compact</td>\n",
       "      <td>21.0</td>\n",
       "    </tr>\n",
       "    <tr>\n",
       "      <th>...</th>\n",
       "      <td>...</td>\n",
       "      <td>...</td>\n",
       "      <td>...</td>\n",
       "      <td>...</td>\n",
       "      <td>...</td>\n",
       "      <td>...</td>\n",
       "      <td>...</td>\n",
       "      <td>...</td>\n",
       "      <td>...</td>\n",
       "      <td>...</td>\n",
       "      <td>...</td>\n",
       "      <td>...</td>\n",
       "    </tr>\n",
       "    <tr>\n",
       "      <th>230</th>\n",
       "      <td>volkswagen</td>\n",
       "      <td>passat</td>\n",
       "      <td>2.0</td>\n",
       "      <td>2008</td>\n",
       "      <td>4</td>\n",
       "      <td>auto(s6)</td>\n",
       "      <td>f</td>\n",
       "      <td>19</td>\n",
       "      <td>28</td>\n",
       "      <td>p</td>\n",
       "      <td>midsize</td>\n",
       "      <td>23.5</td>\n",
       "    </tr>\n",
       "    <tr>\n",
       "      <th>231</th>\n",
       "      <td>volkswagen</td>\n",
       "      <td>passat</td>\n",
       "      <td>2.0</td>\n",
       "      <td>2008</td>\n",
       "      <td>4</td>\n",
       "      <td>manual(m6)</td>\n",
       "      <td>f</td>\n",
       "      <td>21</td>\n",
       "      <td>29</td>\n",
       "      <td>p</td>\n",
       "      <td>midsize</td>\n",
       "      <td>25.0</td>\n",
       "    </tr>\n",
       "    <tr>\n",
       "      <th>232</th>\n",
       "      <td>volkswagen</td>\n",
       "      <td>passat</td>\n",
       "      <td>2.8</td>\n",
       "      <td>1999</td>\n",
       "      <td>6</td>\n",
       "      <td>auto(l5)</td>\n",
       "      <td>f</td>\n",
       "      <td>16</td>\n",
       "      <td>26</td>\n",
       "      <td>p</td>\n",
       "      <td>midsize</td>\n",
       "      <td>21.0</td>\n",
       "    </tr>\n",
       "    <tr>\n",
       "      <th>233</th>\n",
       "      <td>volkswagen</td>\n",
       "      <td>passat</td>\n",
       "      <td>2.8</td>\n",
       "      <td>1999</td>\n",
       "      <td>6</td>\n",
       "      <td>manual(m5)</td>\n",
       "      <td>f</td>\n",
       "      <td>18</td>\n",
       "      <td>26</td>\n",
       "      <td>p</td>\n",
       "      <td>midsize</td>\n",
       "      <td>22.0</td>\n",
       "    </tr>\n",
       "    <tr>\n",
       "      <th>234</th>\n",
       "      <td>volkswagen</td>\n",
       "      <td>passat</td>\n",
       "      <td>3.6</td>\n",
       "      <td>2008</td>\n",
       "      <td>6</td>\n",
       "      <td>auto(s6)</td>\n",
       "      <td>f</td>\n",
       "      <td>17</td>\n",
       "      <td>26</td>\n",
       "      <td>p</td>\n",
       "      <td>midsize</td>\n",
       "      <td>21.5</td>\n",
       "    </tr>\n",
       "  </tbody>\n",
       "</table>\n",
       "<p>234 rows × 12 columns</p>\n",
       "</div>"
      ],
      "text/plain": [
       "    manufacturer   model  displ  year  cyl       trans drv  cty  hwy fl  \\\n",
       "1           audi      a4    1.8  1999    4    auto(l5)   f   18   29  p   \n",
       "2           audi      a4    1.8  1999    4  manual(m5)   f   21   29  p   \n",
       "3           audi      a4    2.0  2008    4  manual(m6)   f   20   31  p   \n",
       "4           audi      a4    2.0  2008    4    auto(av)   f   21   30  p   \n",
       "5           audi      a4    2.8  1999    6    auto(l5)   f   16   26  p   \n",
       "..           ...     ...    ...   ...  ...         ...  ..  ...  ... ..   \n",
       "230   volkswagen  passat    2.0  2008    4    auto(s6)   f   19   28  p   \n",
       "231   volkswagen  passat    2.0  2008    4  manual(m6)   f   21   29  p   \n",
       "232   volkswagen  passat    2.8  1999    6    auto(l5)   f   16   26  p   \n",
       "233   volkswagen  passat    2.8  1999    6  manual(m5)   f   18   26  p   \n",
       "234   volkswagen  passat    3.6  2008    6    auto(s6)   f   17   26  p   \n",
       "\n",
       "       class  average_mileage  \n",
       "1    compact             23.5  \n",
       "2    compact             25.0  \n",
       "3    compact             25.5  \n",
       "4    compact             25.5  \n",
       "5    compact             21.0  \n",
       "..       ...              ...  \n",
       "230  midsize             23.5  \n",
       "231  midsize             25.0  \n",
       "232  midsize             21.0  \n",
       "233  midsize             22.0  \n",
       "234  midsize             21.5  \n",
       "\n",
       "[234 rows x 12 columns]"
      ]
     },
     "execution_count": 308,
     "metadata": {},
     "output_type": "execute_result"
    }
   ],
   "source": [
    "#H0 = Average of City and Highway MPG is independent of class type.\n",
    "#Hα = Average of City and Highway MPG is dependent of class type.\n",
    "α = 0.05\n",
    "mpg = data('mpg')\n",
    "mpg['average_mileage'] = ((mpg['hwy'] + mpg['cty']) / 2)\n",
    "mpg"
   ]
  },
  {
   "cell_type": "code",
   "execution_count": 310,
   "id": "d87cad71-a3a1-41fa-bf00-e5201732f931",
   "metadata": {
    "tags": []
   },
   "outputs": [
    {
     "data": {
      "text/html": [
       "<div>\n",
       "<style scoped>\n",
       "    .dataframe tbody tr th:only-of-type {\n",
       "        vertical-align: middle;\n",
       "    }\n",
       "\n",
       "    .dataframe tbody tr th {\n",
       "        vertical-align: top;\n",
       "    }\n",
       "\n",
       "    .dataframe thead th {\n",
       "        text-align: right;\n",
       "    }\n",
       "</style>\n",
       "<table border=\"1\" class=\"dataframe\">\n",
       "  <thead>\n",
       "    <tr style=\"text-align: right;\">\n",
       "      <th>class</th>\n",
       "      <th>2seater</th>\n",
       "      <th>compact</th>\n",
       "      <th>midsize</th>\n",
       "      <th>minivan</th>\n",
       "      <th>pickup</th>\n",
       "      <th>subcompact</th>\n",
       "      <th>suv</th>\n",
       "    </tr>\n",
       "    <tr>\n",
       "      <th>average_mileage</th>\n",
       "      <th></th>\n",
       "      <th></th>\n",
       "      <th></th>\n",
       "      <th></th>\n",
       "      <th></th>\n",
       "      <th></th>\n",
       "      <th></th>\n",
       "    </tr>\n",
       "  </thead>\n",
       "  <tbody>\n",
       "    <tr>\n",
       "      <th>10.5</th>\n",
       "      <td>0</td>\n",
       "      <td>0</td>\n",
       "      <td>0</td>\n",
       "      <td>0</td>\n",
       "      <td>3</td>\n",
       "      <td>0</td>\n",
       "      <td>2</td>\n",
       "    </tr>\n",
       "    <tr>\n",
       "      <th>12.5</th>\n",
       "      <td>0</td>\n",
       "      <td>0</td>\n",
       "      <td>0</td>\n",
       "      <td>0</td>\n",
       "      <td>0</td>\n",
       "      <td>0</td>\n",
       "      <td>2</td>\n",
       "    </tr>\n",
       "    <tr>\n",
       "      <th>13.0</th>\n",
       "      <td>0</td>\n",
       "      <td>0</td>\n",
       "      <td>0</td>\n",
       "      <td>0</td>\n",
       "      <td>4</td>\n",
       "      <td>0</td>\n",
       "      <td>6</td>\n",
       "    </tr>\n",
       "    <tr>\n",
       "      <th>13.5</th>\n",
       "      <td>0</td>\n",
       "      <td>0</td>\n",
       "      <td>0</td>\n",
       "      <td>0</td>\n",
       "      <td>1</td>\n",
       "      <td>0</td>\n",
       "      <td>2</td>\n",
       "    </tr>\n",
       "    <tr>\n",
       "      <th>14.0</th>\n",
       "      <td>0</td>\n",
       "      <td>0</td>\n",
       "      <td>0</td>\n",
       "      <td>1</td>\n",
       "      <td>3</td>\n",
       "      <td>0</td>\n",
       "      <td>3</td>\n",
       "    </tr>\n",
       "    <tr>\n",
       "      <th>14.5</th>\n",
       "      <td>0</td>\n",
       "      <td>0</td>\n",
       "      <td>0</td>\n",
       "      <td>0</td>\n",
       "      <td>2</td>\n",
       "      <td>0</td>\n",
       "      <td>1</td>\n",
       "    </tr>\n",
       "    <tr>\n",
       "      <th>15.0</th>\n",
       "      <td>0</td>\n",
       "      <td>0</td>\n",
       "      <td>0</td>\n",
       "      <td>0</td>\n",
       "      <td>6</td>\n",
       "      <td>0</td>\n",
       "      <td>11</td>\n",
       "    </tr>\n",
       "    <tr>\n",
       "      <th>15.5</th>\n",
       "      <td>0</td>\n",
       "      <td>0</td>\n",
       "      <td>0</td>\n",
       "      <td>0</td>\n",
       "      <td>3</td>\n",
       "      <td>0</td>\n",
       "      <td>10</td>\n",
       "    </tr>\n",
       "    <tr>\n",
       "      <th>16.0</th>\n",
       "      <td>0</td>\n",
       "      <td>0</td>\n",
       "      <td>0</td>\n",
       "      <td>0</td>\n",
       "      <td>2</td>\n",
       "      <td>0</td>\n",
       "      <td>6</td>\n",
       "    </tr>\n",
       "    <tr>\n",
       "      <th>16.5</th>\n",
       "      <td>0</td>\n",
       "      <td>0</td>\n",
       "      <td>0</td>\n",
       "      <td>0</td>\n",
       "      <td>3</td>\n",
       "      <td>0</td>\n",
       "      <td>2</td>\n",
       "    </tr>\n",
       "    <tr>\n",
       "      <th>17.0</th>\n",
       "      <td>0</td>\n",
       "      <td>0</td>\n",
       "      <td>0</td>\n",
       "      <td>0</td>\n",
       "      <td>2</td>\n",
       "      <td>1</td>\n",
       "      <td>6</td>\n",
       "    </tr>\n",
       "    <tr>\n",
       "      <th>17.5</th>\n",
       "      <td>0</td>\n",
       "      <td>0</td>\n",
       "      <td>0</td>\n",
       "      <td>0</td>\n",
       "      <td>1</td>\n",
       "      <td>0</td>\n",
       "      <td>2</td>\n",
       "    </tr>\n",
       "    <tr>\n",
       "      <th>18.0</th>\n",
       "      <td>0</td>\n",
       "      <td>0</td>\n",
       "      <td>0</td>\n",
       "      <td>1</td>\n",
       "      <td>2</td>\n",
       "      <td>1</td>\n",
       "      <td>2</td>\n",
       "    </tr>\n",
       "    <tr>\n",
       "      <th>18.5</th>\n",
       "      <td>0</td>\n",
       "      <td>0</td>\n",
       "      <td>0</td>\n",
       "      <td>1</td>\n",
       "      <td>0</td>\n",
       "      <td>2</td>\n",
       "      <td>0</td>\n",
       "    </tr>\n",
       "    <tr>\n",
       "      <th>19.0</th>\n",
       "      <td>1</td>\n",
       "      <td>0</td>\n",
       "      <td>0</td>\n",
       "      <td>2</td>\n",
       "      <td>0</td>\n",
       "      <td>1</td>\n",
       "      <td>0</td>\n",
       "    </tr>\n",
       "    <tr>\n",
       "      <th>19.5</th>\n",
       "      <td>1</td>\n",
       "      <td>1</td>\n",
       "      <td>2</td>\n",
       "      <td>2</td>\n",
       "      <td>1</td>\n",
       "      <td>0</td>\n",
       "      <td>1</td>\n",
       "    </tr>\n",
       "    <tr>\n",
       "      <th>20.0</th>\n",
       "      <td>1</td>\n",
       "      <td>2</td>\n",
       "      <td>0</td>\n",
       "      <td>0</td>\n",
       "      <td>0</td>\n",
       "      <td>2</td>\n",
       "      <td>0</td>\n",
       "    </tr>\n",
       "    <tr>\n",
       "      <th>20.5</th>\n",
       "      <td>0</td>\n",
       "      <td>3</td>\n",
       "      <td>1</td>\n",
       "      <td>3</td>\n",
       "      <td>0</td>\n",
       "      <td>2</td>\n",
       "      <td>1</td>\n",
       "    </tr>\n",
       "    <tr>\n",
       "      <th>21.0</th>\n",
       "      <td>2</td>\n",
       "      <td>3</td>\n",
       "      <td>3</td>\n",
       "      <td>1</td>\n",
       "      <td>0</td>\n",
       "      <td>0</td>\n",
       "      <td>1</td>\n",
       "    </tr>\n",
       "    <tr>\n",
       "      <th>21.5</th>\n",
       "      <td>0</td>\n",
       "      <td>0</td>\n",
       "      <td>2</td>\n",
       "      <td>0</td>\n",
       "      <td>0</td>\n",
       "      <td>2</td>\n",
       "      <td>1</td>\n",
       "    </tr>\n",
       "    <tr>\n",
       "      <th>22.0</th>\n",
       "      <td>0</td>\n",
       "      <td>5</td>\n",
       "      <td>12</td>\n",
       "      <td>0</td>\n",
       "      <td>0</td>\n",
       "      <td>1</td>\n",
       "      <td>1</td>\n",
       "    </tr>\n",
       "    <tr>\n",
       "      <th>22.5</th>\n",
       "      <td>0</td>\n",
       "      <td>5</td>\n",
       "      <td>2</td>\n",
       "      <td>0</td>\n",
       "      <td>0</td>\n",
       "      <td>5</td>\n",
       "      <td>0</td>\n",
       "    </tr>\n",
       "    <tr>\n",
       "      <th>23.0</th>\n",
       "      <td>0</td>\n",
       "      <td>2</td>\n",
       "      <td>3</td>\n",
       "      <td>0</td>\n",
       "      <td>0</td>\n",
       "      <td>0</td>\n",
       "      <td>1</td>\n",
       "    </tr>\n",
       "    <tr>\n",
       "      <th>23.5</th>\n",
       "      <td>0</td>\n",
       "      <td>3</td>\n",
       "      <td>5</td>\n",
       "      <td>0</td>\n",
       "      <td>0</td>\n",
       "      <td>2</td>\n",
       "      <td>1</td>\n",
       "    </tr>\n",
       "    <tr>\n",
       "      <th>24.0</th>\n",
       "      <td>0</td>\n",
       "      <td>2</td>\n",
       "      <td>1</td>\n",
       "      <td>0</td>\n",
       "      <td>0</td>\n",
       "      <td>3</td>\n",
       "      <td>0</td>\n",
       "    </tr>\n",
       "    <tr>\n",
       "      <th>24.5</th>\n",
       "      <td>0</td>\n",
       "      <td>0</td>\n",
       "      <td>0</td>\n",
       "      <td>0</td>\n",
       "      <td>0</td>\n",
       "      <td>1</td>\n",
       "      <td>0</td>\n",
       "    </tr>\n",
       "    <tr>\n",
       "      <th>25.0</th>\n",
       "      <td>0</td>\n",
       "      <td>9</td>\n",
       "      <td>3</td>\n",
       "      <td>0</td>\n",
       "      <td>0</td>\n",
       "      <td>2</td>\n",
       "      <td>0</td>\n",
       "    </tr>\n",
       "    <tr>\n",
       "      <th>25.5</th>\n",
       "      <td>0</td>\n",
       "      <td>4</td>\n",
       "      <td>1</td>\n",
       "      <td>0</td>\n",
       "      <td>0</td>\n",
       "      <td>0</td>\n",
       "      <td>0</td>\n",
       "    </tr>\n",
       "    <tr>\n",
       "      <th>26.0</th>\n",
       "      <td>0</td>\n",
       "      <td>1</td>\n",
       "      <td>4</td>\n",
       "      <td>0</td>\n",
       "      <td>0</td>\n",
       "      <td>1</td>\n",
       "      <td>0</td>\n",
       "    </tr>\n",
       "    <tr>\n",
       "      <th>26.5</th>\n",
       "      <td>0</td>\n",
       "      <td>1</td>\n",
       "      <td>0</td>\n",
       "      <td>0</td>\n",
       "      <td>0</td>\n",
       "      <td>0</td>\n",
       "      <td>0</td>\n",
       "    </tr>\n",
       "    <tr>\n",
       "      <th>27.0</th>\n",
       "      <td>0</td>\n",
       "      <td>1</td>\n",
       "      <td>1</td>\n",
       "      <td>0</td>\n",
       "      <td>0</td>\n",
       "      <td>0</td>\n",
       "      <td>0</td>\n",
       "    </tr>\n",
       "    <tr>\n",
       "      <th>27.5</th>\n",
       "      <td>0</td>\n",
       "      <td>0</td>\n",
       "      <td>1</td>\n",
       "      <td>0</td>\n",
       "      <td>0</td>\n",
       "      <td>0</td>\n",
       "      <td>0</td>\n",
       "    </tr>\n",
       "    <tr>\n",
       "      <th>28.0</th>\n",
       "      <td>0</td>\n",
       "      <td>0</td>\n",
       "      <td>0</td>\n",
       "      <td>0</td>\n",
       "      <td>0</td>\n",
       "      <td>2</td>\n",
       "      <td>0</td>\n",
       "    </tr>\n",
       "    <tr>\n",
       "      <th>28.5</th>\n",
       "      <td>0</td>\n",
       "      <td>1</td>\n",
       "      <td>0</td>\n",
       "      <td>0</td>\n",
       "      <td>0</td>\n",
       "      <td>1</td>\n",
       "      <td>0</td>\n",
       "    </tr>\n",
       "    <tr>\n",
       "      <th>30.0</th>\n",
       "      <td>0</td>\n",
       "      <td>0</td>\n",
       "      <td>0</td>\n",
       "      <td>0</td>\n",
       "      <td>0</td>\n",
       "      <td>2</td>\n",
       "      <td>0</td>\n",
       "    </tr>\n",
       "    <tr>\n",
       "      <th>30.5</th>\n",
       "      <td>0</td>\n",
       "      <td>2</td>\n",
       "      <td>0</td>\n",
       "      <td>0</td>\n",
       "      <td>0</td>\n",
       "      <td>2</td>\n",
       "      <td>0</td>\n",
       "    </tr>\n",
       "    <tr>\n",
       "      <th>32.5</th>\n",
       "      <td>0</td>\n",
       "      <td>1</td>\n",
       "      <td>0</td>\n",
       "      <td>0</td>\n",
       "      <td>0</td>\n",
       "      <td>0</td>\n",
       "      <td>0</td>\n",
       "    </tr>\n",
       "    <tr>\n",
       "      <th>35.0</th>\n",
       "      <td>0</td>\n",
       "      <td>0</td>\n",
       "      <td>0</td>\n",
       "      <td>0</td>\n",
       "      <td>0</td>\n",
       "      <td>1</td>\n",
       "      <td>0</td>\n",
       "    </tr>\n",
       "    <tr>\n",
       "      <th>38.5</th>\n",
       "      <td>0</td>\n",
       "      <td>1</td>\n",
       "      <td>0</td>\n",
       "      <td>0</td>\n",
       "      <td>0</td>\n",
       "      <td>0</td>\n",
       "      <td>0</td>\n",
       "    </tr>\n",
       "    <tr>\n",
       "      <th>39.5</th>\n",
       "      <td>0</td>\n",
       "      <td>0</td>\n",
       "      <td>0</td>\n",
       "      <td>0</td>\n",
       "      <td>0</td>\n",
       "      <td>1</td>\n",
       "      <td>0</td>\n",
       "    </tr>\n",
       "  </tbody>\n",
       "</table>\n",
       "</div>"
      ],
      "text/plain": [
       "class            2seater  compact  midsize  minivan  pickup  subcompact  suv\n",
       "average_mileage                                                             \n",
       "10.5                   0        0        0        0       3           0    2\n",
       "12.5                   0        0        0        0       0           0    2\n",
       "13.0                   0        0        0        0       4           0    6\n",
       "13.5                   0        0        0        0       1           0    2\n",
       "14.0                   0        0        0        1       3           0    3\n",
       "14.5                   0        0        0        0       2           0    1\n",
       "15.0                   0        0        0        0       6           0   11\n",
       "15.5                   0        0        0        0       3           0   10\n",
       "16.0                   0        0        0        0       2           0    6\n",
       "16.5                   0        0        0        0       3           0    2\n",
       "17.0                   0        0        0        0       2           1    6\n",
       "17.5                   0        0        0        0       1           0    2\n",
       "18.0                   0        0        0        1       2           1    2\n",
       "18.5                   0        0        0        1       0           2    0\n",
       "19.0                   1        0        0        2       0           1    0\n",
       "19.5                   1        1        2        2       1           0    1\n",
       "20.0                   1        2        0        0       0           2    0\n",
       "20.5                   0        3        1        3       0           2    1\n",
       "21.0                   2        3        3        1       0           0    1\n",
       "21.5                   0        0        2        0       0           2    1\n",
       "22.0                   0        5       12        0       0           1    1\n",
       "22.5                   0        5        2        0       0           5    0\n",
       "23.0                   0        2        3        0       0           0    1\n",
       "23.5                   0        3        5        0       0           2    1\n",
       "24.0                   0        2        1        0       0           3    0\n",
       "24.5                   0        0        0        0       0           1    0\n",
       "25.0                   0        9        3        0       0           2    0\n",
       "25.5                   0        4        1        0       0           0    0\n",
       "26.0                   0        1        4        0       0           1    0\n",
       "26.5                   0        1        0        0       0           0    0\n",
       "27.0                   0        1        1        0       0           0    0\n",
       "27.5                   0        0        1        0       0           0    0\n",
       "28.0                   0        0        0        0       0           2    0\n",
       "28.5                   0        1        0        0       0           1    0\n",
       "30.0                   0        0        0        0       0           2    0\n",
       "30.5                   0        2        0        0       0           2    0\n",
       "32.5                   0        1        0        0       0           0    0\n",
       "35.0                   0        0        0        0       0           1    0\n",
       "38.5                   0        1        0        0       0           0    0\n",
       "39.5                   0        0        0        0       0           1    0"
      ]
     },
     "execution_count": 310,
     "metadata": {},
     "output_type": "execute_result"
    }
   ],
   "source": [
    "observed = pd.crosstab(mpg['class'], mpg['average_mileage']).T\n",
    "observed"
   ]
  },
  {
   "cell_type": "code",
   "execution_count": 311,
   "id": "6afff65a-ebfd-4178-8c63-0ec5738c959a",
   "metadata": {
    "tags": []
   },
   "outputs": [
    {
     "data": {
      "text/plain": [
       "6.756068825970021e-15"
      ]
     },
     "execution_count": 311,
     "metadata": {},
     "output_type": "execute_result"
    }
   ],
   "source": [
    "chi2, p, degf, expected = stats.chi2_contingency(observed)\n",
    "p"
   ]
  },
  {
   "cell_type": "code",
   "execution_count": 312,
   "id": "d097d147-8fcd-4f4f-afa1-0229620e0156",
   "metadata": {
    "tags": []
   },
   "outputs": [
    {
     "name": "stdout",
     "output_type": "stream",
     "text": [
      "p-value: 6.756068825970021e-15\n",
      "We reject the null hypothesis.\n",
      "In this instance, there exists some relationship between class and the average_mileage.\n"
     ]
    }
   ],
   "source": [
    "def in_conclusion(p, α, group1, group2):\n",
    "    '''\n",
    "    this function will take in the p-value, alpha, and a name for the 2 variables \n",
    "    you are comparing (group 1 and group 2)\n",
    "    '''\n",
    "    if p < α:\n",
    "        print(f'p-value: {p}')\n",
    "        print(f'We reject the null hypothesis.')\n",
    "        print(f'In this instance, there exists some relationship between {group1} and the {group2}.')\n",
    "    else:\n",
    "        print(f'p-value: {p}')\n",
    "        print(f'We fail to reject the null hypothesis.')\n",
    "        print(f'In this instance, there is not a significant relationship between {group1} and {group2}.')\n",
    "in_conclusion(p, α, 'class', 'average_mileage')"
   ]
  },
  {
   "cell_type": "markdown",
   "id": "50b4f47b-dae9-41ea-bfcb-978dad7fb8cc",
   "metadata": {},
   "source": [
    "### 3. Use the data from the employees database to answer these questions:"
   ]
  },
  {
   "cell_type": "code",
   "execution_count": 15,
   "id": "e42b5839-19eb-4768-8362-d10e1154e8db",
   "metadata": {
    "tags": []
   },
   "outputs": [],
   "source": [
    "# pull the database employees from SQL\n",
    "employees_db_url = f'mysql+pymysql://{env.user}:{env.password}@{env.host}/employees'\n",
    "employee_query = 'select * from employees'\n",
    "employee_df = pd.read_sql(employee_query, employees_db_url)\n",
    "# pull the database dept_emp from SQL\n",
    "dept_emp_db_url = f'mysql+pymysql://{env.user}:{env.password}@{env.host}/employees'\n",
    "dept_emp_query = 'select * from dept_emp WHERE to_date > NOW()'\n",
    "curr_dept_emp_df = pd.read_sql(dept_emp_query, dept_emp_db_url)\n",
    "# join the two pulled databases and call the new database 'df'\n",
    "df = employee_df.merge(curr_dept_emp_df, how='inner', on='emp_no')\n",
    "# pull the database departments from SQL\n",
    "department_db_url = f'mysql+pymysql://{env.user}:{env.password}@{env.host}/employees'\n",
    "department_query = 'select * from departments'\n",
    "department_df = pd.read_sql(department_query, department_db_url)\n",
    "# join the already existing 'df' with the new pulled database and call the new database 'df'\n",
    "df = df.merge(department_df, how='inner', on='dept_no')"
   ]
  },
  {
   "cell_type": "code",
   "execution_count": 16,
   "id": "e8063722-d6e3-49e2-8b99-db7200140694",
   "metadata": {
    "tags": []
   },
   "outputs": [
    {
     "data": {
      "text/html": [
       "<div>\n",
       "<style scoped>\n",
       "    .dataframe tbody tr th:only-of-type {\n",
       "        vertical-align: middle;\n",
       "    }\n",
       "\n",
       "    .dataframe tbody tr th {\n",
       "        vertical-align: top;\n",
       "    }\n",
       "\n",
       "    .dataframe thead th {\n",
       "        text-align: right;\n",
       "    }\n",
       "</style>\n",
       "<table border=\"1\" class=\"dataframe\">\n",
       "  <thead>\n",
       "    <tr style=\"text-align: right;\">\n",
       "      <th></th>\n",
       "      <th>emp_no</th>\n",
       "      <th>birth_date</th>\n",
       "      <th>first_name</th>\n",
       "      <th>last_name</th>\n",
       "      <th>gender</th>\n",
       "      <th>hire_date</th>\n",
       "      <th>dept_no</th>\n",
       "      <th>from_date</th>\n",
       "      <th>to_date</th>\n",
       "      <th>dept_name</th>\n",
       "    </tr>\n",
       "  </thead>\n",
       "  <tbody>\n",
       "    <tr>\n",
       "      <th>0</th>\n",
       "      <td>10001</td>\n",
       "      <td>1953-09-02</td>\n",
       "      <td>Georgi</td>\n",
       "      <td>Facello</td>\n",
       "      <td>M</td>\n",
       "      <td>1986-06-26</td>\n",
       "      <td>d005</td>\n",
       "      <td>1986-06-26</td>\n",
       "      <td>9999-01-01</td>\n",
       "      <td>Development</td>\n",
       "    </tr>\n",
       "    <tr>\n",
       "      <th>1</th>\n",
       "      <td>10006</td>\n",
       "      <td>1953-04-20</td>\n",
       "      <td>Anneke</td>\n",
       "      <td>Preusig</td>\n",
       "      <td>F</td>\n",
       "      <td>1989-06-02</td>\n",
       "      <td>d005</td>\n",
       "      <td>1990-08-05</td>\n",
       "      <td>9999-01-01</td>\n",
       "      <td>Development</td>\n",
       "    </tr>\n",
       "    <tr>\n",
       "      <th>2</th>\n",
       "      <td>10012</td>\n",
       "      <td>1960-10-04</td>\n",
       "      <td>Patricio</td>\n",
       "      <td>Bridgland</td>\n",
       "      <td>M</td>\n",
       "      <td>1992-12-18</td>\n",
       "      <td>d005</td>\n",
       "      <td>1992-12-18</td>\n",
       "      <td>9999-01-01</td>\n",
       "      <td>Development</td>\n",
       "    </tr>\n",
       "    <tr>\n",
       "      <th>3</th>\n",
       "      <td>10014</td>\n",
       "      <td>1956-02-12</td>\n",
       "      <td>Berni</td>\n",
       "      <td>Genin</td>\n",
       "      <td>M</td>\n",
       "      <td>1987-03-11</td>\n",
       "      <td>d005</td>\n",
       "      <td>1993-12-29</td>\n",
       "      <td>9999-01-01</td>\n",
       "      <td>Development</td>\n",
       "    </tr>\n",
       "    <tr>\n",
       "      <th>4</th>\n",
       "      <td>10022</td>\n",
       "      <td>1952-07-08</td>\n",
       "      <td>Shahaf</td>\n",
       "      <td>Famili</td>\n",
       "      <td>M</td>\n",
       "      <td>1995-08-22</td>\n",
       "      <td>d005</td>\n",
       "      <td>1999-09-03</td>\n",
       "      <td>9999-01-01</td>\n",
       "      <td>Development</td>\n",
       "    </tr>\n",
       "  </tbody>\n",
       "</table>\n",
       "</div>"
      ],
      "text/plain": [
       "   emp_no  birth_date first_name  last_name gender   hire_date dept_no  \\\n",
       "0   10001  1953-09-02     Georgi    Facello      M  1986-06-26    d005   \n",
       "1   10006  1953-04-20     Anneke    Preusig      F  1989-06-02    d005   \n",
       "2   10012  1960-10-04   Patricio  Bridgland      M  1992-12-18    d005   \n",
       "3   10014  1956-02-12      Berni      Genin      M  1987-03-11    d005   \n",
       "4   10022  1952-07-08     Shahaf     Famili      M  1995-08-22    d005   \n",
       "\n",
       "    from_date     to_date    dept_name  \n",
       "0  1986-06-26  9999-01-01  Development  \n",
       "1  1990-08-05  9999-01-01  Development  \n",
       "2  1992-12-18  9999-01-01  Development  \n",
       "3  1993-12-29  9999-01-01  Development  \n",
       "4  1999-09-03  9999-01-01  Development  "
      ]
     },
     "execution_count": 16,
     "metadata": {},
     "output_type": "execute_result"
    }
   ],
   "source": [
    "# save me some time and only show the top 5\n",
    "df.head()"
   ]
  },
  {
   "cell_type": "markdown",
   "id": "5585b8eb-9633-4ffb-8642-8696aefa1861",
   "metadata": {},
   "source": [
    "#### Is an employee's gender independent of whether an employee works in sales or marketing? (only look at current employees)"
   ]
  },
  {
   "cell_type": "code",
   "execution_count": 17,
   "id": "4bb3e7cd-7dd2-41d9-bddd-acde00f95785",
   "metadata": {
    "tags": []
   },
   "outputs": [],
   "source": [
    "#defining null and alternative hypothesis and α \n",
    "#H0 = A current employee working in sales or marketing is independent on their gender. \n",
    "#Hα = A current employee working in sales or marketing is dependent on their gender.\n",
    "α = 0.05"
   ]
  },
  {
   "cell_type": "code",
   "execution_count": 18,
   "id": "92c3597c-24b7-44c2-b449-7fbd206672b8",
   "metadata": {
    "tags": []
   },
   "outputs": [],
   "source": [
    "# I only want to see employees where they work in either sales or marketing\n",
    "# make that into a new dataframe so I can work with only the values I need\n",
    "new_df = df[(df['dept_name'] == 'Sales') | (df['dept_name'] == 'Marketing')]"
   ]
  },
  {
   "cell_type": "code",
   "execution_count": 19,
   "id": "31d8d48b-0918-4261-a68b-9a9fecc2fd63",
   "metadata": {
    "tags": []
   },
   "outputs": [
    {
     "data": {
      "text/html": [
       "<div>\n",
       "<style scoped>\n",
       "    .dataframe tbody tr th:only-of-type {\n",
       "        vertical-align: middle;\n",
       "    }\n",
       "\n",
       "    .dataframe tbody tr th {\n",
       "        vertical-align: top;\n",
       "    }\n",
       "\n",
       "    .dataframe thead th {\n",
       "        text-align: right;\n",
       "    }\n",
       "</style>\n",
       "<table border=\"1\" class=\"dataframe\">\n",
       "  <thead>\n",
       "    <tr style=\"text-align: right;\">\n",
       "      <th>gender</th>\n",
       "      <th>F</th>\n",
       "      <th>M</th>\n",
       "    </tr>\n",
       "    <tr>\n",
       "      <th>dept_name</th>\n",
       "      <th></th>\n",
       "      <th></th>\n",
       "    </tr>\n",
       "  </thead>\n",
       "  <tbody>\n",
       "    <tr>\n",
       "      <th>Marketing</th>\n",
       "      <td>5864</td>\n",
       "      <td>8978</td>\n",
       "    </tr>\n",
       "    <tr>\n",
       "      <th>Sales</th>\n",
       "      <td>14999</td>\n",
       "      <td>22702</td>\n",
       "    </tr>\n",
       "  </tbody>\n",
       "</table>\n",
       "</div>"
      ],
      "text/plain": [
       "gender         F      M\n",
       "dept_name              \n",
       "Marketing   5864   8978\n",
       "Sales      14999  22702"
      ]
     },
     "execution_count": 19,
     "metadata": {},
     "output_type": "execute_result"
    }
   ],
   "source": [
    "observed = pd.crosstab(new_df['dept_name'] , new_df['gender'])\n",
    "observed"
   ]
  },
  {
   "cell_type": "code",
   "execution_count": 20,
   "id": "e15a0459-c45f-48e0-81db-6640e34f385a",
   "metadata": {
    "tags": []
   },
   "outputs": [
    {
     "data": {
      "text/plain": [
       "0.5691938610810126"
      ]
     },
     "execution_count": 20,
     "metadata": {},
     "output_type": "execute_result"
    }
   ],
   "source": [
    "chi2, p, degf, expected = stats.chi2_contingency(observed)\n",
    "p"
   ]
  },
  {
   "cell_type": "code",
   "execution_count": 21,
   "id": "140deac0-0d63-4168-9843-fbbf007bcdad",
   "metadata": {
    "tags": []
   },
   "outputs": [
    {
     "name": "stdout",
     "output_type": "stream",
     "text": [
      "p-value: 0.5691938610810126\n",
      "We fail to reject the null hypothesis.\n",
      "In this instance, there is not a significant relationship between dept_name and gender.\n"
     ]
    }
   ],
   "source": [
    "in_conclusion(p, α, 'dept_name', 'gender')"
   ]
  },
  {
   "cell_type": "markdown",
   "id": "5caa007f-9d31-481a-a6a6-46001f241ed1",
   "metadata": {},
   "source": [
    "#### Is an employee's gender independent of whether or not they are or have been a manager?"
   ]
  },
  {
   "cell_type": "markdown",
   "id": "9578e48a-1c39-489a-a80c-514ef37217b9",
   "metadata": {
    "tags": []
   },
   "source": [
    "H$_0$ = An employee being or having been a manager or not is independent on their gender.\n",
    "\n",
    "H$_α$ = An employee being or having been a manager or not is dependent on their gender."
   ]
  },
  {
   "cell_type": "code",
   "execution_count": null,
   "id": "5a5b1c92-19b6-4ebb-9d06-e9f53d7e97e7",
   "metadata": {},
   "outputs": [],
   "source": [
    "α = 0.05"
   ]
  },
  {
   "cell_type": "code",
   "execution_count": 116,
   "id": "2c0241e3-060f-4168-86f2-520d7694b8f9",
   "metadata": {
    "tags": []
   },
   "outputs": [],
   "source": [
    "dept_mgr_db_url = f'mysql+pymysql://{env.user}:{env.password}@{env.host}/employees'\n",
    "dept_mgr_query = 'select * from dept_manager'\n",
    "dept_mgr_df = pd.read_sql(dept_mgr_query, dept_mgr_db_url)\n",
    "\n",
    "full_dept_mgr_df = dept_mgr_df.merge(employee_df, how='inner', on='emp_no')\n",
    "\n",
    "employees_db_url = f'mysql+pymysql://{env.user}:{env.password}@{env.host}/employees'\n",
    "employee_query = 'select * from employees'\n",
    "employee_df = pd.read_sql(employee_query, employees_db_url)"
   ]
  },
  {
   "cell_type": "code",
   "execution_count": 119,
   "id": "3ba0fcc4-a7fb-4668-8a12-43d4fb988137",
   "metadata": {
    "tags": []
   },
   "outputs": [
    {
     "data": {
      "text/html": [
       "<div>\n",
       "<style scoped>\n",
       "    .dataframe tbody tr th:only-of-type {\n",
       "        vertical-align: middle;\n",
       "    }\n",
       "\n",
       "    .dataframe tbody tr th {\n",
       "        vertical-align: top;\n",
       "    }\n",
       "\n",
       "    .dataframe thead th {\n",
       "        text-align: right;\n",
       "    }\n",
       "</style>\n",
       "<table border=\"1\" class=\"dataframe\">\n",
       "  <thead>\n",
       "    <tr style=\"text-align: right;\">\n",
       "      <th></th>\n",
       "      <th>emp_no</th>\n",
       "      <th>dept_no</th>\n",
       "      <th>from_date</th>\n",
       "      <th>to_date</th>\n",
       "      <th>birth_date</th>\n",
       "      <th>first_name</th>\n",
       "      <th>last_name</th>\n",
       "      <th>gender</th>\n",
       "      <th>hire_date</th>\n",
       "    </tr>\n",
       "  </thead>\n",
       "  <tbody>\n",
       "    <tr>\n",
       "      <th>0</th>\n",
       "      <td>110022</td>\n",
       "      <td>d001</td>\n",
       "      <td>1985-01-01</td>\n",
       "      <td>1991-10-01</td>\n",
       "      <td>1956-09-12</td>\n",
       "      <td>Margareta</td>\n",
       "      <td>Markovitch</td>\n",
       "      <td>M</td>\n",
       "      <td>1985-01-01</td>\n",
       "    </tr>\n",
       "    <tr>\n",
       "      <th>1</th>\n",
       "      <td>110039</td>\n",
       "      <td>d001</td>\n",
       "      <td>1991-10-01</td>\n",
       "      <td>9999-01-01</td>\n",
       "      <td>1963-06-21</td>\n",
       "      <td>Vishwani</td>\n",
       "      <td>Minakawa</td>\n",
       "      <td>M</td>\n",
       "      <td>1986-04-12</td>\n",
       "    </tr>\n",
       "    <tr>\n",
       "      <th>2</th>\n",
       "      <td>110085</td>\n",
       "      <td>d002</td>\n",
       "      <td>1985-01-01</td>\n",
       "      <td>1989-12-17</td>\n",
       "      <td>1959-10-28</td>\n",
       "      <td>Ebru</td>\n",
       "      <td>Alpin</td>\n",
       "      <td>M</td>\n",
       "      <td>1985-01-01</td>\n",
       "    </tr>\n",
       "    <tr>\n",
       "      <th>3</th>\n",
       "      <td>110114</td>\n",
       "      <td>d002</td>\n",
       "      <td>1989-12-17</td>\n",
       "      <td>9999-01-01</td>\n",
       "      <td>1957-03-28</td>\n",
       "      <td>Isamu</td>\n",
       "      <td>Legleitner</td>\n",
       "      <td>F</td>\n",
       "      <td>1985-01-14</td>\n",
       "    </tr>\n",
       "    <tr>\n",
       "      <th>4</th>\n",
       "      <td>110183</td>\n",
       "      <td>d003</td>\n",
       "      <td>1985-01-01</td>\n",
       "      <td>1992-03-21</td>\n",
       "      <td>1953-06-24</td>\n",
       "      <td>Shirish</td>\n",
       "      <td>Ossenbruggen</td>\n",
       "      <td>F</td>\n",
       "      <td>1985-01-01</td>\n",
       "    </tr>\n",
       "    <tr>\n",
       "      <th>5</th>\n",
       "      <td>110228</td>\n",
       "      <td>d003</td>\n",
       "      <td>1992-03-21</td>\n",
       "      <td>9999-01-01</td>\n",
       "      <td>1958-12-02</td>\n",
       "      <td>Karsten</td>\n",
       "      <td>Sigstam</td>\n",
       "      <td>F</td>\n",
       "      <td>1985-08-04</td>\n",
       "    </tr>\n",
       "    <tr>\n",
       "      <th>6</th>\n",
       "      <td>110303</td>\n",
       "      <td>d004</td>\n",
       "      <td>1985-01-01</td>\n",
       "      <td>1988-09-09</td>\n",
       "      <td>1956-06-08</td>\n",
       "      <td>Krassimir</td>\n",
       "      <td>Wegerle</td>\n",
       "      <td>F</td>\n",
       "      <td>1985-01-01</td>\n",
       "    </tr>\n",
       "    <tr>\n",
       "      <th>7</th>\n",
       "      <td>110344</td>\n",
       "      <td>d004</td>\n",
       "      <td>1988-09-09</td>\n",
       "      <td>1992-08-02</td>\n",
       "      <td>1961-09-07</td>\n",
       "      <td>Rosine</td>\n",
       "      <td>Cools</td>\n",
       "      <td>F</td>\n",
       "      <td>1985-11-22</td>\n",
       "    </tr>\n",
       "    <tr>\n",
       "      <th>8</th>\n",
       "      <td>110386</td>\n",
       "      <td>d004</td>\n",
       "      <td>1992-08-02</td>\n",
       "      <td>1996-08-30</td>\n",
       "      <td>1953-10-04</td>\n",
       "      <td>Shem</td>\n",
       "      <td>Kieras</td>\n",
       "      <td>M</td>\n",
       "      <td>1988-10-14</td>\n",
       "    </tr>\n",
       "    <tr>\n",
       "      <th>9</th>\n",
       "      <td>110420</td>\n",
       "      <td>d004</td>\n",
       "      <td>1996-08-30</td>\n",
       "      <td>9999-01-01</td>\n",
       "      <td>1963-07-27</td>\n",
       "      <td>Oscar</td>\n",
       "      <td>Ghazalie</td>\n",
       "      <td>M</td>\n",
       "      <td>1992-02-05</td>\n",
       "    </tr>\n",
       "    <tr>\n",
       "      <th>10</th>\n",
       "      <td>110511</td>\n",
       "      <td>d005</td>\n",
       "      <td>1985-01-01</td>\n",
       "      <td>1992-04-25</td>\n",
       "      <td>1957-07-08</td>\n",
       "      <td>DeForest</td>\n",
       "      <td>Hagimont</td>\n",
       "      <td>M</td>\n",
       "      <td>1985-01-01</td>\n",
       "    </tr>\n",
       "    <tr>\n",
       "      <th>11</th>\n",
       "      <td>110567</td>\n",
       "      <td>d005</td>\n",
       "      <td>1992-04-25</td>\n",
       "      <td>9999-01-01</td>\n",
       "      <td>1964-04-25</td>\n",
       "      <td>Leon</td>\n",
       "      <td>DasSarma</td>\n",
       "      <td>F</td>\n",
       "      <td>1986-10-21</td>\n",
       "    </tr>\n",
       "    <tr>\n",
       "      <th>12</th>\n",
       "      <td>110725</td>\n",
       "      <td>d006</td>\n",
       "      <td>1985-01-01</td>\n",
       "      <td>1989-05-06</td>\n",
       "      <td>1961-03-14</td>\n",
       "      <td>Peternela</td>\n",
       "      <td>Onuegbe</td>\n",
       "      <td>F</td>\n",
       "      <td>1985-01-01</td>\n",
       "    </tr>\n",
       "    <tr>\n",
       "      <th>13</th>\n",
       "      <td>110765</td>\n",
       "      <td>d006</td>\n",
       "      <td>1989-05-06</td>\n",
       "      <td>1991-09-12</td>\n",
       "      <td>1954-05-22</td>\n",
       "      <td>Rutger</td>\n",
       "      <td>Hofmeyr</td>\n",
       "      <td>F</td>\n",
       "      <td>1989-01-07</td>\n",
       "    </tr>\n",
       "    <tr>\n",
       "      <th>14</th>\n",
       "      <td>110800</td>\n",
       "      <td>d006</td>\n",
       "      <td>1991-09-12</td>\n",
       "      <td>1994-06-28</td>\n",
       "      <td>1963-02-07</td>\n",
       "      <td>Sanjoy</td>\n",
       "      <td>Quadeer</td>\n",
       "      <td>F</td>\n",
       "      <td>1986-08-12</td>\n",
       "    </tr>\n",
       "    <tr>\n",
       "      <th>15</th>\n",
       "      <td>110854</td>\n",
       "      <td>d006</td>\n",
       "      <td>1994-06-28</td>\n",
       "      <td>9999-01-01</td>\n",
       "      <td>1960-08-19</td>\n",
       "      <td>Dung</td>\n",
       "      <td>Pesch</td>\n",
       "      <td>M</td>\n",
       "      <td>1989-06-09</td>\n",
       "    </tr>\n",
       "    <tr>\n",
       "      <th>16</th>\n",
       "      <td>111035</td>\n",
       "      <td>d007</td>\n",
       "      <td>1985-01-01</td>\n",
       "      <td>1991-03-07</td>\n",
       "      <td>1962-02-24</td>\n",
       "      <td>Przemyslawa</td>\n",
       "      <td>Kaelbling</td>\n",
       "      <td>M</td>\n",
       "      <td>1985-01-01</td>\n",
       "    </tr>\n",
       "    <tr>\n",
       "      <th>17</th>\n",
       "      <td>111133</td>\n",
       "      <td>d007</td>\n",
       "      <td>1991-03-07</td>\n",
       "      <td>9999-01-01</td>\n",
       "      <td>1955-03-16</td>\n",
       "      <td>Hauke</td>\n",
       "      <td>Zhang</td>\n",
       "      <td>M</td>\n",
       "      <td>1986-12-30</td>\n",
       "    </tr>\n",
       "    <tr>\n",
       "      <th>18</th>\n",
       "      <td>111400</td>\n",
       "      <td>d008</td>\n",
       "      <td>1985-01-01</td>\n",
       "      <td>1991-04-08</td>\n",
       "      <td>1959-11-09</td>\n",
       "      <td>Arie</td>\n",
       "      <td>Staelin</td>\n",
       "      <td>M</td>\n",
       "      <td>1985-01-01</td>\n",
       "    </tr>\n",
       "    <tr>\n",
       "      <th>19</th>\n",
       "      <td>111534</td>\n",
       "      <td>d008</td>\n",
       "      <td>1991-04-08</td>\n",
       "      <td>9999-01-01</td>\n",
       "      <td>1952-06-27</td>\n",
       "      <td>Hilary</td>\n",
       "      <td>Kambil</td>\n",
       "      <td>F</td>\n",
       "      <td>1988-01-31</td>\n",
       "    </tr>\n",
       "    <tr>\n",
       "      <th>20</th>\n",
       "      <td>111692</td>\n",
       "      <td>d009</td>\n",
       "      <td>1985-01-01</td>\n",
       "      <td>1988-10-17</td>\n",
       "      <td>1954-10-05</td>\n",
       "      <td>Tonny</td>\n",
       "      <td>Butterworth</td>\n",
       "      <td>F</td>\n",
       "      <td>1985-01-01</td>\n",
       "    </tr>\n",
       "    <tr>\n",
       "      <th>21</th>\n",
       "      <td>111784</td>\n",
       "      <td>d009</td>\n",
       "      <td>1988-10-17</td>\n",
       "      <td>1992-09-08</td>\n",
       "      <td>1956-06-14</td>\n",
       "      <td>Marjo</td>\n",
       "      <td>Giarratana</td>\n",
       "      <td>F</td>\n",
       "      <td>1988-02-12</td>\n",
       "    </tr>\n",
       "    <tr>\n",
       "      <th>22</th>\n",
       "      <td>111877</td>\n",
       "      <td>d009</td>\n",
       "      <td>1992-09-08</td>\n",
       "      <td>1996-01-03</td>\n",
       "      <td>1962-10-18</td>\n",
       "      <td>Xiaobin</td>\n",
       "      <td>Spinelli</td>\n",
       "      <td>F</td>\n",
       "      <td>1991-08-17</td>\n",
       "    </tr>\n",
       "    <tr>\n",
       "      <th>23</th>\n",
       "      <td>111939</td>\n",
       "      <td>d009</td>\n",
       "      <td>1996-01-03</td>\n",
       "      <td>9999-01-01</td>\n",
       "      <td>1960-03-25</td>\n",
       "      <td>Yuchang</td>\n",
       "      <td>Weedman</td>\n",
       "      <td>M</td>\n",
       "      <td>1989-07-10</td>\n",
       "    </tr>\n",
       "  </tbody>\n",
       "</table>\n",
       "</div>"
      ],
      "text/plain": [
       "    emp_no dept_no   from_date     to_date  birth_date   first_name  \\\n",
       "0   110022    d001  1985-01-01  1991-10-01  1956-09-12    Margareta   \n",
       "1   110039    d001  1991-10-01  9999-01-01  1963-06-21     Vishwani   \n",
       "2   110085    d002  1985-01-01  1989-12-17  1959-10-28         Ebru   \n",
       "3   110114    d002  1989-12-17  9999-01-01  1957-03-28        Isamu   \n",
       "4   110183    d003  1985-01-01  1992-03-21  1953-06-24      Shirish   \n",
       "5   110228    d003  1992-03-21  9999-01-01  1958-12-02      Karsten   \n",
       "6   110303    d004  1985-01-01  1988-09-09  1956-06-08    Krassimir   \n",
       "7   110344    d004  1988-09-09  1992-08-02  1961-09-07       Rosine   \n",
       "8   110386    d004  1992-08-02  1996-08-30  1953-10-04         Shem   \n",
       "9   110420    d004  1996-08-30  9999-01-01  1963-07-27        Oscar   \n",
       "10  110511    d005  1985-01-01  1992-04-25  1957-07-08     DeForest   \n",
       "11  110567    d005  1992-04-25  9999-01-01  1964-04-25         Leon   \n",
       "12  110725    d006  1985-01-01  1989-05-06  1961-03-14    Peternela   \n",
       "13  110765    d006  1989-05-06  1991-09-12  1954-05-22       Rutger   \n",
       "14  110800    d006  1991-09-12  1994-06-28  1963-02-07       Sanjoy   \n",
       "15  110854    d006  1994-06-28  9999-01-01  1960-08-19         Dung   \n",
       "16  111035    d007  1985-01-01  1991-03-07  1962-02-24  Przemyslawa   \n",
       "17  111133    d007  1991-03-07  9999-01-01  1955-03-16        Hauke   \n",
       "18  111400    d008  1985-01-01  1991-04-08  1959-11-09         Arie   \n",
       "19  111534    d008  1991-04-08  9999-01-01  1952-06-27       Hilary   \n",
       "20  111692    d009  1985-01-01  1988-10-17  1954-10-05        Tonny   \n",
       "21  111784    d009  1988-10-17  1992-09-08  1956-06-14        Marjo   \n",
       "22  111877    d009  1992-09-08  1996-01-03  1962-10-18      Xiaobin   \n",
       "23  111939    d009  1996-01-03  9999-01-01  1960-03-25      Yuchang   \n",
       "\n",
       "       last_name gender   hire_date  \n",
       "0     Markovitch      M  1985-01-01  \n",
       "1       Minakawa      M  1986-04-12  \n",
       "2          Alpin      M  1985-01-01  \n",
       "3     Legleitner      F  1985-01-14  \n",
       "4   Ossenbruggen      F  1985-01-01  \n",
       "5        Sigstam      F  1985-08-04  \n",
       "6        Wegerle      F  1985-01-01  \n",
       "7          Cools      F  1985-11-22  \n",
       "8         Kieras      M  1988-10-14  \n",
       "9       Ghazalie      M  1992-02-05  \n",
       "10      Hagimont      M  1985-01-01  \n",
       "11      DasSarma      F  1986-10-21  \n",
       "12       Onuegbe      F  1985-01-01  \n",
       "13       Hofmeyr      F  1989-01-07  \n",
       "14       Quadeer      F  1986-08-12  \n",
       "15         Pesch      M  1989-06-09  \n",
       "16     Kaelbling      M  1985-01-01  \n",
       "17         Zhang      M  1986-12-30  \n",
       "18       Staelin      M  1985-01-01  \n",
       "19        Kambil      F  1988-01-31  \n",
       "20   Butterworth      F  1985-01-01  \n",
       "21    Giarratana      F  1988-02-12  \n",
       "22      Spinelli      F  1991-08-17  \n",
       "23       Weedman      M  1989-07-10  "
      ]
     },
     "execution_count": 119,
     "metadata": {},
     "output_type": "execute_result"
    }
   ],
   "source": [
    "full_dept_mgr_df"
   ]
  },
  {
   "cell_type": "code",
   "execution_count": 120,
   "id": "1ed5d51b-0460-4e99-88af-7faee57d9059",
   "metadata": {
    "tags": []
   },
   "outputs": [],
   "source": [
    "manager_emp_no = full_dept_mgr_df['emp_no']"
   ]
  },
  {
   "cell_type": "code",
   "execution_count": 127,
   "id": "75cf71ca-e1e0-4309-b8b5-522bffff0b5c",
   "metadata": {
    "tags": []
   },
   "outputs": [],
   "source": [
    "employee_df['manager'] = employee_df['emp_no'].isin(manager_emp_no)"
   ]
  },
  {
   "cell_type": "code",
   "execution_count": 128,
   "id": "10416dd0-84e7-4c38-b01d-3e9c56dcb63e",
   "metadata": {
    "tags": []
   },
   "outputs": [
    {
     "data": {
      "text/html": [
       "<div>\n",
       "<style scoped>\n",
       "    .dataframe tbody tr th:only-of-type {\n",
       "        vertical-align: middle;\n",
       "    }\n",
       "\n",
       "    .dataframe tbody tr th {\n",
       "        vertical-align: top;\n",
       "    }\n",
       "\n",
       "    .dataframe thead th {\n",
       "        text-align: right;\n",
       "    }\n",
       "</style>\n",
       "<table border=\"1\" class=\"dataframe\">\n",
       "  <thead>\n",
       "    <tr style=\"text-align: right;\">\n",
       "      <th></th>\n",
       "      <th>emp_no</th>\n",
       "      <th>birth_date</th>\n",
       "      <th>first_name</th>\n",
       "      <th>last_name</th>\n",
       "      <th>gender</th>\n",
       "      <th>hire_date</th>\n",
       "      <th>manager</th>\n",
       "    </tr>\n",
       "  </thead>\n",
       "  <tbody>\n",
       "    <tr>\n",
       "      <th>0</th>\n",
       "      <td>10001</td>\n",
       "      <td>1953-09-02</td>\n",
       "      <td>Georgi</td>\n",
       "      <td>Facello</td>\n",
       "      <td>M</td>\n",
       "      <td>1986-06-26</td>\n",
       "      <td>False</td>\n",
       "    </tr>\n",
       "    <tr>\n",
       "      <th>1</th>\n",
       "      <td>10002</td>\n",
       "      <td>1964-06-02</td>\n",
       "      <td>Bezalel</td>\n",
       "      <td>Simmel</td>\n",
       "      <td>F</td>\n",
       "      <td>1985-11-21</td>\n",
       "      <td>False</td>\n",
       "    </tr>\n",
       "    <tr>\n",
       "      <th>2</th>\n",
       "      <td>10003</td>\n",
       "      <td>1959-12-03</td>\n",
       "      <td>Parto</td>\n",
       "      <td>Bamford</td>\n",
       "      <td>M</td>\n",
       "      <td>1986-08-28</td>\n",
       "      <td>False</td>\n",
       "    </tr>\n",
       "    <tr>\n",
       "      <th>3</th>\n",
       "      <td>10004</td>\n",
       "      <td>1954-05-01</td>\n",
       "      <td>Chirstian</td>\n",
       "      <td>Koblick</td>\n",
       "      <td>M</td>\n",
       "      <td>1986-12-01</td>\n",
       "      <td>False</td>\n",
       "    </tr>\n",
       "    <tr>\n",
       "      <th>4</th>\n",
       "      <td>10005</td>\n",
       "      <td>1955-01-21</td>\n",
       "      <td>Kyoichi</td>\n",
       "      <td>Maliniak</td>\n",
       "      <td>M</td>\n",
       "      <td>1989-09-12</td>\n",
       "      <td>False</td>\n",
       "    </tr>\n",
       "    <tr>\n",
       "      <th>...</th>\n",
       "      <td>...</td>\n",
       "      <td>...</td>\n",
       "      <td>...</td>\n",
       "      <td>...</td>\n",
       "      <td>...</td>\n",
       "      <td>...</td>\n",
       "      <td>...</td>\n",
       "    </tr>\n",
       "    <tr>\n",
       "      <th>300019</th>\n",
       "      <td>499995</td>\n",
       "      <td>1958-09-24</td>\n",
       "      <td>Dekang</td>\n",
       "      <td>Lichtner</td>\n",
       "      <td>F</td>\n",
       "      <td>1993-01-12</td>\n",
       "      <td>False</td>\n",
       "    </tr>\n",
       "    <tr>\n",
       "      <th>300020</th>\n",
       "      <td>499996</td>\n",
       "      <td>1953-03-07</td>\n",
       "      <td>Zito</td>\n",
       "      <td>Baaz</td>\n",
       "      <td>M</td>\n",
       "      <td>1990-09-27</td>\n",
       "      <td>False</td>\n",
       "    </tr>\n",
       "    <tr>\n",
       "      <th>300021</th>\n",
       "      <td>499997</td>\n",
       "      <td>1961-08-03</td>\n",
       "      <td>Berhard</td>\n",
       "      <td>Lenart</td>\n",
       "      <td>M</td>\n",
       "      <td>1986-04-21</td>\n",
       "      <td>False</td>\n",
       "    </tr>\n",
       "    <tr>\n",
       "      <th>300022</th>\n",
       "      <td>499998</td>\n",
       "      <td>1956-09-05</td>\n",
       "      <td>Patricia</td>\n",
       "      <td>Breugel</td>\n",
       "      <td>M</td>\n",
       "      <td>1993-10-13</td>\n",
       "      <td>False</td>\n",
       "    </tr>\n",
       "    <tr>\n",
       "      <th>300023</th>\n",
       "      <td>499999</td>\n",
       "      <td>1958-05-01</td>\n",
       "      <td>Sachin</td>\n",
       "      <td>Tsukuda</td>\n",
       "      <td>M</td>\n",
       "      <td>1997-11-30</td>\n",
       "      <td>False</td>\n",
       "    </tr>\n",
       "  </tbody>\n",
       "</table>\n",
       "<p>300024 rows × 7 columns</p>\n",
       "</div>"
      ],
      "text/plain": [
       "        emp_no  birth_date first_name last_name gender   hire_date  manager\n",
       "0        10001  1953-09-02     Georgi   Facello      M  1986-06-26    False\n",
       "1        10002  1964-06-02    Bezalel    Simmel      F  1985-11-21    False\n",
       "2        10003  1959-12-03      Parto   Bamford      M  1986-08-28    False\n",
       "3        10004  1954-05-01  Chirstian   Koblick      M  1986-12-01    False\n",
       "4        10005  1955-01-21    Kyoichi  Maliniak      M  1989-09-12    False\n",
       "...        ...         ...        ...       ...    ...         ...      ...\n",
       "300019  499995  1958-09-24     Dekang  Lichtner      F  1993-01-12    False\n",
       "300020  499996  1953-03-07       Zito      Baaz      M  1990-09-27    False\n",
       "300021  499997  1961-08-03    Berhard    Lenart      M  1986-04-21    False\n",
       "300022  499998  1956-09-05   Patricia   Breugel      M  1993-10-13    False\n",
       "300023  499999  1958-05-01     Sachin   Tsukuda      M  1997-11-30    False\n",
       "\n",
       "[300024 rows x 7 columns]"
      ]
     },
     "execution_count": 128,
     "metadata": {},
     "output_type": "execute_result"
    }
   ],
   "source": [
    "employee_df"
   ]
  },
  {
   "cell_type": "code",
   "execution_count": 130,
   "id": "ca625c6c-37cf-44fa-81c6-428bc2c7ef20",
   "metadata": {
    "tags": []
   },
   "outputs": [
    {
     "data": {
      "text/html": [
       "<div>\n",
       "<style scoped>\n",
       "    .dataframe tbody tr th:only-of-type {\n",
       "        vertical-align: middle;\n",
       "    }\n",
       "\n",
       "    .dataframe tbody tr th {\n",
       "        vertical-align: top;\n",
       "    }\n",
       "\n",
       "    .dataframe thead th {\n",
       "        text-align: right;\n",
       "    }\n",
       "</style>\n",
       "<table border=\"1\" class=\"dataframe\">\n",
       "  <thead>\n",
       "    <tr style=\"text-align: right;\">\n",
       "      <th>manager</th>\n",
       "      <th>False</th>\n",
       "      <th>True</th>\n",
       "    </tr>\n",
       "    <tr>\n",
       "      <th>gender</th>\n",
       "      <th></th>\n",
       "      <th></th>\n",
       "    </tr>\n",
       "  </thead>\n",
       "  <tbody>\n",
       "    <tr>\n",
       "      <th>F</th>\n",
       "      <td>120038</td>\n",
       "      <td>13</td>\n",
       "    </tr>\n",
       "    <tr>\n",
       "      <th>M</th>\n",
       "      <td>179962</td>\n",
       "      <td>11</td>\n",
       "    </tr>\n",
       "  </tbody>\n",
       "</table>\n",
       "</div>"
      ],
      "text/plain": [
       "manager   False  True \n",
       "gender                \n",
       "F        120038     13\n",
       "M        179962     11"
      ]
     },
     "execution_count": 130,
     "metadata": {},
     "output_type": "execute_result"
    }
   ],
   "source": [
    "managers_observed = pd.crosstab(employee_df['gender'] , employee_df['manager'])\n",
    "managers_observed"
   ]
  },
  {
   "cell_type": "code",
   "execution_count": 131,
   "id": "7e2d635a-1c9c-4125-b823-3ba2c4940775",
   "metadata": {
    "tags": []
   },
   "outputs": [
    {
     "data": {
      "text/plain": [
       "0.5691938610810126"
      ]
     },
     "execution_count": 131,
     "metadata": {},
     "output_type": "execute_result"
    }
   ],
   "source": [
    "chi2, p, degf, expected = stats.chi2_contingency(observed)\n",
    "p"
   ]
  },
  {
   "cell_type": "code",
   "execution_count": 132,
   "id": "b828179c-edeb-4b9d-9f69-a486d3dce6ca",
   "metadata": {
    "tags": []
   },
   "outputs": [
    {
     "name": "stdout",
     "output_type": "stream",
     "text": [
      "p-value: 0.5691938610810126\n",
      "We fail to reject the null hypothesis.\n",
      "In this instance, there is not a significant relationship between gender and manager.\n"
     ]
    }
   ],
   "source": [
    "in_conclusion(p, α, 'gender', 'manager')"
   ]
  },
  {
   "cell_type": "markdown",
   "id": "03009e76-0257-4a51-8652-a442247e324d",
   "metadata": {},
   "source": [
    "# Exercises III - Correlation"
   ]
  },
  {
   "cell_type": "markdown",
   "id": "13a83305-6931-4320-8e9b-1049769ff29b",
   "metadata": {},
   "source": [
    "### 1. Answer with the type of stats test you would use (assume normal distribution):\n",
    "\n",
    "- Is there a relationship between the length of your arm and the length of your foot?\n",
    "Pearson's R\n",
    "- Does smoking affect when or not someone has lung cancer?\n",
    "χ^2\n",
    "- Is gender independent of a person’s blood type?\n",
    "χ^2\n",
    "- Does whether or not a person has a cat or dog affect whether they live in an apartment?\n",
    "χ^2\n",
    "- Does the length of time of the lecture correlate with a student's grade?\n",
    "Pearson's R"
   ]
  },
  {
   "cell_type": "markdown",
   "id": "607f3d6f-3be5-4c89-ae88-2e36a2b6f7c2",
   "metadata": {},
   "source": [
    "### 2. Use the telco_churn data.\n",
    "\n",
    "- Does tenure correlate with monthly charges?\n",
    "- Total charges?\n",
    "- What happens if you control for phone and internet service?"
   ]
  },
  {
   "cell_type": "code",
   "execution_count": 25,
   "id": "a7616f1d-776f-4bf0-8e64-9c252382b489",
   "metadata": {
    "tags": []
   },
   "outputs": [],
   "source": [
    "# defining null, alternative hypothesis and α \n",
    "# H0 = There is no corellation between monthly charges and tenure.\n",
    "# Hα = There is a corellation between monthly charges and tenure.\n",
    "α = .05"
   ]
  },
  {
   "cell_type": "code",
   "execution_count": 26,
   "id": "ebc62b82-9017-4945-93ef-1bf62f0b9a32",
   "metadata": {
    "tags": []
   },
   "outputs": [],
   "source": [
    "telco_churn_db_url = f'mysql+pymysql://{env.user}:{env.password}@{env.host}/telco_churn'\n",
    "telco_churn_query = 'SELECT * FROM customers'\n",
    "telco_churn_df = pd.read_sql(telco_churn_query, telco_churn_db_url)"
   ]
  },
  {
   "cell_type": "code",
   "execution_count": 27,
   "id": "f9ed6522-9334-4073-a745-3cae1429c0ea",
   "metadata": {
    "tags": []
   },
   "outputs": [
    {
     "data": {
      "text/html": [
       "<div>\n",
       "<style scoped>\n",
       "    .dataframe tbody tr th:only-of-type {\n",
       "        vertical-align: middle;\n",
       "    }\n",
       "\n",
       "    .dataframe tbody tr th {\n",
       "        vertical-align: top;\n",
       "    }\n",
       "\n",
       "    .dataframe thead th {\n",
       "        text-align: right;\n",
       "    }\n",
       "</style>\n",
       "<table border=\"1\" class=\"dataframe\">\n",
       "  <thead>\n",
       "    <tr style=\"text-align: right;\">\n",
       "      <th></th>\n",
       "      <th>customer_id</th>\n",
       "      <th>gender</th>\n",
       "      <th>senior_citizen</th>\n",
       "      <th>partner</th>\n",
       "      <th>dependents</th>\n",
       "      <th>tenure</th>\n",
       "      <th>phone_service</th>\n",
       "      <th>multiple_lines</th>\n",
       "      <th>internet_service_type_id</th>\n",
       "      <th>online_security</th>\n",
       "      <th>...</th>\n",
       "      <th>device_protection</th>\n",
       "      <th>tech_support</th>\n",
       "      <th>streaming_tv</th>\n",
       "      <th>streaming_movies</th>\n",
       "      <th>contract_type_id</th>\n",
       "      <th>paperless_billing</th>\n",
       "      <th>payment_type_id</th>\n",
       "      <th>monthly_charges</th>\n",
       "      <th>total_charges</th>\n",
       "      <th>churn</th>\n",
       "    </tr>\n",
       "  </thead>\n",
       "  <tbody>\n",
       "    <tr>\n",
       "      <th>0</th>\n",
       "      <td>0002-ORFBO</td>\n",
       "      <td>Female</td>\n",
       "      <td>0</td>\n",
       "      <td>Yes</td>\n",
       "      <td>Yes</td>\n",
       "      <td>9</td>\n",
       "      <td>Yes</td>\n",
       "      <td>No</td>\n",
       "      <td>1</td>\n",
       "      <td>No</td>\n",
       "      <td>...</td>\n",
       "      <td>No</td>\n",
       "      <td>Yes</td>\n",
       "      <td>Yes</td>\n",
       "      <td>No</td>\n",
       "      <td>2</td>\n",
       "      <td>Yes</td>\n",
       "      <td>2</td>\n",
       "      <td>65.60</td>\n",
       "      <td>593.3</td>\n",
       "      <td>No</td>\n",
       "    </tr>\n",
       "    <tr>\n",
       "      <th>1</th>\n",
       "      <td>0003-MKNFE</td>\n",
       "      <td>Male</td>\n",
       "      <td>0</td>\n",
       "      <td>No</td>\n",
       "      <td>No</td>\n",
       "      <td>9</td>\n",
       "      <td>Yes</td>\n",
       "      <td>Yes</td>\n",
       "      <td>1</td>\n",
       "      <td>No</td>\n",
       "      <td>...</td>\n",
       "      <td>No</td>\n",
       "      <td>No</td>\n",
       "      <td>No</td>\n",
       "      <td>Yes</td>\n",
       "      <td>1</td>\n",
       "      <td>No</td>\n",
       "      <td>2</td>\n",
       "      <td>59.90</td>\n",
       "      <td>542.4</td>\n",
       "      <td>No</td>\n",
       "    </tr>\n",
       "    <tr>\n",
       "      <th>2</th>\n",
       "      <td>0004-TLHLJ</td>\n",
       "      <td>Male</td>\n",
       "      <td>0</td>\n",
       "      <td>No</td>\n",
       "      <td>No</td>\n",
       "      <td>4</td>\n",
       "      <td>Yes</td>\n",
       "      <td>No</td>\n",
       "      <td>2</td>\n",
       "      <td>No</td>\n",
       "      <td>...</td>\n",
       "      <td>Yes</td>\n",
       "      <td>No</td>\n",
       "      <td>No</td>\n",
       "      <td>No</td>\n",
       "      <td>1</td>\n",
       "      <td>Yes</td>\n",
       "      <td>1</td>\n",
       "      <td>73.90</td>\n",
       "      <td>280.85</td>\n",
       "      <td>Yes</td>\n",
       "    </tr>\n",
       "    <tr>\n",
       "      <th>3</th>\n",
       "      <td>0011-IGKFF</td>\n",
       "      <td>Male</td>\n",
       "      <td>1</td>\n",
       "      <td>Yes</td>\n",
       "      <td>No</td>\n",
       "      <td>13</td>\n",
       "      <td>Yes</td>\n",
       "      <td>No</td>\n",
       "      <td>2</td>\n",
       "      <td>No</td>\n",
       "      <td>...</td>\n",
       "      <td>Yes</td>\n",
       "      <td>No</td>\n",
       "      <td>Yes</td>\n",
       "      <td>Yes</td>\n",
       "      <td>1</td>\n",
       "      <td>Yes</td>\n",
       "      <td>1</td>\n",
       "      <td>98.00</td>\n",
       "      <td>1237.85</td>\n",
       "      <td>Yes</td>\n",
       "    </tr>\n",
       "    <tr>\n",
       "      <th>4</th>\n",
       "      <td>0013-EXCHZ</td>\n",
       "      <td>Female</td>\n",
       "      <td>1</td>\n",
       "      <td>Yes</td>\n",
       "      <td>No</td>\n",
       "      <td>3</td>\n",
       "      <td>Yes</td>\n",
       "      <td>No</td>\n",
       "      <td>2</td>\n",
       "      <td>No</td>\n",
       "      <td>...</td>\n",
       "      <td>No</td>\n",
       "      <td>Yes</td>\n",
       "      <td>Yes</td>\n",
       "      <td>No</td>\n",
       "      <td>1</td>\n",
       "      <td>Yes</td>\n",
       "      <td>2</td>\n",
       "      <td>83.90</td>\n",
       "      <td>267.4</td>\n",
       "      <td>Yes</td>\n",
       "    </tr>\n",
       "    <tr>\n",
       "      <th>...</th>\n",
       "      <td>...</td>\n",
       "      <td>...</td>\n",
       "      <td>...</td>\n",
       "      <td>...</td>\n",
       "      <td>...</td>\n",
       "      <td>...</td>\n",
       "      <td>...</td>\n",
       "      <td>...</td>\n",
       "      <td>...</td>\n",
       "      <td>...</td>\n",
       "      <td>...</td>\n",
       "      <td>...</td>\n",
       "      <td>...</td>\n",
       "      <td>...</td>\n",
       "      <td>...</td>\n",
       "      <td>...</td>\n",
       "      <td>...</td>\n",
       "      <td>...</td>\n",
       "      <td>...</td>\n",
       "      <td>...</td>\n",
       "      <td>...</td>\n",
       "    </tr>\n",
       "    <tr>\n",
       "      <th>7038</th>\n",
       "      <td>9987-LUTYD</td>\n",
       "      <td>Female</td>\n",
       "      <td>0</td>\n",
       "      <td>No</td>\n",
       "      <td>No</td>\n",
       "      <td>13</td>\n",
       "      <td>Yes</td>\n",
       "      <td>No</td>\n",
       "      <td>1</td>\n",
       "      <td>Yes</td>\n",
       "      <td>...</td>\n",
       "      <td>No</td>\n",
       "      <td>Yes</td>\n",
       "      <td>No</td>\n",
       "      <td>No</td>\n",
       "      <td>2</td>\n",
       "      <td>No</td>\n",
       "      <td>2</td>\n",
       "      <td>55.15</td>\n",
       "      <td>742.9</td>\n",
       "      <td>No</td>\n",
       "    </tr>\n",
       "    <tr>\n",
       "      <th>7039</th>\n",
       "      <td>9992-RRAMN</td>\n",
       "      <td>Male</td>\n",
       "      <td>0</td>\n",
       "      <td>Yes</td>\n",
       "      <td>No</td>\n",
       "      <td>22</td>\n",
       "      <td>Yes</td>\n",
       "      <td>Yes</td>\n",
       "      <td>2</td>\n",
       "      <td>No</td>\n",
       "      <td>...</td>\n",
       "      <td>No</td>\n",
       "      <td>No</td>\n",
       "      <td>No</td>\n",
       "      <td>Yes</td>\n",
       "      <td>1</td>\n",
       "      <td>Yes</td>\n",
       "      <td>1</td>\n",
       "      <td>85.10</td>\n",
       "      <td>1873.7</td>\n",
       "      <td>Yes</td>\n",
       "    </tr>\n",
       "    <tr>\n",
       "      <th>7040</th>\n",
       "      <td>9992-UJOEL</td>\n",
       "      <td>Male</td>\n",
       "      <td>0</td>\n",
       "      <td>No</td>\n",
       "      <td>No</td>\n",
       "      <td>2</td>\n",
       "      <td>Yes</td>\n",
       "      <td>No</td>\n",
       "      <td>1</td>\n",
       "      <td>No</td>\n",
       "      <td>...</td>\n",
       "      <td>No</td>\n",
       "      <td>No</td>\n",
       "      <td>No</td>\n",
       "      <td>No</td>\n",
       "      <td>1</td>\n",
       "      <td>Yes</td>\n",
       "      <td>2</td>\n",
       "      <td>50.30</td>\n",
       "      <td>92.75</td>\n",
       "      <td>No</td>\n",
       "    </tr>\n",
       "    <tr>\n",
       "      <th>7041</th>\n",
       "      <td>9993-LHIEB</td>\n",
       "      <td>Male</td>\n",
       "      <td>0</td>\n",
       "      <td>Yes</td>\n",
       "      <td>Yes</td>\n",
       "      <td>67</td>\n",
       "      <td>Yes</td>\n",
       "      <td>No</td>\n",
       "      <td>1</td>\n",
       "      <td>Yes</td>\n",
       "      <td>...</td>\n",
       "      <td>Yes</td>\n",
       "      <td>Yes</td>\n",
       "      <td>No</td>\n",
       "      <td>Yes</td>\n",
       "      <td>3</td>\n",
       "      <td>No</td>\n",
       "      <td>2</td>\n",
       "      <td>67.85</td>\n",
       "      <td>4627.65</td>\n",
       "      <td>No</td>\n",
       "    </tr>\n",
       "    <tr>\n",
       "      <th>7042</th>\n",
       "      <td>9995-HOTOH</td>\n",
       "      <td>Male</td>\n",
       "      <td>0</td>\n",
       "      <td>Yes</td>\n",
       "      <td>Yes</td>\n",
       "      <td>63</td>\n",
       "      <td>No</td>\n",
       "      <td>No phone service</td>\n",
       "      <td>1</td>\n",
       "      <td>Yes</td>\n",
       "      <td>...</td>\n",
       "      <td>Yes</td>\n",
       "      <td>No</td>\n",
       "      <td>Yes</td>\n",
       "      <td>Yes</td>\n",
       "      <td>3</td>\n",
       "      <td>No</td>\n",
       "      <td>1</td>\n",
       "      <td>59.00</td>\n",
       "      <td>3707.6</td>\n",
       "      <td>No</td>\n",
       "    </tr>\n",
       "  </tbody>\n",
       "</table>\n",
       "<p>7043 rows × 21 columns</p>\n",
       "</div>"
      ],
      "text/plain": [
       "     customer_id  gender  senior_citizen partner dependents  tenure  \\\n",
       "0     0002-ORFBO  Female               0     Yes        Yes       9   \n",
       "1     0003-MKNFE    Male               0      No         No       9   \n",
       "2     0004-TLHLJ    Male               0      No         No       4   \n",
       "3     0011-IGKFF    Male               1     Yes         No      13   \n",
       "4     0013-EXCHZ  Female               1     Yes         No       3   \n",
       "...          ...     ...             ...     ...        ...     ...   \n",
       "7038  9987-LUTYD  Female               0      No         No      13   \n",
       "7039  9992-RRAMN    Male               0     Yes         No      22   \n",
       "7040  9992-UJOEL    Male               0      No         No       2   \n",
       "7041  9993-LHIEB    Male               0     Yes        Yes      67   \n",
       "7042  9995-HOTOH    Male               0     Yes        Yes      63   \n",
       "\n",
       "     phone_service    multiple_lines  internet_service_type_id  \\\n",
       "0              Yes                No                         1   \n",
       "1              Yes               Yes                         1   \n",
       "2              Yes                No                         2   \n",
       "3              Yes                No                         2   \n",
       "4              Yes                No                         2   \n",
       "...            ...               ...                       ...   \n",
       "7038           Yes                No                         1   \n",
       "7039           Yes               Yes                         2   \n",
       "7040           Yes                No                         1   \n",
       "7041           Yes                No                         1   \n",
       "7042            No  No phone service                         1   \n",
       "\n",
       "     online_security  ... device_protection tech_support streaming_tv  \\\n",
       "0                 No  ...                No          Yes          Yes   \n",
       "1                 No  ...                No           No           No   \n",
       "2                 No  ...               Yes           No           No   \n",
       "3                 No  ...               Yes           No          Yes   \n",
       "4                 No  ...                No          Yes          Yes   \n",
       "...              ...  ...               ...          ...          ...   \n",
       "7038             Yes  ...                No          Yes           No   \n",
       "7039              No  ...                No           No           No   \n",
       "7040              No  ...                No           No           No   \n",
       "7041             Yes  ...               Yes          Yes           No   \n",
       "7042             Yes  ...               Yes           No          Yes   \n",
       "\n",
       "     streaming_movies contract_type_id  paperless_billing payment_type_id  \\\n",
       "0                  No                2                Yes               2   \n",
       "1                 Yes                1                 No               2   \n",
       "2                  No                1                Yes               1   \n",
       "3                 Yes                1                Yes               1   \n",
       "4                  No                1                Yes               2   \n",
       "...               ...              ...                ...             ...   \n",
       "7038               No                2                 No               2   \n",
       "7039              Yes                1                Yes               1   \n",
       "7040               No                1                Yes               2   \n",
       "7041              Yes                3                 No               2   \n",
       "7042              Yes                3                 No               1   \n",
       "\n",
       "      monthly_charges  total_charges churn  \n",
       "0               65.60          593.3    No  \n",
       "1               59.90          542.4    No  \n",
       "2               73.90         280.85   Yes  \n",
       "3               98.00        1237.85   Yes  \n",
       "4               83.90          267.4   Yes  \n",
       "...               ...            ...   ...  \n",
       "7038            55.15          742.9    No  \n",
       "7039            85.10         1873.7   Yes  \n",
       "7040            50.30          92.75    No  \n",
       "7041            67.85        4627.65    No  \n",
       "7042            59.00         3707.6    No  \n",
       "\n",
       "[7043 rows x 21 columns]"
      ]
     },
     "execution_count": 27,
     "metadata": {},
     "output_type": "execute_result"
    }
   ],
   "source": [
    "telco_churn_df"
   ]
  },
  {
   "cell_type": "code",
   "execution_count": 28,
   "id": "953eae1d-4f54-4f9e-985b-90624d844176",
   "metadata": {
    "tags": []
   },
   "outputs": [],
   "source": [
    "def eval_dist(r,p,α=0.05):\n",
    "    if p > α:\n",
    "        return print(f''' the data is normally distributed''')\n",
    "    else:\n",
    "        return print(f''' the data is NOT normally distributed''')"
   ]
  },
  {
   "cell_type": "code",
   "execution_count": 29,
   "id": "2c5b2f19-4e3d-44dd-9c2e-d337f7a251c9",
   "metadata": {
    "tags": []
   },
   "outputs": [],
   "source": [
    "from scipy.stats import shapiro"
   ]
  },
  {
   "cell_type": "code",
   "execution_count": 30,
   "id": "37a79b7f-0a76-4d81-b12c-a56e3c81d927",
   "metadata": {
    "tags": []
   },
   "outputs": [
    {
     "name": "stdout",
     "output_type": "stream",
     "text": [
      " the data is NOT normally distributed\n"
     ]
    },
    {
     "name": "stderr",
     "output_type": "stream",
     "text": [
      "/usr/local/anaconda3/lib/python3.11/site-packages/scipy/stats/_morestats.py:1816: UserWarning: p-value may not be accurate for N > 5000.\n",
      "  warnings.warn(\"p-value may not be accurate for N > 5000.\")\n"
     ]
    }
   ],
   "source": [
    "r,p = stats.shapiro(telco_churn_df['tenure'])\n",
    "eval_dist(r,p)"
   ]
  },
  {
   "cell_type": "code",
   "execution_count": 31,
   "id": "6d8f98a8-30eb-4d67-9608-95998c2822f7",
   "metadata": {
    "tags": []
   },
   "outputs": [
    {
     "data": {
      "text/plain": [
       "(0.27641678933130215, 1.0271266876409408e-123)"
      ]
     },
     "execution_count": 31,
     "metadata": {},
     "output_type": "execute_result"
    }
   ],
   "source": [
    "sr,sp = stats.spearmanr(telco_churn_df['tenure'], telco_churn_df['monthly_charges'])\n",
    "sr,sp"
   ]
  },
  {
   "cell_type": "code",
   "execution_count": 32,
   "id": "3ae150d6-75a3-452e-8faf-64727adada0e",
   "metadata": {},
   "outputs": [],
   "source": [
    "def eval_Sresult(r,p, α=0.05):\n",
    "    if p<α:\n",
    "        return print(f\"\"\"Reject the null hypothesis. There is a linear correlation.\n",
    "Spearman’s r: {r:2f}\n",
    "P-value: {p}\"\"\")\n",
    "    else:\n",
    "        return print(f\"\"\"We fail to reject the null hypothesis that there is a linear correlation.\n",
    "Spearman’s r: {r:2f}\n",
    "P-value: {p}\"\"\")"
   ]
  },
  {
   "cell_type": "code",
   "execution_count": 33,
   "id": "bad09370-5c1c-4429-bd03-ec178254775f",
   "metadata": {},
   "outputs": [
    {
     "name": "stdout",
     "output_type": "stream",
     "text": [
      "Reject the null hypothesis. There is a linear correlation.\n",
      "Spearman’s r: 0.276417\n",
      "P-value: 1.0271266876409408e-123\n"
     ]
    }
   ],
   "source": [
    "eval_Sresult(sr,sp)"
   ]
  },
  {
   "cell_type": "code",
   "execution_count": 34,
   "id": "39198693-aed0-410a-9dde-955a0798f629",
   "metadata": {
    "tags": []
   },
   "outputs": [],
   "source": [
    "# defining null, alternative hypothesis and α \n",
    "# H0 = There is no corellation between total charges and tenure.\n",
    "# Hα = There is a corellation between total charges and tenure.\n",
    "α = .05"
   ]
  },
  {
   "cell_type": "code",
   "execution_count": 35,
   "id": "47f07090-841c-4169-93c0-ec1b67a5ae48",
   "metadata": {
    "tags": []
   },
   "outputs": [],
   "source": [
    "telco_df = telco_churn_df[['tenure', 'total_charges']]"
   ]
  },
  {
   "cell_type": "code",
   "execution_count": 36,
   "id": "b26c77a1-e9c6-48fa-ad44-a0c75ae3b03c",
   "metadata": {
    "tags": []
   },
   "outputs": [
    {
     "data": {
      "text/html": [
       "<div>\n",
       "<style scoped>\n",
       "    .dataframe tbody tr th:only-of-type {\n",
       "        vertical-align: middle;\n",
       "    }\n",
       "\n",
       "    .dataframe tbody tr th {\n",
       "        vertical-align: top;\n",
       "    }\n",
       "\n",
       "    .dataframe thead th {\n",
       "        text-align: right;\n",
       "    }\n",
       "</style>\n",
       "<table border=\"1\" class=\"dataframe\">\n",
       "  <thead>\n",
       "    <tr style=\"text-align: right;\">\n",
       "      <th></th>\n",
       "      <th>tenure</th>\n",
       "      <th>total_charges</th>\n",
       "    </tr>\n",
       "  </thead>\n",
       "  <tbody>\n",
       "    <tr>\n",
       "      <th>2855</th>\n",
       "      <td>0</td>\n",
       "      <td></td>\n",
       "    </tr>\n",
       "    <tr>\n",
       "      <th>3118</th>\n",
       "      <td>0</td>\n",
       "      <td></td>\n",
       "    </tr>\n",
       "    <tr>\n",
       "      <th>3052</th>\n",
       "      <td>0</td>\n",
       "      <td></td>\n",
       "    </tr>\n",
       "    <tr>\n",
       "      <th>5433</th>\n",
       "      <td>0</td>\n",
       "      <td></td>\n",
       "    </tr>\n",
       "    <tr>\n",
       "      <th>1731</th>\n",
       "      <td>0</td>\n",
       "      <td></td>\n",
       "    </tr>\n",
       "    <tr>\n",
       "      <th>...</th>\n",
       "      <td>...</td>\n",
       "      <td>...</td>\n",
       "    </tr>\n",
       "    <tr>\n",
       "      <th>5868</th>\n",
       "      <td>51</td>\n",
       "      <td>997.75</td>\n",
       "    </tr>\n",
       "    <tr>\n",
       "      <th>4298</th>\n",
       "      <td>55</td>\n",
       "      <td>998.1</td>\n",
       "    </tr>\n",
       "    <tr>\n",
       "      <th>4173</th>\n",
       "      <td>13</td>\n",
       "      <td>999.45</td>\n",
       "    </tr>\n",
       "    <tr>\n",
       "      <th>3162</th>\n",
       "      <td>12</td>\n",
       "      <td>999.8</td>\n",
       "    </tr>\n",
       "    <tr>\n",
       "      <th>6421</th>\n",
       "      <td>11</td>\n",
       "      <td>999.9</td>\n",
       "    </tr>\n",
       "  </tbody>\n",
       "</table>\n",
       "<p>7043 rows × 2 columns</p>\n",
       "</div>"
      ],
      "text/plain": [
       "      tenure total_charges\n",
       "2855       0              \n",
       "3118       0              \n",
       "3052       0              \n",
       "5433       0              \n",
       "1731       0              \n",
       "...      ...           ...\n",
       "5868      51        997.75\n",
       "4298      55         998.1\n",
       "4173      13        999.45\n",
       "3162      12         999.8\n",
       "6421      11         999.9\n",
       "\n",
       "[7043 rows x 2 columns]"
      ]
     },
     "execution_count": 36,
     "metadata": {},
     "output_type": "execute_result"
    }
   ],
   "source": [
    "telco_df.sort_values('total_charges')"
   ]
  },
  {
   "cell_type": "code",
   "execution_count": 37,
   "id": "a33aa3dd-0756-4595-aa04-fc147e26bd66",
   "metadata": {
    "tags": []
   },
   "outputs": [
    {
     "name": "stderr",
     "output_type": "stream",
     "text": [
      "/var/folders/sw/4nk3j1h92wb2t79pkgpn3gcw0000gp/T/ipykernel_2677/3184750335.py:1: SettingWithCopyWarning: \n",
      "A value is trying to be set on a copy of a slice from a DataFrame.\n",
      "Try using .loc[row_indexer,col_indexer] = value instead\n",
      "\n",
      "See the caveats in the documentation: https://pandas.pydata.org/pandas-docs/stable/user_guide/indexing.html#returning-a-view-versus-a-copy\n",
      "  telco_df['total_charges']= telco_df['total_charges'].str.replace(' ', '0').astype('float')\n"
     ]
    }
   ],
   "source": [
    "telco_df['total_charges']= telco_df['total_charges'].str.replace(' ', '0').astype('float')"
   ]
  },
  {
   "cell_type": "code",
   "execution_count": 38,
   "id": "51e5dff0-2e7e-472a-87dd-b0d87632394d",
   "metadata": {
    "tags": []
   },
   "outputs": [
    {
     "data": {
      "image/png": "[encoded data removed]",
      "text/plain": [
       "<Figure size 640x480 with 1 Axes>"
      ]
     },
     "metadata": {},
     "output_type": "display_data"
    },
    {
     "data": {
      "image/png": "[encoded data removed]",
      "text/plain": [
       "<Figure size 640x480 with 1 Axes>"
      ]
     },
     "metadata": {},
     "output_type": "display_data"
    }
   ],
   "source": [
    "telco_df['total_charges'].hist()\n",
    "plt.show()\n",
    "\n",
    "telco_df['tenure'].hist()\n",
    "plt.show()"
   ]
  },
  {
   "cell_type": "code",
   "execution_count": 39,
   "id": "d775aed8-e386-4f1f-9b58-de04eb02f2f7",
   "metadata": {
    "tags": []
   },
   "outputs": [
    {
     "name": "stderr",
     "output_type": "stream",
     "text": [
      "/usr/local/anaconda3/lib/python3.11/site-packages/scipy/stats/_morestats.py:1816: UserWarning: p-value may not be accurate for N > 5000.\n",
      "  warnings.warn(\"p-value may not be accurate for N > 5000.\")\n"
     ]
    },
    {
     "data": {
      "text/plain": [
       "(0.8601522445678711, 0.0)"
      ]
     },
     "execution_count": 39,
     "metadata": {},
     "output_type": "execute_result"
    }
   ],
   "source": [
    "r,p = stats.shapiro(telco_df.total_charges)\n",
    "\n",
    "r,p"
   ]
  },
  {
   "cell_type": "code",
   "execution_count": 40,
   "id": "580fed1c-46b1-49dc-b7df-cf8f5d6c8ab1",
   "metadata": {
    "tags": []
   },
   "outputs": [
    {
     "name": "stdout",
     "output_type": "stream",
     "text": [
      " the data is NOT normally distributed\n"
     ]
    }
   ],
   "source": [
    "eval_dist(r,p)"
   ]
  },
  {
   "cell_type": "code",
   "execution_count": 41,
   "id": "0a41d44a-d1a9-4188-aaab-bfda0ef1c817",
   "metadata": {
    "tags": []
   },
   "outputs": [
    {
     "data": {
      "text/plain": [
       "(0.8896957900597577, 0.0)"
      ]
     },
     "execution_count": 41,
     "metadata": {},
     "output_type": "execute_result"
    }
   ],
   "source": [
    "sr,sp = stats.spearmanr(telco_df['tenure'], telco_df['total_charges'])\n",
    "sr,sp"
   ]
  },
  {
   "cell_type": "code",
   "execution_count": 42,
   "id": "80816158-0ad4-4f02-95b2-59483e43396c",
   "metadata": {
    "tags": []
   },
   "outputs": [
    {
     "name": "stdout",
     "output_type": "stream",
     "text": [
      "Reject the null hypothesis. There is a linear correlation.\n",
      "Spearman’s r: 0.889696\n",
      "P-value: 0.0\n"
     ]
    }
   ],
   "source": [
    "eval_Sresult(sr,sp)"
   ]
  },
  {
   "cell_type": "markdown",
   "id": "1ae290f9-40ec-4047-87c8-78d92dc76a61",
   "metadata": {},
   "source": [
    "H$_0$: There is no linear correlation between tenure and monthly charges of phone & internet customers\n",
    "\n",
    "H$_α$: There is a linear correlation between tenure and monthly charges of phone & internet customers"
   ]
  },
  {
   "cell_type": "code",
   "execution_count": 43,
   "id": "1eca1fa5-aefd-4b93-ba38-0883a0b0716a",
   "metadata": {},
   "outputs": [],
   "source": [
    "α = 0.05"
   ]
  },
  {
   "cell_type": "code",
   "execution_count": 44,
   "id": "a6df6d30-4769-4652-88ea-b1d4cff720b8",
   "metadata": {
    "tags": []
   },
   "outputs": [],
   "source": [
    "control_df = telco_churn_df[(telco_churn_df['phone_service'] == \"Yes\") & (telco_churn_df['internet_service_type_id'] == 1)][['monthly_charges', 'tenure']]"
   ]
  },
  {
   "cell_type": "code",
   "execution_count": 45,
   "id": "9bf35da7-269d-49b2-a503-cee46f5c159a",
   "metadata": {
    "tags": []
   },
   "outputs": [
    {
     "name": "stdout",
     "output_type": "stream",
     "text": [
      "<class 'pandas.core.frame.DataFrame'>\n",
      "Index: 1739 entries, 0 to 7041\n",
      "Data columns (total 2 columns):\n",
      " #   Column           Non-Null Count  Dtype  \n",
      "---  ------           --------------  -----  \n",
      " 0   monthly_charges  1739 non-null   float64\n",
      " 1   tenure           1739 non-null   int64  \n",
      "dtypes: float64(1), int64(1)\n",
      "memory usage: 40.8 KB\n"
     ]
    }
   ],
   "source": [
    "control_df.info()"
   ]
  },
  {
   "cell_type": "code",
   "execution_count": 46,
   "id": "c238fa7b-95d9-4189-8b99-b04f94ed91c8",
   "metadata": {
    "tags": []
   },
   "outputs": [
    {
     "data": {
      "text/plain": [
       "(0.9584367871284485, 7.018878923260152e-22)"
      ]
     },
     "execution_count": 46,
     "metadata": {},
     "output_type": "execute_result"
    }
   ],
   "source": [
    "r,p = stats.shapiro(control_df['monthly_charges'])\n",
    "r,p"
   ]
  },
  {
   "cell_type": "code",
   "execution_count": 47,
   "id": "42063be4-5e43-42b0-8239-badf77882ad8",
   "metadata": {
    "tags": []
   },
   "outputs": [
    {
     "name": "stdout",
     "output_type": "stream",
     "text": [
      " the data is NOT normally distributed\n"
     ]
    }
   ],
   "source": [
    "eval_dist(r,p)"
   ]
  },
  {
   "cell_type": "code",
   "execution_count": 48,
   "id": "a0cd5167-4b78-46e8-925d-e97465a82bb3",
   "metadata": {
    "tags": []
   },
   "outputs": [
    {
     "data": {
      "text/plain": [
       "(0.8991785645484924, 2.3522259094488155e-32)"
      ]
     },
     "execution_count": 48,
     "metadata": {},
     "output_type": "execute_result"
    }
   ],
   "source": [
    "r,p = stats.shapiro(control_df['tenure'])\n",
    "r,p"
   ]
  },
  {
   "cell_type": "code",
   "execution_count": 49,
   "id": "4c401bf6-5bb8-468d-8903-51e850bb624c",
   "metadata": {
    "tags": []
   },
   "outputs": [
    {
     "name": "stdout",
     "output_type": "stream",
     "text": [
      " the data is NOT normally distributed\n"
     ]
    }
   ],
   "source": [
    "eval_dist(r,p)"
   ]
  },
  {
   "cell_type": "code",
   "execution_count": 50,
   "id": "c0ffcbb0-0e68-48f8-981b-a13352118bba",
   "metadata": {
    "tags": []
   },
   "outputs": [
    {
     "data": {
      "text/plain": [
       "(0.6644708508462759, 5.423601644635052e-222)"
      ]
     },
     "execution_count": 50,
     "metadata": {},
     "output_type": "execute_result"
    }
   ],
   "source": [
    "sr,sp = stats.spearmanr(control_df['tenure'], control_df['monthly_charges'])\n",
    "sr,sp"
   ]
  },
  {
   "cell_type": "code",
   "execution_count": 52,
   "id": "70c10aef-d204-467f-a520-97f412fabc91",
   "metadata": {
    "tags": []
   },
   "outputs": [
    {
     "name": "stdout",
     "output_type": "stream",
     "text": [
      "Reject the null hypothesis. There is a linear correlation.\n",
      "Spearman’s r: 0.664471\n",
      "P-value: 5.423601644635052e-222\n"
     ]
    }
   ],
   "source": [
    "eval_Sresult(sr,sp)"
   ]
  },
  {
   "cell_type": "markdown",
   "id": "fd622abe-f228-4978-a0e8-760aaf7b7215",
   "metadata": {},
   "source": [
    "### 3. Use the employees database.\n",
    "- Is there a relationship between how long an employee has been with the company and their salary?\n",
    "- Is there a relationship between how long an employee has been with the company and the number of titles they have had?"
   ]
  },
  {
   "cell_type": "code",
   "execution_count": 56,
   "id": "fa088d37-14a7-4e7e-bc33-e40d30f949f8",
   "metadata": {
    "tags": []
   },
   "outputs": [],
   "source": [
    "employees_db_url = f'mysql+pymysql://{env.user}:{env.password}@{env.host}/employees'\n",
    "employee_query = \"SELECT * FROM employees JOIN salaries USING (emp_no) WHERE to_date = '9999-01-01';\"\n",
    "employee_df = pd.read_sql(employee_query, employees_db_url)"
   ]
  },
  {
   "cell_type": "code",
   "execution_count": 57,
   "id": "c55dbaff-20b4-49d2-bb54-5db64eedb685",
   "metadata": {
    "tags": []
   },
   "outputs": [
    {
     "data": {
      "text/html": [
       "<div>\n",
       "<style scoped>\n",
       "    .dataframe tbody tr th:only-of-type {\n",
       "        vertical-align: middle;\n",
       "    }\n",
       "\n",
       "    .dataframe tbody tr th {\n",
       "        vertical-align: top;\n",
       "    }\n",
       "\n",
       "    .dataframe thead th {\n",
       "        text-align: right;\n",
       "    }\n",
       "</style>\n",
       "<table border=\"1\" class=\"dataframe\">\n",
       "  <thead>\n",
       "    <tr style=\"text-align: right;\">\n",
       "      <th></th>\n",
       "      <th>emp_no</th>\n",
       "      <th>birth_date</th>\n",
       "      <th>first_name</th>\n",
       "      <th>last_name</th>\n",
       "      <th>gender</th>\n",
       "      <th>hire_date</th>\n",
       "      <th>salary</th>\n",
       "      <th>from_date</th>\n",
       "      <th>to_date</th>\n",
       "    </tr>\n",
       "  </thead>\n",
       "  <tbody>\n",
       "    <tr>\n",
       "      <th>0</th>\n",
       "      <td>10001</td>\n",
       "      <td>1953-09-02</td>\n",
       "      <td>Georgi</td>\n",
       "      <td>Facello</td>\n",
       "      <td>M</td>\n",
       "      <td>1986-06-26</td>\n",
       "      <td>88958</td>\n",
       "      <td>2002-06-22</td>\n",
       "      <td>9999-01-01</td>\n",
       "    </tr>\n",
       "    <tr>\n",
       "      <th>1</th>\n",
       "      <td>10002</td>\n",
       "      <td>1964-06-02</td>\n",
       "      <td>Bezalel</td>\n",
       "      <td>Simmel</td>\n",
       "      <td>F</td>\n",
       "      <td>1985-11-21</td>\n",
       "      <td>72527</td>\n",
       "      <td>2001-08-02</td>\n",
       "      <td>9999-01-01</td>\n",
       "    </tr>\n",
       "    <tr>\n",
       "      <th>2</th>\n",
       "      <td>10003</td>\n",
       "      <td>1959-12-03</td>\n",
       "      <td>Parto</td>\n",
       "      <td>Bamford</td>\n",
       "      <td>M</td>\n",
       "      <td>1986-08-28</td>\n",
       "      <td>43311</td>\n",
       "      <td>2001-12-01</td>\n",
       "      <td>9999-01-01</td>\n",
       "    </tr>\n",
       "    <tr>\n",
       "      <th>3</th>\n",
       "      <td>10004</td>\n",
       "      <td>1954-05-01</td>\n",
       "      <td>Chirstian</td>\n",
       "      <td>Koblick</td>\n",
       "      <td>M</td>\n",
       "      <td>1986-12-01</td>\n",
       "      <td>74057</td>\n",
       "      <td>2001-11-27</td>\n",
       "      <td>9999-01-01</td>\n",
       "    </tr>\n",
       "    <tr>\n",
       "      <th>4</th>\n",
       "      <td>10005</td>\n",
       "      <td>1955-01-21</td>\n",
       "      <td>Kyoichi</td>\n",
       "      <td>Maliniak</td>\n",
       "      <td>M</td>\n",
       "      <td>1989-09-12</td>\n",
       "      <td>94692</td>\n",
       "      <td>2001-09-09</td>\n",
       "      <td>9999-01-01</td>\n",
       "    </tr>\n",
       "    <tr>\n",
       "      <th>...</th>\n",
       "      <td>...</td>\n",
       "      <td>...</td>\n",
       "      <td>...</td>\n",
       "      <td>...</td>\n",
       "      <td>...</td>\n",
       "      <td>...</td>\n",
       "      <td>...</td>\n",
       "      <td>...</td>\n",
       "      <td>...</td>\n",
       "    </tr>\n",
       "    <tr>\n",
       "      <th>240119</th>\n",
       "      <td>499995</td>\n",
       "      <td>1958-09-24</td>\n",
       "      <td>Dekang</td>\n",
       "      <td>Lichtner</td>\n",
       "      <td>F</td>\n",
       "      <td>1993-01-12</td>\n",
       "      <td>52868</td>\n",
       "      <td>2002-06-01</td>\n",
       "      <td>9999-01-01</td>\n",
       "    </tr>\n",
       "    <tr>\n",
       "      <th>240120</th>\n",
       "      <td>499996</td>\n",
       "      <td>1953-03-07</td>\n",
       "      <td>Zito</td>\n",
       "      <td>Baaz</td>\n",
       "      <td>M</td>\n",
       "      <td>1990-09-27</td>\n",
       "      <td>69501</td>\n",
       "      <td>2002-05-12</td>\n",
       "      <td>9999-01-01</td>\n",
       "    </tr>\n",
       "    <tr>\n",
       "      <th>240121</th>\n",
       "      <td>499997</td>\n",
       "      <td>1961-08-03</td>\n",
       "      <td>Berhard</td>\n",
       "      <td>Lenart</td>\n",
       "      <td>M</td>\n",
       "      <td>1986-04-21</td>\n",
       "      <td>83441</td>\n",
       "      <td>2001-08-26</td>\n",
       "      <td>9999-01-01</td>\n",
       "    </tr>\n",
       "    <tr>\n",
       "      <th>240122</th>\n",
       "      <td>499998</td>\n",
       "      <td>1956-09-05</td>\n",
       "      <td>Patricia</td>\n",
       "      <td>Breugel</td>\n",
       "      <td>M</td>\n",
       "      <td>1993-10-13</td>\n",
       "      <td>55003</td>\n",
       "      <td>2001-12-25</td>\n",
       "      <td>9999-01-01</td>\n",
       "    </tr>\n",
       "    <tr>\n",
       "      <th>240123</th>\n",
       "      <td>499999</td>\n",
       "      <td>1958-05-01</td>\n",
       "      <td>Sachin</td>\n",
       "      <td>Tsukuda</td>\n",
       "      <td>M</td>\n",
       "      <td>1997-11-30</td>\n",
       "      <td>77303</td>\n",
       "      <td>2001-11-29</td>\n",
       "      <td>9999-01-01</td>\n",
       "    </tr>\n",
       "  </tbody>\n",
       "</table>\n",
       "<p>240124 rows × 9 columns</p>\n",
       "</div>"
      ],
      "text/plain": [
       "        emp_no  birth_date first_name last_name gender   hire_date  salary  \\\n",
       "0        10001  1953-09-02     Georgi   Facello      M  1986-06-26   88958   \n",
       "1        10002  1964-06-02    Bezalel    Simmel      F  1985-11-21   72527   \n",
       "2        10003  1959-12-03      Parto   Bamford      M  1986-08-28   43311   \n",
       "3        10004  1954-05-01  Chirstian   Koblick      M  1986-12-01   74057   \n",
       "4        10005  1955-01-21    Kyoichi  Maliniak      M  1989-09-12   94692   \n",
       "...        ...         ...        ...       ...    ...         ...     ...   \n",
       "240119  499995  1958-09-24     Dekang  Lichtner      F  1993-01-12   52868   \n",
       "240120  499996  1953-03-07       Zito      Baaz      M  1990-09-27   69501   \n",
       "240121  499997  1961-08-03    Berhard    Lenart      M  1986-04-21   83441   \n",
       "240122  499998  1956-09-05   Patricia   Breugel      M  1993-10-13   55003   \n",
       "240123  499999  1958-05-01     Sachin   Tsukuda      M  1997-11-30   77303   \n",
       "\n",
       "         from_date     to_date  \n",
       "0       2002-06-22  9999-01-01  \n",
       "1       2001-08-02  9999-01-01  \n",
       "2       2001-12-01  9999-01-01  \n",
       "3       2001-11-27  9999-01-01  \n",
       "4       2001-09-09  9999-01-01  \n",
       "...            ...         ...  \n",
       "240119  2002-06-01  9999-01-01  \n",
       "240120  2002-05-12  9999-01-01  \n",
       "240121  2001-08-26  9999-01-01  \n",
       "240122  2001-12-25  9999-01-01  \n",
       "240123  2001-11-29  9999-01-01  \n",
       "\n",
       "[240124 rows x 9 columns]"
      ]
     },
     "execution_count": 57,
     "metadata": {},
     "output_type": "execute_result"
    }
   ],
   "source": [
    "employee_df"
   ]
  },
  {
   "cell_type": "code",
   "execution_count": 59,
   "id": "6d0f6eb6-a8f8-4769-a02f-889f1e12648a",
   "metadata": {
    "tags": []
   },
   "outputs": [],
   "source": [
    "employee_df['days_employed'] = (employee_df['to_date'] - employee_df['from_date']).astype(str).str.split(' ', expand = True)[0]"
   ]
  },
  {
   "cell_type": "code",
   "execution_count": 70,
   "id": "ce9834e5-b0c4-4ce1-bf2c-61da4683050e",
   "metadata": {
    "tags": []
   },
   "outputs": [],
   "source": [
    "employee_df['days_employed'] = employee_df['days_employed'].astype('int')"
   ]
  },
  {
   "cell_type": "code",
   "execution_count": 71,
   "id": "2875bc04-d018-4f59-87b0-d1a18736efe5",
   "metadata": {
    "tags": []
   },
   "outputs": [],
   "source": [
    "tenure_df = employee_df[['days_employed', 'salary']]"
   ]
  },
  {
   "cell_type": "code",
   "execution_count": 72,
   "id": "f9d55e80-6baa-4e7f-a32a-238745fe2d94",
   "metadata": {
    "tags": []
   },
   "outputs": [
    {
     "name": "stdout",
     "output_type": "stream",
     "text": [
      "<class 'pandas.core.frame.DataFrame'>\n",
      "RangeIndex: 240124 entries, 0 to 240123\n",
      "Data columns (total 2 columns):\n",
      " #   Column         Non-Null Count   Dtype\n",
      "---  ------         --------------   -----\n",
      " 0   days_employed  240124 non-null  int64\n",
      " 1   salary         240124 non-null  int64\n",
      "dtypes: int64(2)\n",
      "memory usage: 3.7 MB\n"
     ]
    }
   ],
   "source": [
    "tenure_df.info()"
   ]
  },
  {
   "cell_type": "code",
   "execution_count": 74,
   "id": "c3338a5a-1d30-4317-ba43-f6ab28cab501",
   "metadata": {
    "tags": []
   },
   "outputs": [
    {
     "data": {
      "text/plain": [
       "(0.9549970030784607, 0.0)"
      ]
     },
     "execution_count": 74,
     "metadata": {},
     "output_type": "execute_result"
    }
   ],
   "source": [
    "r,p = stats.shapiro(tenure_df['days_employed'])\n",
    "r,p"
   ]
  },
  {
   "cell_type": "code",
   "execution_count": 75,
   "id": "9a09a98a-c7ef-404f-bb6c-329e29406a07",
   "metadata": {
    "tags": []
   },
   "outputs": [
    {
     "name": "stdout",
     "output_type": "stream",
     "text": [
      " the data is NOT normally distributed\n"
     ]
    }
   ],
   "source": [
    "eval_dist(r,p)"
   ]
  },
  {
   "cell_type": "code",
   "execution_count": 76,
   "id": "0721f0a7-4986-4b23-9b0d-c779b4d657b8",
   "metadata": {
    "tags": []
   },
   "outputs": [
    {
     "data": {
      "text/plain": [
       "(0.9688956141471863, 0.0)"
      ]
     },
     "execution_count": 76,
     "metadata": {},
     "output_type": "execute_result"
    }
   ],
   "source": [
    "r,p = stats.shapiro(tenure_df['salary'])\n",
    "r,p"
   ]
  },
  {
   "cell_type": "code",
   "execution_count": 77,
   "id": "7b872f8b-ecc5-40fb-894d-f0375e6d816f",
   "metadata": {
    "tags": []
   },
   "outputs": [
    {
     "name": "stdout",
     "output_type": "stream",
     "text": [
      " the data is NOT normally distributed\n"
     ]
    }
   ],
   "source": [
    "eval_dist(r,p)"
   ]
  },
  {
   "cell_type": "code",
   "execution_count": 78,
   "id": "e6938f52-e09f-461c-b036-4f32aa0fed56",
   "metadata": {
    "tags": []
   },
   "outputs": [
    {
     "data": {
      "text/plain": [
       "(-0.051148611931195756, 8.14728490436983e-139)"
      ]
     },
     "execution_count": 78,
     "metadata": {},
     "output_type": "execute_result"
    }
   ],
   "source": [
    "sr,sp = stats.spearmanr(tenure_df['days_employed'], tenure_df['salary'])\n",
    "sr,sp"
   ]
  },
  {
   "cell_type": "code",
   "execution_count": 79,
   "id": "d84db3fc-fd58-4031-bcc5-d69e56b78071",
   "metadata": {
    "tags": []
   },
   "outputs": [
    {
     "name": "stdout",
     "output_type": "stream",
     "text": [
      "Reject the null hypothesis. There is a linear correlation.\n",
      "Spearman’s r: -0.051149\n",
      "P-value: 8.14728490436983e-139\n"
     ]
    }
   ],
   "source": [
    "eval_Sresult(sr,sp)"
   ]
  },
  {
   "cell_type": "markdown",
   "id": "34984892-108d-4dd4-b6f5-d3b2145a0ef0",
   "metadata": {},
   "source": [
    "### 4. Use the sleepstudy data.\n",
    "- Is there a relationship between days and reaction time?"
   ]
  },
  {
   "cell_type": "code",
   "execution_count": null,
   "id": "6c22ca34-e77b-42b5-9823-2f71830dab1e",
   "metadata": {},
   "outputs": [],
   "source": [
    "sleep = data('sleepstudy')"
   ]
  },
  {
   "cell_type": "code",
   "execution_count": null,
   "id": "a12ff264-313d-4f2f-85c1-3237e3ae4e59",
   "metadata": {
    "tags": []
   },
   "outputs": [],
   "source": [
    "sleep"
   ]
  },
  {
   "cell_type": "code",
   "execution_count": null,
   "id": "9717a937-6f35-44cd-991a-07177471409f",
   "metadata": {
    "tags": []
   },
   "outputs": [],
   "source": [
    "corr, p = stats.pearsonr(sleep['Days'], sleep['Reaction'])\n",
    "corr, p"
   ]
  },
  {
   "cell_type": "code",
   "execution_count": null,
   "id": "d5dd14ad-2d87-4819-897f-ef843fece0b8",
   "metadata": {
    "tags": []
   },
   "outputs": [],
   "source": [
    "if p < α:\n",
    "    print('We reject the null hypothesis')\n",
    "else:\n",
    "    print('We fail to reject the null hypothesis')"
   ]
  },
  {
   "cell_type": "markdown",
   "id": "c06ecd63-60ef-4642-97e2-586376bbc73c",
   "metadata": {},
   "source": [
    "# Exercices IV - Comparison of Means"
   ]
  },
  {
   "cell_type": "markdown",
   "id": "8ec480e8-5806-4770-bc03-3d308ee48d0a",
   "metadata": {},
   "source": [
    "### 1.Answer with the type of test you would use (assume normal distribution):\n",
    "- Is there a difference in grades of students on the second floor compared to grades of all students?\n",
    "One Sample Two-Tailed T-Test\n",
    "- Are adults who drink milk taller than adults who don't drink milk?\n",
    "Two Sample One-Tailed T-Test\n",
    "- Is the price of gas higher in Texas or in New Mexico?\n",
    "Two Sample One-Tailed T-Test\n",
    "- Are there differences in stress levels between students who take data science vs students who take web development vs students who take cloud academy?\n",
    "ANOVA"
   ]
  },
  {
   "cell_type": "markdown",
   "id": "09355b5a-b506-4b78-9b2f-4ad997b6db11",
   "metadata": {},
   "source": [
    "### 2. Ace Realty wants to determine whether the average time it takes to sell homes is different for its two offices. A sample of 40 sales from office #1 revealed a mean of 90 days and a standard deviation of 15 days. A sample of 50 sales from office #2 revealed a mean of 100 days and a standard deviation of 20 days. Use a .05 level of significance."
   ]
  },
  {
   "cell_type": "markdown",
   "id": "bd89118d-0407-4aae-ab60-b75838e27467",
   "metadata": {},
   "source": [
    "Two-sample T-Test needed\n",
    "\n",
    "H$_0$ = The average time taken to sell homes between two offices is the same.\n",
    "\n",
    "H$_α$ = The average time taken to sell homes between two offices is significantly different.\n",
    "\n",
    "Office 1 has a sample size of 40, a mean of 90 days, and std of 15 days.\n",
    "\n",
    "Office 2 has a sample size of 50, mean of 100, and std or 20."
   ]
  },
  {
   "cell_type": "code",
   "execution_count": 58,
   "id": "e29f1ae7-3c82-4ae2-9758-62989c9ff9ee",
   "metadata": {
    "collapsed": true,
    "jupyter": {
     "outputs_hidden": true
    },
    "tags": []
   },
   "outputs": [
    {
     "data": {
      "text/plain": [
       "\u001b[0;31mSignature:\u001b[0m\n",
       "\u001b[0mstats\u001b[0m\u001b[0;34m.\u001b[0m\u001b[0mttest_ind_from_stats\u001b[0m\u001b[0;34m(\u001b[0m\u001b[0;34m\u001b[0m\n",
       "\u001b[0;34m\u001b[0m    \u001b[0mmean1\u001b[0m\u001b[0;34m,\u001b[0m\u001b[0;34m\u001b[0m\n",
       "\u001b[0;34m\u001b[0m    \u001b[0mstd1\u001b[0m\u001b[0;34m,\u001b[0m\u001b[0;34m\u001b[0m\n",
       "\u001b[0;34m\u001b[0m    \u001b[0mnobs1\u001b[0m\u001b[0;34m,\u001b[0m\u001b[0;34m\u001b[0m\n",
       "\u001b[0;34m\u001b[0m    \u001b[0mmean2\u001b[0m\u001b[0;34m,\u001b[0m\u001b[0;34m\u001b[0m\n",
       "\u001b[0;34m\u001b[0m    \u001b[0mstd2\u001b[0m\u001b[0;34m,\u001b[0m\u001b[0;34m\u001b[0m\n",
       "\u001b[0;34m\u001b[0m    \u001b[0mnobs2\u001b[0m\u001b[0;34m,\u001b[0m\u001b[0;34m\u001b[0m\n",
       "\u001b[0;34m\u001b[0m    \u001b[0mequal_var\u001b[0m\u001b[0;34m=\u001b[0m\u001b[0;32mTrue\u001b[0m\u001b[0;34m,\u001b[0m\u001b[0;34m\u001b[0m\n",
       "\u001b[0;34m\u001b[0m    \u001b[0malternative\u001b[0m\u001b[0;34m=\u001b[0m\u001b[0;34m'two-sided'\u001b[0m\u001b[0;34m,\u001b[0m\u001b[0;34m\u001b[0m\n",
       "\u001b[0;34m\u001b[0m\u001b[0;34m)\u001b[0m\u001b[0;34m\u001b[0m\u001b[0;34m\u001b[0m\u001b[0m\n",
       "\u001b[0;31mDocstring:\u001b[0m\n",
       "T-test for means of two independent samples from descriptive statistics.\n",
       "\n",
       "This is a test for the null hypothesis that two independent\n",
       "samples have identical average (expected) values.\n",
       "\n",
       "Parameters\n",
       "----------\n",
       "mean1 : array_like\n",
       "    The mean(s) of sample 1.\n",
       "std1 : array_like\n",
       "    The corrected sample standard deviation of sample 1 (i.e. ``ddof=1``).\n",
       "nobs1 : array_like\n",
       "    The number(s) of observations of sample 1.\n",
       "mean2 : array_like\n",
       "    The mean(s) of sample 2.\n",
       "std2 : array_like\n",
       "    The corrected sample standard deviation of sample 2 (i.e. ``ddof=1``).\n",
       "nobs2 : array_like\n",
       "    The number(s) of observations of sample 2.\n",
       "equal_var : bool, optional\n",
       "    If True (default), perform a standard independent 2 sample test\n",
       "    that assumes equal population variances [1]_.\n",
       "    If False, perform Welch's t-test, which does not assume equal\n",
       "    population variance [2]_.\n",
       "alternative : {'two-sided', 'less', 'greater'}, optional\n",
       "    Defines the alternative hypothesis.\n",
       "    The following options are available (default is 'two-sided'):\n",
       "\n",
       "    * 'two-sided': the means of the distributions are unequal.\n",
       "    * 'less': the mean of the first distribution is less than the\n",
       "      mean of the second distribution.\n",
       "    * 'greater': the mean of the first distribution is greater than the\n",
       "      mean of the second distribution.\n",
       "\n",
       "    .. versionadded:: 1.6.0\n",
       "\n",
       "Returns\n",
       "-------\n",
       "statistic : float or array\n",
       "    The calculated t-statistics.\n",
       "pvalue : float or array\n",
       "    The two-tailed p-value.\n",
       "\n",
       "See Also\n",
       "--------\n",
       "scipy.stats.ttest_ind\n",
       "\n",
       "Notes\n",
       "-----\n",
       "The statistic is calculated as ``(mean1 - mean2)/se``, where ``se`` is the\n",
       "standard error. Therefore, the statistic will be positive when `mean1` is\n",
       "greater than `mean2` and negative when `mean1` is less than `mean2`.\n",
       "\n",
       "References\n",
       "----------\n",
       ".. [1] https://en.wikipedia.org/wiki/T-test#Independent_two-sample_t-test\n",
       "\n",
       ".. [2] https://en.wikipedia.org/wiki/Welch%27s_t-test\n",
       "\n",
       "Examples\n",
       "--------\n",
       "Suppose we have the summary data for two samples, as follows (with the\n",
       "Sample Variance being the corrected sample variance)::\n",
       "\n",
       "                     Sample   Sample\n",
       "               Size   Mean   Variance\n",
       "    Sample 1    13    15.0     87.5\n",
       "    Sample 2    11    12.0     39.0\n",
       "\n",
       "Apply the t-test to this data (with the assumption that the population\n",
       "variances are equal):\n",
       "\n",
       ">>> import numpy as np\n",
       ">>> from scipy.stats import ttest_ind_from_stats\n",
       ">>> ttest_ind_from_stats(mean1=15.0, std1=np.sqrt(87.5), nobs1=13,\n",
       "...                      mean2=12.0, std2=np.sqrt(39.0), nobs2=11)\n",
       "Ttest_indResult(statistic=0.9051358093310269, pvalue=0.3751996797581487)\n",
       "\n",
       "For comparison, here is the data from which those summary statistics\n",
       "were taken.  With this data, we can compute the same result using\n",
       "`scipy.stats.ttest_ind`:\n",
       "\n",
       ">>> a = np.array([1, 3, 4, 6, 11, 13, 15, 19, 22, 24, 25, 26, 26])\n",
       ">>> b = np.array([2, 4, 6, 9, 11, 13, 14, 15, 18, 19, 21])\n",
       ">>> from scipy.stats import ttest_ind\n",
       ">>> ttest_ind(a, b)\n",
       "Ttest_indResult(statistic=0.905135809331027, pvalue=0.3751996797581486)\n",
       "\n",
       "Suppose we instead have binary data and would like to apply a t-test to\n",
       "compare the proportion of 1s in two independent groups::\n",
       "\n",
       "                      Number of    Sample     Sample\n",
       "                Size    ones        Mean     Variance\n",
       "    Sample 1    150      30         0.2        0.161073\n",
       "    Sample 2    200      45         0.225      0.175251\n",
       "\n",
       "The sample mean :math:`\\hat{p}` is the proportion of ones in the sample\n",
       "and the variance for a binary observation is estimated by\n",
       ":math:`\\hat{p}(1-\\hat{p})`.\n",
       "\n",
       ">>> ttest_ind_from_stats(mean1=0.2, std1=np.sqrt(0.161073), nobs1=150,\n",
       "...                      mean2=0.225, std2=np.sqrt(0.175251), nobs2=200)\n",
       "Ttest_indResult(statistic=-0.5627187905196761, pvalue=0.5739887114209541)\n",
       "\n",
       "For comparison, we could compute the t statistic and p-value using\n",
       "arrays of 0s and 1s and `scipy.stat.ttest_ind`, as above.\n",
       "\n",
       ">>> group1 = np.array([1]*30 + [0]*(150-30))\n",
       ">>> group2 = np.array([1]*45 + [0]*(200-45))\n",
       ">>> ttest_ind(group1, group2)\n",
       "Ttest_indResult(statistic=-0.5627179589855622, pvalue=0.573989277115258)\n",
       "\u001b[0;31mFile:\u001b[0m      /usr/local/anaconda3/lib/python3.11/site-packages/scipy/stats/_stats_py.py\n",
       "\u001b[0;31mType:\u001b[0m      function"
      ]
     },
     "metadata": {},
     "output_type": "display_data"
    }
   ],
   "source": [
    "stats.ttest_ind_from_stats?"
   ]
  },
  {
   "cell_type": "code",
   "execution_count": 88,
   "id": "69772297-1474-46a4-9194-317986e282b6",
   "metadata": {
    "tags": []
   },
   "outputs": [
    {
     "data": {
      "text/plain": [
       "(-2.6252287036468456, 0.01020985244923939)"
      ]
     },
     "execution_count": 88,
     "metadata": {},
     "output_type": "execute_result"
    }
   ],
   "source": [
    "t, p = stats.ttest_ind_from_stats(90,15,40,100,20,50)\n",
    "t, p"
   ]
  },
  {
   "cell_type": "code",
   "execution_count": 89,
   "id": "9c9b0a86-45cd-4e69-87f4-2879dbf180c1",
   "metadata": {
    "tags": []
   },
   "outputs": [
    {
     "name": "stdout",
     "output_type": "stream",
     "text": [
      "We reject the null hypothesis\n"
     ]
    }
   ],
   "source": [
    "if p < α:\n",
    "    print('We reject the null hypothesis')\n",
    "else:\n",
    "    print('We fail to reject the null hypothesis')"
   ]
  },
  {
   "cell_type": "markdown",
   "id": "aeda0c05-8f78-4120-8eab-f011e33bc622",
   "metadata": {},
   "source": [
    "### 3. Load the mpg dataset and use it to answer the following questions:\n",
    "- Is there a difference in fuel-efficiency in cars from 2008 vs 1999?\n",
    "- Are compact cars more fuel-efficient than the average car?\n",
    "- Do manual cars get better gas mileage than automatic cars?"
   ]
  },
  {
   "cell_type": "markdown",
   "id": "b3edc036-fcc1-4678-aafb-896312f7b6f0",
   "metadata": {
    "tags": []
   },
   "source": [
    "We need a two-sample t test\n",
    "\n",
    "H$_0$ = There is no significant difference in fuel-efficiency in cars from 2008 and 1999.\n",
    "\n",
    "H$_α$ = There is a significant difference in fuel-efficiency in cars from 2008 and 1999."
   ]
  },
  {
   "cell_type": "code",
   "execution_count": 81,
   "id": "63f2c5d1-d9df-48a4-a258-b91dbf151b19",
   "metadata": {
    "tags": []
   },
   "outputs": [],
   "source": [
    "α = 0.05"
   ]
  },
  {
   "cell_type": "code",
   "execution_count": 82,
   "id": "5e138b2a-dca5-4b80-87f1-9a3fcd9ff4c4",
   "metadata": {
    "tags": []
   },
   "outputs": [],
   "source": [
    "mpg = data('mpg')"
   ]
  },
  {
   "cell_type": "code",
   "execution_count": 83,
   "id": "15147624-4891-45ae-907b-690c801aa122",
   "metadata": {
    "tags": []
   },
   "outputs": [],
   "source": [
    "ninety_nine = mpg[mpg['year'] == 1999]"
   ]
  },
  {
   "cell_type": "code",
   "execution_count": 84,
   "id": "cd7c100c-abb7-411e-b2c7-ae78b6451c80",
   "metadata": {
    "tags": []
   },
   "outputs": [
    {
     "name": "stderr",
     "output_type": "stream",
     "text": [
      "/var/folders/sw/4nk3j1h92wb2t79pkgpn3gcw0000gp/T/ipykernel_2677/2702583412.py:1: SettingWithCopyWarning: \n",
      "A value is trying to be set on a copy of a slice from a DataFrame.\n",
      "Try using .loc[row_indexer,col_indexer] = value instead\n",
      "\n",
      "See the caveats in the documentation: https://pandas.pydata.org/pandas-docs/stable/user_guide/indexing.html#returning-a-view-versus-a-copy\n",
      "  ninety_nine['fuel_efficiency'] = ((ninety_nine['hwy']-ninety_nine['cty']) / 2)\n"
     ]
    }
   ],
   "source": [
    "ninety_nine['fuel_efficiency'] = ((ninety_nine['hwy']-ninety_nine['cty']) / 2)"
   ]
  },
  {
   "cell_type": "code",
   "execution_count": 133,
   "id": "e42954d9-7d0a-44af-b0af-9761b72c880d",
   "metadata": {
    "tags": []
   },
   "outputs": [
    {
     "data": {
      "text/html": [
       "<div>\n",
       "<style scoped>\n",
       "    .dataframe tbody tr th:only-of-type {\n",
       "        vertical-align: middle;\n",
       "    }\n",
       "\n",
       "    .dataframe tbody tr th {\n",
       "        vertical-align: top;\n",
       "    }\n",
       "\n",
       "    .dataframe thead th {\n",
       "        text-align: right;\n",
       "    }\n",
       "</style>\n",
       "<table border=\"1\" class=\"dataframe\">\n",
       "  <thead>\n",
       "    <tr style=\"text-align: right;\">\n",
       "      <th></th>\n",
       "      <th>manufacturer</th>\n",
       "      <th>model</th>\n",
       "      <th>displ</th>\n",
       "      <th>year</th>\n",
       "      <th>cyl</th>\n",
       "      <th>trans</th>\n",
       "      <th>drv</th>\n",
       "      <th>cty</th>\n",
       "      <th>hwy</th>\n",
       "      <th>fl</th>\n",
       "      <th>class</th>\n",
       "      <th>fuel_efficiency</th>\n",
       "    </tr>\n",
       "  </thead>\n",
       "  <tbody>\n",
       "    <tr>\n",
       "      <th>1</th>\n",
       "      <td>audi</td>\n",
       "      <td>a4</td>\n",
       "      <td>1.8</td>\n",
       "      <td>1999</td>\n",
       "      <td>4</td>\n",
       "      <td>auto(l5)</td>\n",
       "      <td>f</td>\n",
       "      <td>18</td>\n",
       "      <td>29</td>\n",
       "      <td>p</td>\n",
       "      <td>compact</td>\n",
       "      <td>5.5</td>\n",
       "    </tr>\n",
       "    <tr>\n",
       "      <th>2</th>\n",
       "      <td>audi</td>\n",
       "      <td>a4</td>\n",
       "      <td>1.8</td>\n",
       "      <td>1999</td>\n",
       "      <td>4</td>\n",
       "      <td>manual(m5)</td>\n",
       "      <td>f</td>\n",
       "      <td>21</td>\n",
       "      <td>29</td>\n",
       "      <td>p</td>\n",
       "      <td>compact</td>\n",
       "      <td>4.0</td>\n",
       "    </tr>\n",
       "    <tr>\n",
       "      <th>5</th>\n",
       "      <td>audi</td>\n",
       "      <td>a4</td>\n",
       "      <td>2.8</td>\n",
       "      <td>1999</td>\n",
       "      <td>6</td>\n",
       "      <td>auto(l5)</td>\n",
       "      <td>f</td>\n",
       "      <td>16</td>\n",
       "      <td>26</td>\n",
       "      <td>p</td>\n",
       "      <td>compact</td>\n",
       "      <td>5.0</td>\n",
       "    </tr>\n",
       "    <tr>\n",
       "      <th>6</th>\n",
       "      <td>audi</td>\n",
       "      <td>a4</td>\n",
       "      <td>2.8</td>\n",
       "      <td>1999</td>\n",
       "      <td>6</td>\n",
       "      <td>manual(m5)</td>\n",
       "      <td>f</td>\n",
       "      <td>18</td>\n",
       "      <td>26</td>\n",
       "      <td>p</td>\n",
       "      <td>compact</td>\n",
       "      <td>4.0</td>\n",
       "    </tr>\n",
       "    <tr>\n",
       "      <th>8</th>\n",
       "      <td>audi</td>\n",
       "      <td>a4 quattro</td>\n",
       "      <td>1.8</td>\n",
       "      <td>1999</td>\n",
       "      <td>4</td>\n",
       "      <td>manual(m5)</td>\n",
       "      <td>4</td>\n",
       "      <td>18</td>\n",
       "      <td>26</td>\n",
       "      <td>p</td>\n",
       "      <td>compact</td>\n",
       "      <td>4.0</td>\n",
       "    </tr>\n",
       "  </tbody>\n",
       "</table>\n",
       "</div>"
      ],
      "text/plain": [
       "  manufacturer       model  displ  year  cyl       trans drv  cty  hwy fl  \\\n",
       "1         audi          a4    1.8  1999    4    auto(l5)   f   18   29  p   \n",
       "2         audi          a4    1.8  1999    4  manual(m5)   f   21   29  p   \n",
       "5         audi          a4    2.8  1999    6    auto(l5)   f   16   26  p   \n",
       "6         audi          a4    2.8  1999    6  manual(m5)   f   18   26  p   \n",
       "8         audi  a4 quattro    1.8  1999    4  manual(m5)   4   18   26  p   \n",
       "\n",
       "     class  fuel_efficiency  \n",
       "1  compact              5.5  \n",
       "2  compact              4.0  \n",
       "5  compact              5.0  \n",
       "6  compact              4.0  \n",
       "8  compact              4.0  "
      ]
     },
     "execution_count": 133,
     "metadata": {},
     "output_type": "execute_result"
    }
   ],
   "source": [
    "ninety_nine.head()"
   ]
  },
  {
   "cell_type": "code",
   "execution_count": 86,
   "id": "8c02fd18-cf9e-4a9b-85e0-475c1d80a757",
   "metadata": {
    "tags": []
   },
   "outputs": [],
   "source": [
    "oh_eight = mpg[mpg['year'] == 2008]"
   ]
  },
  {
   "cell_type": "code",
   "execution_count": 87,
   "id": "3727bd13-3655-4011-84d1-e7a44b9e3365",
   "metadata": {
    "tags": []
   },
   "outputs": [
    {
     "name": "stderr",
     "output_type": "stream",
     "text": [
      "/var/folders/sw/4nk3j1h92wb2t79pkgpn3gcw0000gp/T/ipykernel_2677/3219922652.py:1: SettingWithCopyWarning: \n",
      "A value is trying to be set on a copy of a slice from a DataFrame.\n",
      "Try using .loc[row_indexer,col_indexer] = value instead\n",
      "\n",
      "See the caveats in the documentation: https://pandas.pydata.org/pandas-docs/stable/user_guide/indexing.html#returning-a-view-versus-a-copy\n",
      "  oh_eight['fuel_efficiency'] = ((oh_eight['hwy']-oh_eight['cty']) / 2)\n"
     ]
    }
   ],
   "source": [
    "oh_eight['fuel_efficiency'] = ((oh_eight['hwy']-oh_eight['cty']) / 2)"
   ]
  },
  {
   "cell_type": "code",
   "execution_count": 89,
   "id": "d79e6f5c-ea76-42f7-a067-25d8e0d9428e",
   "metadata": {
    "tags": []
   },
   "outputs": [
    {
     "name": "stdout",
     "output_type": "stream",
     "text": [
      "1.3282493368700248\n",
      "1.2280430297671665\n"
     ]
    }
   ],
   "source": [
    "print(ninety_nine['fuel_efficiency'].var())\n",
    "print(oh_eight['fuel_efficiency'].var())"
   ]
  },
  {
   "cell_type": "code",
   "execution_count": 90,
   "id": "050c549b-d823-4692-85a2-9d1ce81120c1",
   "metadata": {
    "tags": []
   },
   "outputs": [
    {
     "data": {
      "text/plain": [
       "(-1.156463161733102, 0.24868119752480505)"
      ]
     },
     "execution_count": 90,
     "metadata": {},
     "output_type": "execute_result"
    }
   ],
   "source": [
    "t, p = stats.ttest_ind(ninety_nine['fuel_efficiency'], oh_eight['fuel_efficiency'], equal_var=True)\n",
    "t, p"
   ]
  },
  {
   "cell_type": "code",
   "execution_count": 91,
   "id": "3c6a6e5a-ecfd-4d36-a54f-8300932be2b9",
   "metadata": {
    "tags": []
   },
   "outputs": [
    {
     "name": "stdout",
     "output_type": "stream",
     "text": [
      "Is p/2 < α?  False\n",
      "Is t < 0?  True\n"
     ]
    }
   ],
   "source": [
    "print(\"Is p/2 < α? \", p / 2 < α)\n",
    "print(\"Is t < 0? \", t < 0)"
   ]
  },
  {
   "cell_type": "markdown",
   "id": "a4b8721c-7a32-4a69-9c0c-4e30638ae9f4",
   "metadata": {},
   "source": [
    "We fail to reject the null hypothesis."
   ]
  },
  {
   "cell_type": "markdown",
   "id": "d98d032a-4511-4ad5-b8ff-64c1560a8aae",
   "metadata": {},
   "source": [
    "We need a one-sample t test\n",
    "\n",
    "H$_0$ = Mean of average fuel efficiency in compact cars <= Mean of average fuel efficiency in all cars.\n",
    "\n",
    "H$_α$ = Mean of average fuel efficiency in compact cars > Mean of average fuel efficiency in all cars."
   ]
  },
  {
   "cell_type": "code",
   "execution_count": 97,
   "id": "87069d02-e786-439e-b46b-dae3d1c099cb",
   "metadata": {
    "tags": []
   },
   "outputs": [],
   "source": [
    "compact_car = mpg[mpg['class'] == 'compact']"
   ]
  },
  {
   "cell_type": "code",
   "execution_count": 98,
   "id": "93c9aab7-fdc0-489d-9e6b-22ca499719e5",
   "metadata": {
    "tags": []
   },
   "outputs": [
    {
     "name": "stderr",
     "output_type": "stream",
     "text": [
      "/var/folders/sw/4nk3j1h92wb2t79pkgpn3gcw0000gp/T/ipykernel_2677/2074857138.py:1: SettingWithCopyWarning: \n",
      "A value is trying to be set on a copy of a slice from a DataFrame.\n",
      "Try using .loc[row_indexer,col_indexer] = value instead\n",
      "\n",
      "See the caveats in the documentation: https://pandas.pydata.org/pandas-docs/stable/user_guide/indexing.html#returning-a-view-versus-a-copy\n",
      "  compact_car['fuel_efficiency'] = ((compact_car['hwy']-compact_car['cty']) / 2)\n"
     ]
    }
   ],
   "source": [
    "compact_car['fuel_efficiency'] = ((compact_car['hwy']-compact_car['cty']) / 2)"
   ]
  },
  {
   "cell_type": "code",
   "execution_count": 99,
   "id": "be19afd2-821a-4a13-990c-b375cb2ed5b8",
   "metadata": {
    "tags": []
   },
   "outputs": [],
   "source": [
    "mpg['fuel_efficiency'] = ((mpg['hwy']-mpg['cty']) / 2)"
   ]
  },
  {
   "cell_type": "code",
   "execution_count": 100,
   "id": "92d240ef-3dac-4d06-ab87-c898350bfc6d",
   "metadata": {
    "tags": []
   },
   "outputs": [],
   "source": [
    "mean_mpg = mpg['fuel_efficiency'].mean()"
   ]
  },
  {
   "cell_type": "code",
   "execution_count": 102,
   "id": "0e86f62d-b11d-40d6-9371-adb7f3aab8ae",
   "metadata": {
    "tags": []
   },
   "outputs": [
    {
     "data": {
      "text/plain": [
       "(8.2278334022059, 1.367789376516643e-10)"
      ]
     },
     "execution_count": 102,
     "metadata": {},
     "output_type": "execute_result"
    }
   ],
   "source": [
    "t, p = stats.ttest_1samp(compact_car['fuel_efficiency'],mean_mpg)\n",
    "t, p"
   ]
  },
  {
   "cell_type": "code",
   "execution_count": 103,
   "id": "78590332-2294-4ba2-8bb7-5653bd390581",
   "metadata": {
    "tags": []
   },
   "outputs": [
    {
     "name": "stdout",
     "output_type": "stream",
     "text": [
      "We reject the null hypothesis\n"
     ]
    }
   ],
   "source": [
    "if p / 2 > α:\n",
    "    print(\"We fail to reject the null hypothesis\")\n",
    "elif t < 0:\n",
    "    print(\"We fail to reject the null hypothesis\")\n",
    "else:\n",
    "    print(\"We reject the null hypothesis\")"
   ]
  },
  {
   "cell_type": "markdown",
   "id": "8f3b5ff5-307e-4e54-ad1c-ea4491ef2d26",
   "metadata": {},
   "source": [
    "We need a two-sample t test\n",
    "\n",
    "H$_0$ = Average fuel efficiency in manual cars <= Average fuel efficiency in automatic cars.\n",
    "\n",
    "H$_α$ = Average fuel efficiency in manual cars > Average fuel efficiency in automatic cars."
   ]
  },
  {
   "cell_type": "code",
   "execution_count": 106,
   "id": "dd2635f1-e206-4377-b86a-f0fd4ad41c54",
   "metadata": {
    "tags": []
   },
   "outputs": [],
   "source": [
    "man_car = mpg[mpg['trans'].str.startswith('manual')]"
   ]
  },
  {
   "cell_type": "code",
   "execution_count": 107,
   "id": "9fdd4512-38c8-4708-9611-d5e75d306f8c",
   "metadata": {
    "tags": []
   },
   "outputs": [],
   "source": [
    "auto_car = mpg[mpg['trans'].str.startswith('auto')]"
   ]
  },
  {
   "cell_type": "code",
   "execution_count": 108,
   "id": "64b07fa3-8d4b-4e8b-88a5-91c163e14f0a",
   "metadata": {
    "tags": []
   },
   "outputs": [
    {
     "name": "stderr",
     "output_type": "stream",
     "text": [
      "/var/folders/sw/4nk3j1h92wb2t79pkgpn3gcw0000gp/T/ipykernel_2677/1121789998.py:1: SettingWithCopyWarning: \n",
      "A value is trying to be set on a copy of a slice from a DataFrame.\n",
      "Try using .loc[row_indexer,col_indexer] = value instead\n",
      "\n",
      "See the caveats in the documentation: https://pandas.pydata.org/pandas-docs/stable/user_guide/indexing.html#returning-a-view-versus-a-copy\n",
      "  man_car['fuel_efficiency'] = ((man_car['hwy']-man_car['cty']) / 2)\n"
     ]
    }
   ],
   "source": [
    "man_car['fuel_efficiency'] = ((man_car['hwy']-man_car['cty']) / 2)"
   ]
  },
  {
   "cell_type": "code",
   "execution_count": 109,
   "id": "d13fc966-3c90-433c-a93b-05d219043609",
   "metadata": {
    "tags": []
   },
   "outputs": [
    {
     "name": "stderr",
     "output_type": "stream",
     "text": [
      "/var/folders/sw/4nk3j1h92wb2t79pkgpn3gcw0000gp/T/ipykernel_2677/1312375792.py:1: SettingWithCopyWarning: \n",
      "A value is trying to be set on a copy of a slice from a DataFrame.\n",
      "Try using .loc[row_indexer,col_indexer] = value instead\n",
      "\n",
      "See the caveats in the documentation: https://pandas.pydata.org/pandas-docs/stable/user_guide/indexing.html#returning-a-view-versus-a-copy\n",
      "  auto_car['fuel_efficiency'] = ((auto_car['hwy']-auto_car['cty']) / 2)\n"
     ]
    }
   ],
   "source": [
    "auto_car['fuel_efficiency'] = ((auto_car['hwy']-auto_car['cty']) / 2)"
   ]
  },
  {
   "cell_type": "code",
   "execution_count": 110,
   "id": "23e0ebeb-c9d9-4e18-9f9c-b22e93e2772d",
   "metadata": {
    "tags": []
   },
   "outputs": [
    {
     "data": {
      "text/plain": [
       "(0.21302938500646737, 1.5592790219852894)"
      ]
     },
     "execution_count": 110,
     "metadata": {},
     "output_type": "execute_result"
    }
   ],
   "source": [
    "lev_stat, p = stats.levene(man_car['fuel_efficiency'], auto_car['fuel_efficiency'])\n",
    "p, lev_stat"
   ]
  },
  {
   "cell_type": "code",
   "execution_count": 111,
   "id": "35798c24-8301-4af4-85c9-7c127927a9c7",
   "metadata": {
    "tags": []
   },
   "outputs": [
    {
     "name": "stdout",
     "output_type": "stream",
     "text": [
      "1.2077922077922092\n",
      "1.2731300016331877\n"
     ]
    }
   ],
   "source": [
    "print(man_car['fuel_efficiency'].var())\n",
    "print(auto_car['fuel_efficiency'].var())"
   ]
  },
  {
   "cell_type": "code",
   "execution_count": 112,
   "id": "995a5f1e-f6fc-441b-96ab-b71f114f33af",
   "metadata": {
    "tags": []
   },
   "outputs": [
    {
     "data": {
      "text/plain": [
       "(2.502481608728934, 0.013022062490122612)"
      ]
     },
     "execution_count": 112,
     "metadata": {},
     "output_type": "execute_result"
    }
   ],
   "source": [
    "t, p = stats.ttest_ind(man_car['fuel_efficiency'], auto_car['fuel_efficiency'], equal_var=True)\n",
    "t, p"
   ]
  },
  {
   "cell_type": "code",
   "execution_count": 135,
   "id": "c5f0062c-8f3f-4571-ab00-918c75ef23d1",
   "metadata": {
    "tags": []
   },
   "outputs": [
    {
     "name": "stdout",
     "output_type": "stream",
     "text": [
      "We reject the null hypothesis\n"
     ]
    }
   ],
   "source": [
    "if p / 2 > α:\n",
    "    print(\"We fail to reject the null hypothesis\")\n",
    "elif t < 0:\n",
    "    print(\"We fail to reject the null hypothesis\")\n",
    "else:\n",
    "    print(\"We reject the null hypothesis\")"
   ]
  },
  {
   "cell_type": "markdown",
   "id": "9d5e0b3d-a58c-422a-ac80-dbeee02346ce",
   "metadata": {},
   "source": [
    "# Bonus Exercises"
   ]
  },
  {
   "cell_type": "markdown",
   "id": "fada1e97-4929-48d8-8f6d-9e42d9867e5b",
   "metadata": {},
   "source": [
    "### Choose several continous and categorical variables that were not covered in the lesson and perform each type of test on them. You may use another data set if you wish."
   ]
  },
  {
   "cell_type": "code",
   "execution_count": 215,
   "id": "159bb877-e9e1-4945-8b08-6276f7ceb23c",
   "metadata": {
    "tags": []
   },
   "outputs": [],
   "source": [
    "# this one looks interesting to draw comparisons from.\n",
    "feature_color = data('HairEyeColor')"
   ]
  },
  {
   "cell_type": "code",
   "execution_count": 259,
   "id": "3fa37aa1-da3b-44dd-afdd-b595d471c0bb",
   "metadata": {
    "tags": []
   },
   "outputs": [
    {
     "data": {
      "text/html": [
       "<div>\n",
       "<style scoped>\n",
       "    .dataframe tbody tr th:only-of-type {\n",
       "        vertical-align: middle;\n",
       "    }\n",
       "\n",
       "    .dataframe tbody tr th {\n",
       "        vertical-align: top;\n",
       "    }\n",
       "\n",
       "    .dataframe thead th {\n",
       "        text-align: right;\n",
       "    }\n",
       "</style>\n",
       "<table border=\"1\" class=\"dataframe\">\n",
       "  <thead>\n",
       "    <tr style=\"text-align: right;\">\n",
       "      <th></th>\n",
       "      <th>Frequency of Male</th>\n",
       "      <th>Frequency of Female</th>\n",
       "    </tr>\n",
       "  </thead>\n",
       "  <tbody>\n",
       "    <tr>\n",
       "      <th>Black Hair &amp; Brown Eyes</th>\n",
       "      <td>32</td>\n",
       "      <td>36</td>\n",
       "    </tr>\n",
       "    <tr>\n",
       "      <th>Brown Hair &amp; Brown Eyes</th>\n",
       "      <td>53</td>\n",
       "      <td>66</td>\n",
       "    </tr>\n",
       "    <tr>\n",
       "      <th>Red Hair &amp; Brown Eyes</th>\n",
       "      <td>10</td>\n",
       "      <td>16</td>\n",
       "    </tr>\n",
       "    <tr>\n",
       "      <th>Blond Hair &amp; Brown Eyes</th>\n",
       "      <td>3</td>\n",
       "      <td>4</td>\n",
       "    </tr>\n",
       "    <tr>\n",
       "      <th>Black Hair &amp; Blue Eyes</th>\n",
       "      <td>11</td>\n",
       "      <td>9</td>\n",
       "    </tr>\n",
       "    <tr>\n",
       "      <th>Brown Hair &amp; Blue Eyes</th>\n",
       "      <td>50</td>\n",
       "      <td>34</td>\n",
       "    </tr>\n",
       "    <tr>\n",
       "      <th>Red Hair &amp; Blue Eyes</th>\n",
       "      <td>10</td>\n",
       "      <td>7</td>\n",
       "    </tr>\n",
       "    <tr>\n",
       "      <th>Blond Hair &amp; Blue Eyes</th>\n",
       "      <td>30</td>\n",
       "      <td>64</td>\n",
       "    </tr>\n",
       "    <tr>\n",
       "      <th>Black Hair &amp; Hazel Eyes</th>\n",
       "      <td>10</td>\n",
       "      <td>5</td>\n",
       "    </tr>\n",
       "    <tr>\n",
       "      <th>Brown Hair &amp; Hazel Eyes</th>\n",
       "      <td>25</td>\n",
       "      <td>29</td>\n",
       "    </tr>\n",
       "    <tr>\n",
       "      <th>Red Hair &amp; Hazel Eyes</th>\n",
       "      <td>7</td>\n",
       "      <td>7</td>\n",
       "    </tr>\n",
       "    <tr>\n",
       "      <th>Blond Hair &amp; Hazel Eyes</th>\n",
       "      <td>5</td>\n",
       "      <td>5</td>\n",
       "    </tr>\n",
       "    <tr>\n",
       "      <th>Black Hair &amp; Green Eyes</th>\n",
       "      <td>3</td>\n",
       "      <td>2</td>\n",
       "    </tr>\n",
       "    <tr>\n",
       "      <th>Brown Hair &amp; Green Eyes</th>\n",
       "      <td>15</td>\n",
       "      <td>14</td>\n",
       "    </tr>\n",
       "    <tr>\n",
       "      <th>Red Hair &amp; Green Eyes</th>\n",
       "      <td>7</td>\n",
       "      <td>7</td>\n",
       "    </tr>\n",
       "    <tr>\n",
       "      <th>Blond Hair &amp; Green Eyes</th>\n",
       "      <td>8</td>\n",
       "      <td>8</td>\n",
       "    </tr>\n",
       "  </tbody>\n",
       "</table>\n",
       "</div>"
      ],
      "text/plain": [
       "                         Frequency of Male  Frequency of Female\n",
       "Black Hair & Brown Eyes                 32                   36\n",
       "Brown Hair & Brown Eyes                 53                   66\n",
       "Red Hair & Brown Eyes                   10                   16\n",
       "Blond Hair & Brown Eyes                  3                    4\n",
       "Black Hair & Blue Eyes                  11                    9\n",
       "Brown Hair & Blue Eyes                  50                   34\n",
       "Red Hair & Blue Eyes                    10                    7\n",
       "Blond Hair & Blue Eyes                  30                   64\n",
       "Black Hair & Hazel Eyes                 10                    5\n",
       "Brown Hair & Hazel Eyes                 25                   29\n",
       "Red Hair & Hazel Eyes                    7                    7\n",
       "Blond Hair & Hazel Eyes                  5                    5\n",
       "Black Hair & Green Eyes                  3                    2\n",
       "Brown Hair & Green Eyes                 15                   14\n",
       "Red Hair & Green Eyes                    7                    7\n",
       "Blond Hair & Green Eyes                  8                    8"
      ]
     },
     "execution_count": 259,
     "metadata": {},
     "output_type": "execute_result"
    }
   ],
   "source": [
    "#This is so much nicer to look at\n",
    "index = ['Black Hair & Brown Eyes', 'Brown Hair & Brown Eyes', 'Red Hair & Brown Eyes', 'Blond Hair & Brown Eyes',\n",
    "         'Black Hair & Blue Eyes', 'Brown Hair & Blue Eyes', 'Red Hair & Blue Eyes', 'Blond Hair & Blue Eyes', \n",
    "         'Black Hair & Hazel Eyes','Brown Hair & Hazel Eyes', 'Red Hair & Hazel Eyes', 'Blond Hair & Hazel Eyes',\n",
    "        'Black Hair & Green Eyes','Brown Hair & Green Eyes', 'Red Hair & Green Eyes', 'Blond Hair & Green Eyes']\n",
    "columns = ['Frequency of Male', 'Frequency of Female']\n",
    "feature_df = pd.DataFrame([[32, 36], [53, 66], [10, 16], [3, 4], [11, 9], [50, 34], [10, 7], [30, 64],\n",
    "                        [10, 5], [25, 29], [7, 7], [5, 5], [3, 2], [15, 14], [7, 7], [8, 8]],\n",
    "                        index=index, columns=columns)\n",
    "feature_df"
   ]
  },
  {
   "cell_type": "code",
   "execution_count": 300,
   "id": "74fabc2c-c434-4383-979e-4a59922b6118",
   "metadata": {
    "tags": []
   },
   "outputs": [],
   "source": [
    "colored_eyes_df = feature_df[~feature_df.index.str.endswith('Brown Eyes')]"
   ]
  },
  {
   "cell_type": "code",
   "execution_count": 301,
   "id": "f7157807-1dfa-43eb-969f-ebace622cc16",
   "metadata": {
    "tags": []
   },
   "outputs": [
    {
     "data": {
      "text/html": [
       "<div>\n",
       "<style scoped>\n",
       "    .dataframe tbody tr th:only-of-type {\n",
       "        vertical-align: middle;\n",
       "    }\n",
       "\n",
       "    .dataframe tbody tr th {\n",
       "        vertical-align: top;\n",
       "    }\n",
       "\n",
       "    .dataframe thead th {\n",
       "        text-align: right;\n",
       "    }\n",
       "</style>\n",
       "<table border=\"1\" class=\"dataframe\">\n",
       "  <thead>\n",
       "    <tr style=\"text-align: right;\">\n",
       "      <th></th>\n",
       "      <th>Frequency of Male</th>\n",
       "      <th>Frequency of Female</th>\n",
       "    </tr>\n",
       "  </thead>\n",
       "  <tbody>\n",
       "    <tr>\n",
       "      <th>Black Hair &amp; Blue Eyes</th>\n",
       "      <td>11</td>\n",
       "      <td>9</td>\n",
       "    </tr>\n",
       "    <tr>\n",
       "      <th>Brown Hair &amp; Blue Eyes</th>\n",
       "      <td>50</td>\n",
       "      <td>34</td>\n",
       "    </tr>\n",
       "    <tr>\n",
       "      <th>Red Hair &amp; Blue Eyes</th>\n",
       "      <td>10</td>\n",
       "      <td>7</td>\n",
       "    </tr>\n",
       "    <tr>\n",
       "      <th>Blond Hair &amp; Blue Eyes</th>\n",
       "      <td>30</td>\n",
       "      <td>64</td>\n",
       "    </tr>\n",
       "    <tr>\n",
       "      <th>Black Hair &amp; Hazel Eyes</th>\n",
       "      <td>10</td>\n",
       "      <td>5</td>\n",
       "    </tr>\n",
       "    <tr>\n",
       "      <th>Brown Hair &amp; Hazel Eyes</th>\n",
       "      <td>25</td>\n",
       "      <td>29</td>\n",
       "    </tr>\n",
       "    <tr>\n",
       "      <th>Red Hair &amp; Hazel Eyes</th>\n",
       "      <td>7</td>\n",
       "      <td>7</td>\n",
       "    </tr>\n",
       "    <tr>\n",
       "      <th>Blond Hair &amp; Hazel Eyes</th>\n",
       "      <td>5</td>\n",
       "      <td>5</td>\n",
       "    </tr>\n",
       "    <tr>\n",
       "      <th>Black Hair &amp; Green Eyes</th>\n",
       "      <td>3</td>\n",
       "      <td>2</td>\n",
       "    </tr>\n",
       "    <tr>\n",
       "      <th>Brown Hair &amp; Green Eyes</th>\n",
       "      <td>15</td>\n",
       "      <td>14</td>\n",
       "    </tr>\n",
       "    <tr>\n",
       "      <th>Red Hair &amp; Green Eyes</th>\n",
       "      <td>7</td>\n",
       "      <td>7</td>\n",
       "    </tr>\n",
       "    <tr>\n",
       "      <th>Blond Hair &amp; Green Eyes</th>\n",
       "      <td>8</td>\n",
       "      <td>8</td>\n",
       "    </tr>\n",
       "  </tbody>\n",
       "</table>\n",
       "</div>"
      ],
      "text/plain": [
       "                         Frequency of Male  Frequency of Female\n",
       "Black Hair & Blue Eyes                  11                    9\n",
       "Brown Hair & Blue Eyes                  50                   34\n",
       "Red Hair & Blue Eyes                    10                    7\n",
       "Blond Hair & Blue Eyes                  30                   64\n",
       "Black Hair & Hazel Eyes                 10                    5\n",
       "Brown Hair & Hazel Eyes                 25                   29\n",
       "Red Hair & Hazel Eyes                    7                    7\n",
       "Blond Hair & Hazel Eyes                  5                    5\n",
       "Black Hair & Green Eyes                  3                    2\n",
       "Brown Hair & Green Eyes                 15                   14\n",
       "Red Hair & Green Eyes                    7                    7\n",
       "Blond Hair & Green Eyes                  8                    8"
      ]
     },
     "execution_count": 301,
     "metadata": {},
     "output_type": "execute_result"
    }
   ],
   "source": [
    "colored_eyes_df"
   ]
  },
  {
   "cell_type": "code",
   "execution_count": 261,
   "id": "1eaf6c5f-2673-4c40-80e0-6d130d399805",
   "metadata": {
    "tags": []
   },
   "outputs": [
    {
     "data": {
      "text/plain": [
       "279"
      ]
     },
     "execution_count": 261,
     "metadata": {},
     "output_type": "execute_result"
    }
   ],
   "source": [
    "chi2, p, degf, expected = stats.chi2_contingency(observed)\n"
   ]
  },
  {
   "cell_type": "markdown",
   "id": "8b33c7b3-ecad-4386-89aa-d5cab2ab6b0d",
   "metadata": {},
   "source": [
    "### χ$^2$ Test\n",
    "\n",
    "H$_0$ = Having colored eyes (not brown) is independent of gender.\n",
    "\n",
    "H$_α$ = Having colored eyes (not brown) is dependent of gender."
   ]
  },
  {
   "cell_type": "code",
   "execution_count": null,
   "id": "11aa7f59-6a76-4067-b6f7-1a1531c1b379",
   "metadata": {},
   "outputs": [],
   "source": []
  },
  {
   "cell_type": "markdown",
   "id": "78019948-d1dc-4036-ac99-be059e82bfd5",
   "metadata": {},
   "source": [
    "### T-Test\n",
    "\n",
    "H$_0$ = Average frequency of colored eyes (not brown) in women is <= Average frequency of colored eyes (not brown) in men\n",
    "\n",
    "H$_α$ = Average frequency of colored eyes (not brown) in women is > Average frequency of colored eyes (not brown) in men"
   ]
  },
  {
   "cell_type": "code",
   "execution_count": 303,
   "id": "a0cb8c88-09f3-451e-b53b-77148479c2bb",
   "metadata": {
    "tags": []
   },
   "outputs": [],
   "source": [
    "α = .05"
   ]
  },
  {
   "cell_type": "code",
   "execution_count": 302,
   "id": "99f7ec98-a57b-4793-b2bf-e495f6ca86f6",
   "metadata": {
    "tags": []
   },
   "outputs": [
    {
     "data": {
      "text/plain": [
       "(-0.12757947850111193, 0.8997288355378145)"
      ]
     },
     "execution_count": 302,
     "metadata": {},
     "output_type": "execute_result"
    }
   ],
   "source": [
    "t, p = stats.ttest_ind(colored_eyes_df['Frequency of Male'], colored_eyes_df['Frequency of Female'], equal_var=False)\n",
    "t, p"
   ]
  },
  {
   "cell_type": "code",
   "execution_count": 305,
   "id": "ff23351d-7e23-4ca4-a050-853acd699cde",
   "metadata": {
    "tags": []
   },
   "outputs": [
    {
     "name": "stdout",
     "output_type": "stream",
     "text": [
      "We fail to reject the null hypothesis\n"
     ]
    }
   ],
   "source": [
    "if p / 2 > α:\n",
    "    print(\"We fail to reject the null hypothesis\")\n",
    "elif t < 0:\n",
    "    print(\"We fail to reject the null hypothesis\")\n",
    "else:\n",
    "    print(\"We reject the null hypothesis\")"
   ]
  }
 ],
 "metadata": {
  "kernelspec": {
   "display_name": "Python 3 (ipykernel)",
   "language": "python",
   "name": "python3"
  },
  "language_info": {
   "codemirror_mode": {
    "name": "ipython",
    "version": 3
   },
   "file_extension": ".py",
   "mimetype": "text/x-python",
   "name": "python",
   "nbconvert_exporter": "python",
   "pygments_lexer": "ipython3",
   "version": "3.11.3"
  }
 },
 "nbformat": 4,
 "nbformat_minor": 5
}
