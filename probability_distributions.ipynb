{
 "cells": [
  {
   "cell_type": "code",
   "execution_count": 76,
   "id": "04d126ac-ed83-45b7-a4dd-a1f16fba272b",
   "metadata": {},
   "outputs": [],
   "source": [
    "#cdf can be fed a list of values\n",
    "#.cdf([x1.x2])"
   ]
  },
  {
   "cell_type": "code",
   "execution_count": 77,
   "id": "2c12479b-fe8d-4f90-90fc-50f3eb8a433b",
   "metadata": {},
   "outputs": [],
   "source": [
    "import matplotlib.pyplot as plt\n",
    "from scipy import stats\n",
    "import pandas as pd\n",
    "import env\n",
    "url = f'mysql+pymysql://{env.user}:{env.password}@{env.host}/employees'"
   ]
  },
  {
   "cell_type": "markdown",
   "id": "be7e08d4-5c8a-4811-80f1-97afe9006562",
   "metadata": {},
   "source": [
    "## For the following problems, use python to simulate the problem and calculate an experimental probability, then compare that to the theoretical probability."
   ]
  },
  {
   "cell_type": "markdown",
   "id": "5140c64e-5bd7-4edc-a22d-db1def3d6ffe",
   "metadata": {},
   "source": [
    "### 1. A bank found that the average number of cars waiting during the noon hour at a drive-up window follows a Poisson distribution with a mean of 2 cars. Make a chart of this distribution and answer these questions concerning the probability of cars waiting at the drive-up window.\n",
    "- What is the probability that no cars drive up in the noon hour?\n",
    "- What is the probability that 3 or more cars come through the drive through?\n",
    "- How likely is it that the drive through gets at least 1 car?"
   ]
  },
  {
   "cell_type": "code",
   "execution_count": null,
   "id": "bcb19ccc-914f-4e49-be00-6cf503ea995d",
   "metadata": {},
   "outputs": [],
   "source": [
    "car_dist = stats.poisson(2)\n",
    "domain = [n for n in range(13)]\n",
    "prob = [car_dist.pmf()]"
   ]
  },
  {
   "cell_type": "code",
   "execution_count": 243,
   "id": "1770e50d-6c5b-4133-b0ee-0f3afda916b2",
   "metadata": {},
   "outputs": [
    {
     "name": "stdout",
     "output_type": "stream",
     "text": [
      "13.53 is the probability that no cars drive up in the noon hour.\n"
     ]
    }
   ],
   "source": [
    "no_cars = round(stats.poisson(2).pmf(0)*100,2)\n",
    "print(f'{no_cars} is the probability that no cars drive up in the noon hour.')"
   ]
  },
  {
   "cell_type": "code",
   "execution_count": 244,
   "id": "da1add99-0fbe-4e88-81c7-3df93b7fef28",
   "metadata": {
    "tags": []
   },
   "outputs": [
    {
     "name": "stdout",
     "output_type": "stream",
     "text": [
      "32.33 is the probability that 3 or more cars come through the drive through\n"
     ]
    }
   ],
   "source": [
    "three_or_more = round(stats.poisson(2).sf(2)*100,2)\n",
    "print(f'{three_or_more} is the probability that 3 or more cars come through the drive through')"
   ]
  },
  {
   "cell_type": "code",
   "execution_count": 245,
   "id": "2802081c-dce2-40bc-be74-911e199ba5ef",
   "metadata": {
    "tags": []
   },
   "outputs": [
    {
     "name": "stdout",
     "output_type": "stream",
     "text": [
      "40.6 is the probability that the drive through gets at least 1 car\n"
     ]
    }
   ],
   "source": [
    "at_least_one = round(stats.poisson(2).cdf(1)*100,2)\n",
    "print(f'{at_least_one} is the probability that the drive through gets at least 1 car')"
   ]
  },
  {
   "cell_type": "markdown",
   "id": "f41cee92-e143-4fcc-a7a2-b76e5e5d27a3",
   "metadata": {},
   "source": [
    "### 2. Grades of State University graduates are normally distributed with a mean of 3.0 and a standard deviation of .3. Calculate the following:\n",
    "- a. What grade point average is required to be in the top 5% of the graduating class?\n",
    "- b. What GPA constitutes the bottom 15% of the class?\n",
    "- c. An eccentric alumnus left scholarship money for students in the third decile from the bottom of their class. Determine the range of the third decile. Would a student with a 2.8 grade point average qualify for this scholarship?\n",
    "- d. If I have a GPA of 3.5, what percentile am I in?"
   ]
  },
  {
   "cell_type": "code",
   "execution_count": 81,
   "id": "44672089-0890-44c1-9092-fd00f875c752",
   "metadata": {},
   "outputs": [],
   "source": [
    "grad_grade = stats.norm(3,.3)"
   ]
  },
  {
   "cell_type": "code",
   "execution_count": 82,
   "id": "aeac8aed-3afb-434a-a3aa-710734bb68a4",
   "metadata": {
    "tags": []
   },
   "outputs": [
    {
     "data": {
      "text/plain": [
       "3.49"
      ]
     },
     "execution_count": 82,
     "metadata": {},
     "output_type": "execute_result"
    }
   ],
   "source": [
    "round(grad_grade.isf(0.05),2)"
   ]
  },
  {
   "cell_type": "code",
   "execution_count": 83,
   "id": "5fb811c9-f978-4e83-bbb9-fce9993d6ba7",
   "metadata": {
    "tags": []
   },
   "outputs": [
    {
     "data": {
      "text/plain": [
       "2.69"
      ]
     },
     "execution_count": 83,
     "metadata": {},
     "output_type": "execute_result"
    }
   ],
   "source": [
    "round(grad_grade.ppf(.15),2)"
   ]
  },
  {
   "cell_type": "code",
   "execution_count": 248,
   "id": "4cda101c-4086-471d-abaa-29f2ede43388",
   "metadata": {
    "tags": []
   },
   "outputs": [
    {
     "data": {
      "text/plain": [
       "True"
      ]
     },
     "execution_count": 248,
     "metadata": {},
     "output_type": "execute_result"
    }
   ],
   "source": [
    "gpa_cap_of_third_decile = round(grad_grade.ppf(0.3),2)\n",
    "gpa_cap_of_third_decile > 2.8\n",
    "# yes the student would qualify"
   ]
  },
  {
   "cell_type": "code",
   "execution_count": 85,
   "id": "965ac1da-b2ac-4e5f-984a-37fae73bf1dc",
   "metadata": {
    "tags": []
   },
   "outputs": [
    {
     "data": {
      "text/plain": [
       "4.78"
      ]
     },
     "execution_count": 85,
     "metadata": {},
     "output_type": "execute_result"
    }
   ],
   "source": [
    "round(grad_grade.sf(3.5)*100,2)"
   ]
  },
  {
   "cell_type": "markdown",
   "id": "db2f7b36-4409-4a9b-a415-e6c1d1f964c5",
   "metadata": {},
   "source": [
    "### 3. A marketing website has an average click-through rate of 2%. One day they observe 4326 visitors and 97 click-throughs. How likely is it that this many people or more click through?"
   ]
  },
  {
   "cell_type": "code",
   "execution_count": 86,
   "id": "28e665c1-b261-4c1e-992b-2b87e8a6fc0e",
   "metadata": {},
   "outputs": [],
   "source": [
    "click_through_count = stats.binom(4326,.02)"
   ]
  },
  {
   "cell_type": "code",
   "execution_count": 251,
   "id": "84978537-15f0-4c5c-a419-2ef816168531",
   "metadata": {
    "tags": []
   },
   "outputs": [
    {
     "data": {
      "text/plain": [
       "2.19"
      ]
     },
     "execution_count": 251,
     "metadata": {},
     "output_type": "execute_result"
    }
   ],
   "source": [
    "round(click_through_count.pmf(97)*100,2)"
   ]
  },
  {
   "cell_type": "code",
   "execution_count": 87,
   "id": "8fac42fd-6df1-4cfe-ba80-4e8f2c7b0944",
   "metadata": {
    "tags": []
   },
   "outputs": [
    {
     "data": {
      "text/plain": [
       "13.98"
      ]
     },
     "execution_count": 87,
     "metadata": {},
     "output_type": "execute_result"
    }
   ],
   "source": [
    "round(click_through_count.sf(96)*100,2)"
   ]
  },
  {
   "cell_type": "markdown",
   "id": "50a0793b-d0a2-4d61-979e-8b506eb72cc5",
   "metadata": {},
   "source": [
    "### 4. You are working on some statistics homework consisting of 100 questions where all of the answers are a probability rounded to the hundreths place. Looking to save time, you put down random probabilities as the answer to each question.\n",
    "- What is the probability that at least one of your first 60 answers is correct?"
   ]
  },
  {
   "cell_type": "code",
   "execution_count": 252,
   "id": "81c4737b-5c42-439a-9c9a-993a195c00aa",
   "metadata": {
    "tags": []
   },
   "outputs": [],
   "source": [
    "random_answers = stats.binom(60,.01)"
   ]
  },
  {
   "cell_type": "code",
   "execution_count": 253,
   "id": "5d3063bd-6921-4f8d-8c9a-56d1402b6031",
   "metadata": {
    "tags": []
   },
   "outputs": [
    {
     "data": {
      "text/plain": [
       "45.28"
      ]
     },
     "execution_count": 253,
     "metadata": {},
     "output_type": "execute_result"
    }
   ],
   "source": [
    "round(random_answers.sf(0)*100,2)"
   ]
  },
  {
   "cell_type": "markdown",
   "id": "1218bb36-aa99-44aa-a6eb-bd5225c8671a",
   "metadata": {},
   "source": [
    "### 5. The codeup staff tends to get upset when the student break area is not cleaned up. Suppose that there's a 3% chance that any one student cleans the break area when they visit it, and, on any given day, about 90% of the 3 active cohorts of 22 students visit the break area. How likely is it that the break area gets cleaned up each day? How likely is it that it goes two days without getting cleaned up? All week?"
   ]
  },
  {
   "cell_type": "code",
   "execution_count": 254,
   "id": "950b4ab5-ecca-48b0-85d5-ec82d707d4b5",
   "metadata": {},
   "outputs": [],
   "source": [
    "students = round(((22*3)*.9))\n",
    "clean_chance = stats.binom(students,.03)\n",
    "clean_chance_two_days = stats.binom(students*2,.03)\n",
    "clean_chance_one_week = stats.binom(students*5,.03)"
   ]
  },
  {
   "cell_type": "code",
   "execution_count": 222,
   "id": "38518040-bccd-4a9c-8555-45d6475d997a",
   "metadata": {
    "tags": []
   },
   "outputs": [],
   "source": [
    "one_day_chance = round(clean_chance.sf(0)*100,2)"
   ]
  },
  {
   "cell_type": "code",
   "execution_count": 223,
   "id": "ef420901-8de2-4d6a-ae02-4cb776b183aa",
   "metadata": {
    "tags": []
   },
   "outputs": [
    {
     "name": "stdout",
     "output_type": "stream",
     "text": [
      "There is a 83.42% chance  of the room being cleaned every day.\n"
     ]
    }
   ],
   "source": [
    "print(f'There is a {one_day_chance}% chance  of the room being cleaned every day.')"
   ]
  },
  {
   "cell_type": "code",
   "execution_count": 224,
   "id": "0a1474b7-b3d1-4c38-b1ec-cc51d0ea8adc",
   "metadata": {
    "tags": []
   },
   "outputs": [],
   "source": [
    "two_day_chance = round(clean_chance_two_days.cdf(0)*100,2)"
   ]
  },
  {
   "cell_type": "code",
   "execution_count": 225,
   "id": "13996e10-9bd1-433a-80ac-34dcac536ee4",
   "metadata": {
    "tags": []
   },
   "outputs": [
    {
     "name": "stdout",
     "output_type": "stream",
     "text": [
      "There is a 2.75% chance of the room not being cleaned for two days in a row.\n"
     ]
    }
   ],
   "source": [
    "print(f'There is a {two_day_chance}% chance of the room not being cleaned for two days in a row.')"
   ]
  },
  {
   "cell_type": "code",
   "execution_count": 255,
   "id": "a66a7cd2-31d0-4261-8f87-13a494b4903e",
   "metadata": {
    "tags": []
   },
   "outputs": [],
   "source": [
    "one_week_chance = round(clean_chance_one_week.cdf(0)*100,5)"
   ]
  },
  {
   "cell_type": "code",
   "execution_count": 256,
   "id": "99e69687-945d-4438-8636-eec146086432",
   "metadata": {
    "tags": []
   },
   "outputs": [
    {
     "name": "stdout",
     "output_type": "stream",
     "text": [
      "There is a 0.01252% chance of the room not being cleaned for a week straight.\n"
     ]
    }
   ],
   "source": [
    "print(f'There is a {one_week_chance}% chance of the room not being cleaned for a week straight.')"
   ]
  },
  {
   "cell_type": "markdown",
   "id": "1eac1c8a-2480-42e9-8894-340cbde56048",
   "metadata": {},
   "source": [
    "### 6. You want to get lunch at La Panaderia, but notice that the line is usually very long at lunchtime. After several weeks of careful observation, you notice that the average number of people in line when your lunch break starts is normally distributed with a mean of 15 and standard deviation of 3. If it takes 2 minutes for each person to order, and 10 minutes from ordering to getting your food, what is the likelihood that you have at least 15 minutes left to eat your food before you have to go back to class? Assume you have one hour for lunch, and ignore travel time to and from La Panaderia."
   ]
  },
  {
   "cell_type": "code",
   "execution_count": 242,
   "id": "ec86902f-879a-4bf3-b736-35cb62eac8ed",
   "metadata": {},
   "outputs": [
    {
     "name": "stdout",
     "output_type": "stream",
     "text": [
      "We would have about a 63% chance(63.06% to be exact) of having at least 15 minutes to eat.\n"
     ]
    }
   ],
   "source": [
    "average_line = stats.norm(15,3)\n",
    "#if 16 people order before you, thats 32 minutes\n",
    "#plus your order time and the additional 10 minute wait brings total time to 44 minutes\n",
    "#so if even 17 people are in line, not including you, you won't have 15 minutes to eat.\n",
    "#i want the opposite of the chance of 16 people to be in line\n",
    "time_to_eat = round((average_line.cdf(16))*100,2)\n",
    "time_to_eat_est = round((average_line.cdf(16))*100)\n",
    "print(f'We would have about a {time_to_eat_est}% chance({time_to_eat}% to be exact) of having at least 15 minutes to eat.')\n",
    "#if I determined this correctly, based off of the normal distribution we have, you have about a 63% chance of having at least 15 minutes to eat."
   ]
  },
  {
   "cell_type": "code",
   "execution_count": 263,
   "id": "13b7f503-5043-4363-9c47-5257bf4ca742",
   "metadata": {
    "tags": []
   },
   "outputs": [
    {
     "data": {
      "text/plain": [
       "0.6914624612740131"
      ]
     },
     "execution_count": 263,
     "metadata": {},
     "output_type": "execute_result"
    }
   ],
   "source": [
    "pan = stats.norm((15*2), (3*2))\n",
    "lunch = 60\n",
    "time_waiting = 10\n",
    "time_ordering = 2\n",
    "time_bank = lunch - time_waiting - time_ordering\n",
    "time_bank = time_bank - 15\n",
    "pan.cdf(time_bank)"
   ]
  },
  {
   "cell_type": "markdown",
   "id": "0938a8f0-07db-431b-97c5-fc9328d50f75",
   "metadata": {},
   "source": [
    "### 7. Connect to the employees database and find the average salary of current employees, along with the standard deviation. For the following questions, calculate the answer based on modeling the employees salaries with a normal distribution defined by the calculated mean and standard deviation then compare this answer to the actual values present in the salaries dataset.\n",
    "- What percent of employees earn less than 60,000?\n",
    "- What percent of employees earn more than 95,000?\n",
    "- What percent of employees earn between 65,000 and 80,000?\n",
    "- What do the top 5% of employees make?"
   ]
  },
  {
   "cell_type": "code",
   "execution_count": 266,
   "id": "bcf4d82f-0e2c-4e46-a862-a5ae4eb2f44d",
   "metadata": {},
   "outputs": [],
   "source": [
    "df = pd.read_sql('SELECT * FROM salaries WHERE to_date > now()', url)"
   ]
  },
  {
   "cell_type": "code",
   "execution_count": 267,
   "id": "c47724bb-5b3c-46bd-819b-5a68ee4fa52d",
   "metadata": {
    "tags": []
   },
   "outputs": [],
   "source": [
    "salary_std = df.describe()['salary']['std']"
   ]
  },
  {
   "cell_type": "code",
   "execution_count": 268,
   "id": "c9220392-1006-4743-b899-0f926d553650",
   "metadata": {
    "tags": []
   },
   "outputs": [],
   "source": [
    "salary_mean = df.describe()['salary']['mean']"
   ]
  },
  {
   "cell_type": "code",
   "execution_count": 269,
   "id": "11f1fce5-7a82-4505-949c-76f5fba1027f",
   "metadata": {
    "tags": []
   },
   "outputs": [
    {
     "data": {
      "text/plain": [
       "17309.99538025198"
      ]
     },
     "execution_count": 269,
     "metadata": {},
     "output_type": "execute_result"
    }
   ],
   "source": [
    "salary_std"
   ]
  },
  {
   "cell_type": "code",
   "execution_count": 270,
   "id": "cd0614e9-5a34-4ff9-ab48-ebf9c37e832f",
   "metadata": {
    "tags": []
   },
   "outputs": [
    {
     "data": {
      "text/plain": [
       "72012.23585730705"
      ]
     },
     "execution_count": 270,
     "metadata": {},
     "output_type": "execute_result"
    }
   ],
   "source": [
    "salary_mean"
   ]
  },
  {
   "cell_type": "code",
   "execution_count": 271,
   "id": "e3337d65-89f0-4ccf-b2eb-feecba3f6bcd",
   "metadata": {
    "tags": []
   },
   "outputs": [],
   "source": [
    "norm_salary = stats.norm(salary_mean,salary_std)"
   ]
  },
  {
   "cell_type": "code",
   "execution_count": 272,
   "id": "d70a7510-4a7e-43c8-b583-e868a132a83f",
   "metadata": {
    "tags": []
   },
   "outputs": [
    {
     "name": "stdout",
     "output_type": "stream",
     "text": [
      "24.39% of employees earn less than 60,000.\n"
     ]
    }
   ],
   "source": [
    "less_than_60 = round(norm_salary.cdf(60_000)*100,2)\n",
    "print(f'{less_than_60}% of employees earn less than 60,000.')"
   ]
  },
  {
   "cell_type": "code",
   "execution_count": 276,
   "id": "5d07c9d2-3d79-4a06-b26b-ea19e4e5fe75",
   "metadata": {
    "tags": []
   },
   "outputs": [
    {
     "name": "stdout",
     "output_type": "stream",
     "text": [
      "9.21% of employees earn more than 95,000\n"
     ]
    }
   ],
   "source": [
    "more_than_95 = round(norm_salary.sf(95_000)*100,2)\n",
    "print(f'{more_than_95}% of employees earn more than 95,000')"
   ]
  },
  {
   "cell_type": "code",
   "execution_count": 287,
   "id": "75645ef4-5360-4272-adf1-8af82a1c7240",
   "metadata": {
    "tags": []
   },
   "outputs": [],
   "source": [
    "low,high = norm_salary.cdf([65000,80000])\n",
    "between_65_and_80 = round((high - low)*100,2)"
   ]
  },
  {
   "cell_type": "code",
   "execution_count": 288,
   "id": "82ff8c01-e95d-4bfc-8b25-0dfd6cda239b",
   "metadata": {
    "tags": []
   },
   "outputs": [
    {
     "name": "stdout",
     "output_type": "stream",
     "text": [
      "33.51% of employees earn between 65,000 and 80,000\n"
     ]
    }
   ],
   "source": [
    "print(f'{between_65_and_80}% of employees earn between 65,000 and 80,000')"
   ]
  },
  {
   "cell_type": "code",
   "execution_count": 275,
   "id": "64162ffb-0b2b-4d17-8dee-d7b119bda500",
   "metadata": {
    "tags": []
   },
   "outputs": [
    {
     "name": "stdout",
     "output_type": "stream",
     "text": [
      "The top 5% of employees make at least $100484.64\n"
     ]
    }
   ],
   "source": [
    "top_five = round(norm_salary.isf(.05),2)\n",
    "print(f'The top 5% of employees make at least ${top_five}')"
   ]
  }
 ],
 "metadata": {
  "kernelspec": {
   "display_name": "Python 3 (ipykernel)",
   "language": "python",
   "name": "python3"
  },
  "language_info": {
   "codemirror_mode": {
    "name": "ipython",
    "version": 3
   },
   "file_extension": ".py",
   "mimetype": "text/x-python",
   "name": "python",
   "nbconvert_exporter": "python",
   "pygments_lexer": "ipython3",
   "version": "3.11.3"
  }
 },
 "nbformat": 4,
 "nbformat_minor": 5
}
